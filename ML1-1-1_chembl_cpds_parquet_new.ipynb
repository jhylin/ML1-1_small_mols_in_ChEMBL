{
  "cells": [
    {
      "cell_type": "raw",
      "metadata": {},
      "source": [
        "---\n",
        "title: Small molecules in ChEMBL database\n",
        "subtitle: Series 1.1.1 - Parquet file in Polars dataframe library (an update)\n",
        "author: Jennifer HY Lin\n",
        "date: 2023-1-4\n",
        "date-modified: last-modified\n",
        "draft: true\n",
        "categories:\n",
        "  - Machine learning projects\n",
        "  - Polars\n",
        "  - Python\n",
        "  - Jupyter\n",
        "  - ChEMBL database\n",
        "  - Cheminformatics\n",
        "---"
      ]
    },
    {
      "cell_type": "markdown",
      "metadata": {},
      "source": [
        "##### **Why revamping this post?**\n",
        "\n",
        "Three reasons for this: \n",
        "\n",
        "1. ChEMBL data downloaded straight from the ChEMBL database website is way too large to be uploaded to GitHub - this is one of my very early posts where ChEMBL is completely new to me at the time so I've downloaded the ChEMBL data without thinking too much, obviously there are other better and more reproducible ways to source ChEMBL data e.g. my more recent posts or through other ways in the literatures\n",
        "\n",
        "    Note: GitHub blocks files larger than 100 MiB, which is in mebibytes and equivalent to 1,048,576 bytes or 1.04858 MB ([reference](https://www.ibm.com/docs/en/storage-insights?topic=overview-units-measurement-storage-data)) - my bad before as I've read \"MiB\" as \"MB\" from this [GitHub doc](https://docs.github.com/en/repositories/working-with-files/managing-large-files/about-large-files-on-github)!\n",
        "\n",
        "2. Polars seems to be a bit more integrated with scikit-learn now so I'm wondering if Polars dataframe library can be used with scikit-learn solely (i.e. not using Pandas at all)\n",
        "\n",
        "3. This post is one of my earlier less mature posts (very embarrassing when I'm looking at it now...) so I just want to improve it a little at least\n",
        "\n",
        "<br>\n",
        "\n",
        "##### **Previous post updates**\n",
        "\n",
        "*Update on 19th April 2024 - Polars is currently more integrated with scikit-learn from version 1.4 (since January 2024), see this link re. [Polars output in set_output](https://scikit-learn.org/stable/auto_examples/release_highlights/plot_release_highlights_1_4_0.html#polars-output-in-set-output) for Polars dataframe outputs in scikit-learn, and also a few other Polars enhancements from release [version 1.4 changelog](https://scikit-learn.org/dev/whats_new/v1.4.html#).*\n",
        "\n",
        "*Update on 16th August 2023 - some code updates only, please always refer to [Polars API reference](https://docs.pola.rs/py-polars/html/reference/index.html) for most up-to-date code.*\n",
        "\n",
        "<br>\n",
        "\n",
        "##### **Background**\n",
        "\n",
        "This is the first part of the series of posts on building a logistic regression model by using scikit-learn with [Polars dataframe library](https://docs.pola.rs/) (note: the older version of this post also uses Pandas). Polars is a fast (or more commonly known as \"blazingly fast\") dataframe library that is written completely in Rust with a very light Python binding that is available for use in Python or Rust programming language. Here I'll be using Python throughout all posts in the series. \n",
        "\n",
        "This post will only focus on getting the small molecules data ready from ChEMBL database via a straight website download (not recommended if you're researching or doing virtual experiments that require a good level of data reproducibility, e.g. you'll need the version of data etc., this is however only a demonstration so I'll leave it as it is), and then convert the comma separated value (.csv) file into a parquet file (for better file compressions) in order to upload the data into GitHub. \n",
        "\n",
        "<br>\n",
        "\n",
        "##### **Install and import Polars**"
      ]
    },
    {
      "cell_type": "code",
      "execution_count": null,
      "metadata": {
        "vscode": {
          "languageId": "python"
        }
      },
      "outputs": [
        {
          "name": "stdout",
          "output_type": "stream",
          "text": [
            "--------Version info---------\n",
            "Polars:              1.6.0\n",
            "Index type:          UInt32\n",
            "Platform:            macOS-12.7.6-x86_64-i386-64bit\n",
            "Python:              3.11.0 (v3.11.0:deaf509e8f, Oct 24 2022, 14:43:23) [Clang 13.0.0 (clang-1300.0.29.30)]\n",
            "\n",
            "----Optional dependencies----\n",
            "adbc_driver_manager  <not installed>\n",
            "altair               5.4.1\n",
            "cloudpickle          <not installed>\n",
            "connectorx           <not installed>\n",
            "deltalake            <not installed>\n",
            "fastexcel            <not installed>\n",
            "fsspec               <not installed>\n",
            "gevent               <not installed>\n",
            "great_tables         <not installed>\n",
            "matplotlib           3.9.2\n",
            "nest_asyncio         1.6.0\n",
            "numpy                2.1.0\n",
            "openpyxl             <not installed>\n",
            "pandas               <not installed>\n",
            "pyarrow              17.0.0\n",
            "pydantic             <not installed>\n",
            "pyiceberg            <not installed>\n",
            "sqlalchemy           <not installed>\n",
            "torch                <not installed>\n",
            "xlsx2csv             <not installed>\n",
            "xlsxwriter           <not installed>\n"
          ]
        }
      ],
      "source": [
        "## To install Polars dataframe library (or install in virtual environments)\n",
        "#%pip install polars\n",
        "## Update Polars version\n",
        "#%pip install --upgrade polars\n",
        "\n",
        "import polars as pl\n",
        "pl.show_versions()"
      ]
    },
    {
      "cell_type": "markdown",
      "metadata": {},
      "source": [
        "<br>\n",
        "\n",
        "##### **Download dataset**\n",
        "\n",
        "The file being used here will be equivalent to a straight download from the home page of ChEMBL database, via clicking on the \"Distinct compounds\" (see the circled area in the image below). Options are available to download the files as .csv, .tsv or .sdf formats (located at the top right of the page).\n",
        "\n",
        "![Image adapted from ChEMBL database website at version 31](ChEMBL_cpds.jpg){fig-align=\"center\"}\n",
        "\n",
        "I'm reading the .csv file first to have an overall look at the data."
      ]
    },
    {
      "cell_type": "code",
      "execution_count": null,
      "metadata": {
        "vscode": {
          "languageId": "python"
        }
      },
      "outputs": [
        {
          "data": {
            "text/html": [
              "<div><style>\n",
              ".dataframe > thead > tr,\n",
              ".dataframe > tbody > tr {\n",
              "  text-align: right;\n",
              "  white-space: pre-wrap;\n",
              "}\n",
              "</style>\n",
              "<small>shape: (5, 1)</small><table border=\"1\" class=\"dataframe\"><thead><tr><th>ChEMBL ID&quot;;&quot;Name&quot;;&quot;Synonyms&quot;;&quot;Type&quot;;&quot;Max Phase&quot;;&quot;Molecular Weight&quot;;&quot;Targets&quot;;&quot;Bioactivities&quot;;&quot;AlogP&quot;;&quot;Polar Surface Area&quot;;&quot;HBA&quot;;&quot;HBD&quot;;&quot;#RO5 Violations&quot;;&quot;#Rotatable Bonds&quot;;&quot;Passes Ro3&quot;;&quot;QED Weighted&quot;;&quot;CX Acidic pKa&quot;;&quot;CX Basic pKa&quot;;&quot;CX LogP&quot;;&quot;CX LogD&quot;;&quot;Aromatic Rings&quot;;&quot;Structure Type&quot;;&quot;Inorganic Flag&quot;;&quot;Heavy Atoms&quot;;&quot;HBA (Lipinski)&quot;;&quot;HBD (Lipinski)&quot;;&quot;#RO5 Violations (Lipinski)&quot;;&quot;Molecular Weight (Monoisotopic)&quot;;&quot;Molecular Species&quot;;&quot;Molecular Formula&quot;;&quot;Smiles&quot;;&quot;Inchi Key</th></tr><tr><td>str</td></tr></thead><tbody><tr><td>&quot;CHEMBL1206185;&quot;;&quot;;Small molecu…</td></tr><tr><td>&quot;CHEMBL539070;&quot;;&quot;;Small molecul…</td></tr><tr><td>&quot;CHEMBL3335528;&quot;;&quot;;Small molecu…</td></tr><tr><td>&quot;CHEMBL2419030;&quot;;&quot;;Small molecu…</td></tr><tr><td>&quot;CHEMBL4301448;&quot;;&quot;;Small molecu…</td></tr></tbody></table></div>"
            ],
            "text/plain": [
              "shape: (5, 1)\n",
              "┌─────────────────────────────────┐\n",
              "│ ChEMBL ID\";\"Name\";\"Synonyms\";\"… │\n",
              "│ ---                             │\n",
              "│ str                             │\n",
              "╞═════════════════════════════════╡\n",
              "│ CHEMBL1206185;\";\";Small molecu… │\n",
              "│ CHEMBL539070;\";\";Small molecul… │\n",
              "│ CHEMBL3335528;\";\";Small molecu… │\n",
              "│ CHEMBL2419030;\";\";Small molecu… │\n",
              "│ CHEMBL4301448;\";\";Small molecu… │\n",
              "└─────────────────────────────────┘"
            ]
          },
          "execution_count": 35,
          "metadata": {},
          "output_type": "execute_result"
        }
      ],
      "source": [
        "df = pl.read_csv(\"chembl_mols.csv\")\n",
        "df.head()"
      ]
    },
    {
      "cell_type": "markdown",
      "metadata": {},
      "source": [
        "<br>\n",
        "\n",
        "##### **Some data wrangling and converting a csv file into a parquet file**\n",
        "\n",
        "A .csv file tends to be separated by delimiters e.g. commas, semicolons or tabs. To read it properly, we can add a delimiter term in the code to transform the dataframe into a more readable format.\n",
        "\n",
        "Another thing being added below is to deal with null values early - by filling in \"None\" and \"\" values in the dataframe as \"null\" first. This will save some hassles later on (I've encountered this problem when trying to convert column data types so found out this may be the best way to resolve it)."
      ]
    },
    {
      "cell_type": "code",
      "execution_count": null,
      "metadata": {
        "vscode": {
          "languageId": "python"
        }
      },
      "outputs": [
        {
          "data": {
            "text/html": [
              "<div><style>\n",
              ".dataframe > thead > tr,\n",
              ".dataframe > tbody > tr {\n",
              "  text-align: right;\n",
              "  white-space: pre-wrap;\n",
              "}\n",
              "</style>\n",
              "<small>shape: (5, 32)</small><table border=\"1\" class=\"dataframe\"><thead><tr><th>ChEMBL ID</th><th>Name</th><th>Synonyms</th><th>Type</th><th>Max Phase</th><th>Molecular Weight</th><th>Targets</th><th>Bioactivities</th><th>AlogP</th><th>Polar Surface Area</th><th>HBA</th><th>HBD</th><th>#RO5 Violations</th><th>#Rotatable Bonds</th><th>Passes Ro3</th><th>QED Weighted</th><th>CX Acidic pKa</th><th>CX Basic pKa</th><th>CX LogP</th><th>CX LogD</th><th>Aromatic Rings</th><th>Structure Type</th><th>Inorganic Flag</th><th>Heavy Atoms</th><th>HBA (Lipinski)</th><th>HBD (Lipinski)</th><th>#RO5 Violations (Lipinski)</th><th>Molecular Weight (Monoisotopic)</th><th>Molecular Species</th><th>Molecular Formula</th><th>Smiles</th><th>Inchi Key</th></tr><tr><td>str</td><td>str</td><td>str</td><td>str</td><td>i64</td><td>f64</td><td>i64</td><td>i64</td><td>f64</td><td>f64</td><td>i64</td><td>i64</td><td>i64</td><td>i64</td><td>str</td><td>f64</td><td>f64</td><td>f64</td><td>f64</td><td>f64</td><td>i64</td><td>str</td><td>i64</td><td>i64</td><td>i64</td><td>i64</td><td>i64</td><td>f64</td><td>str</td><td>str</td><td>str</td><td>str</td></tr></thead><tbody><tr><td>&quot;CHEMBL1206185&quot;</td><td>null</td><td>null</td><td>&quot;Small molecule&quot;</td><td>0</td><td>607.88</td><td>null</td><td>null</td><td>9.46</td><td>89.62</td><td>5</td><td>2</td><td>2</td><td>17</td><td>&quot;N&quot;</td><td>0.09</td><td>-1.91</td><td>8.38</td><td>9.4</td><td>9.36</td><td>3</td><td>&quot;MOL&quot;</td><td>-1</td><td>42</td><td>5</td><td>3</td><td>2</td><td>607.279</td><td>&quot;ACID&quot;</td><td>&quot;C35H45NO4S2&quot;</td><td>&quot;CCCCCCCCCCC#CC(N)c1ccccc1-c1cc…</td><td>&quot;UFBLKYIDZFRLPR-UHFFFAOYSA-N&quot;</td></tr><tr><td>&quot;CHEMBL539070&quot;</td><td>null</td><td>null</td><td>&quot;Small molecule&quot;</td><td>0</td><td>286.79</td><td>1</td><td>1</td><td>2.28</td><td>73.06</td><td>6</td><td>2</td><td>0</td><td>5</td><td>&quot;N&quot;</td><td>0.63</td><td>13.84</td><td>3.64</td><td>2.57</td><td>2.57</td><td>2</td><td>&quot;MOL&quot;</td><td>-1</td><td>17</td><td>5</td><td>3</td><td>0</td><td>250.0888</td><td>&quot;NEUTRAL&quot;</td><td>&quot;C11H15ClN4OS&quot;</td><td>&quot;CCCOc1ccccc1-c1nnc(NN)s1.Cl&quot;</td><td>&quot;WPEWNRKLKLNLSO-UHFFFAOYSA-N&quot;</td></tr><tr><td>&quot;CHEMBL3335528&quot;</td><td>null</td><td>null</td><td>&quot;Small molecule&quot;</td><td>0</td><td>842.8</td><td>2</td><td>6</td><td>0.18</td><td>269.57</td><td>18</td><td>5</td><td>2</td><td>17</td><td>&quot;N&quot;</td><td>0.09</td><td>3.2</td><td>null</td><td>3.31</td><td>-0.14</td><td>3</td><td>&quot;MOL&quot;</td><td>-1</td><td>60</td><td>19</td><td>5</td><td>2</td><td>842.2633</td><td>&quot;ACID&quot;</td><td>&quot;C41H46O19&quot;</td><td>&quot;COC(=O)[C@H](O[C@@H]1O[C@@H](C…</td><td>&quot;KGUJQZWYZPYYRZ-LWEWUKDVSA-N&quot;</td></tr><tr><td>&quot;CHEMBL2419030&quot;</td><td>null</td><td>null</td><td>&quot;Small molecule&quot;</td><td>0</td><td>359.33</td><td>4</td><td>4</td><td>3.94</td><td>85.13</td><td>6</td><td>1</td><td>0</td><td>3</td><td>&quot;N&quot;</td><td>0.66</td><td>null</td><td>null</td><td>3.66</td><td>3.66</td><td>2</td><td>&quot;MOL&quot;</td><td>-1</td><td>24</td><td>6</td><td>1</td><td>0</td><td>359.0551</td><td>&quot;NEUTRAL&quot;</td><td>&quot;C14H12F3N3O3S&quot;</td><td>&quot;O=c1nc(NC2CCCC2)sc2c([N+](=O)[…</td><td>&quot;QGDMYSDFCXOKML-UHFFFAOYSA-N&quot;</td></tr><tr><td>&quot;CHEMBL4301448&quot;</td><td>null</td><td>null</td><td>&quot;Small molecule&quot;</td><td>0</td><td>465.55</td><td>null</td><td>null</td><td>5.09</td><td>105.28</td><td>6</td><td>4</td><td>1</td><td>10</td><td>&quot;N&quot;</td><td>0.15</td><td>null</td><td>12.14</td><td>4.41</td><td>2.0</td><td>4</td><td>&quot;MOL&quot;</td><td>-1</td><td>33</td><td>7</td><td>5</td><td>1</td><td>465.1635</td><td>&quot;BASE&quot;</td><td>&quot;C24H24FN5O2S&quot;</td><td>&quot;N=C(N)NCCCOc1ccc(CNc2nc3ccc(Oc…</td><td>&quot;RXTJPHLPHOZLFS-UHFFFAOYSA-N&quot;</td></tr></tbody></table></div>"
            ],
            "text/plain": [
              "shape: (5, 32)\n",
              "┌────────────┬──────┬──────────┬────────────┬───┬────────────┬────────────┬────────────┬───────────┐\n",
              "│ ChEMBL ID  ┆ Name ┆ Synonyms ┆ Type       ┆ … ┆ Molecular  ┆ Molecular  ┆ Smiles     ┆ Inchi Key │\n",
              "│ ---        ┆ ---  ┆ ---      ┆ ---        ┆   ┆ Species    ┆ Formula    ┆ ---        ┆ ---       │\n",
              "│ str        ┆ str  ┆ str      ┆ str        ┆   ┆ ---        ┆ ---        ┆ str        ┆ str       │\n",
              "│            ┆      ┆          ┆            ┆   ┆ str        ┆ str        ┆            ┆           │\n",
              "╞════════════╪══════╪══════════╪════════════╪═══╪════════════╪════════════╪════════════╪═══════════╡\n",
              "│ CHEMBL1206 ┆ null ┆ null     ┆ Small      ┆ … ┆ ACID       ┆ C35H45NO4S ┆ CCCCCCCCCC ┆ UFBLKYIDZ │\n",
              "│ 185        ┆      ┆          ┆ molecule   ┆   ┆            ┆ 2          ┆ C#CC(N)c1c ┆ FRLPR-UHF │\n",
              "│            ┆      ┆          ┆            ┆   ┆            ┆            ┆ cccc1-c1cc ┆ FFAOYSA-N │\n",
              "│            ┆      ┆          ┆            ┆   ┆            ┆            ┆ …          ┆           │\n",
              "│ CHEMBL5390 ┆ null ┆ null     ┆ Small      ┆ … ┆ NEUTRAL    ┆ C11H15ClN4 ┆ CCCOc1cccc ┆ WPEWNRKLK │\n",
              "│ 70         ┆      ┆          ┆ molecule   ┆   ┆            ┆ OS         ┆ c1-c1nnc(N ┆ LNLSO-UHF │\n",
              "│            ┆      ┆          ┆            ┆   ┆            ┆            ┆ N)s1.Cl    ┆ FFAOYSA-N │\n",
              "│ CHEMBL3335 ┆ null ┆ null     ┆ Small      ┆ … ┆ ACID       ┆ C41H46O19  ┆ COC(=O)[C@ ┆ KGUJQZWYZ │\n",
              "│ 528        ┆      ┆          ┆ molecule   ┆   ┆            ┆            ┆ H](O[C@@H] ┆ PYYRZ-LWE │\n",
              "│            ┆      ┆          ┆            ┆   ┆            ┆            ┆ 1O[C@@H](C ┆ WUKDVSA-N │\n",
              "│            ┆      ┆          ┆            ┆   ┆            ┆            ┆ …          ┆           │\n",
              "│ CHEMBL2419 ┆ null ┆ null     ┆ Small      ┆ … ┆ NEUTRAL    ┆ C14H12F3N3 ┆ O=c1nc(NC2 ┆ QGDMYSDFC │\n",
              "│ 030        ┆      ┆          ┆ molecule   ┆   ┆            ┆ O3S        ┆ CCCC2)sc2c ┆ XOKML-UHF │\n",
              "│            ┆      ┆          ┆            ┆   ┆            ┆            ┆ ([N+](=O)[ ┆ FFAOYSA-N │\n",
              "│            ┆      ┆          ┆            ┆   ┆            ┆            ┆ …          ┆           │\n",
              "│ CHEMBL4301 ┆ null ┆ null     ┆ Small      ┆ … ┆ BASE       ┆ C24H24FN5O ┆ N=C(N)NCCC ┆ RXTJPHLPH │\n",
              "│ 448        ┆      ┆          ┆ molecule   ┆   ┆            ┆ 2S         ┆ Oc1ccc(CNc ┆ OZLFS-UHF │\n",
              "│            ┆      ┆          ┆            ┆   ┆            ┆            ┆ 2nc3ccc(Oc ┆ FFAOYSA-N │\n",
              "│            ┆      ┆          ┆            ┆   ┆            ┆            ┆ …          ┆           │\n",
              "└────────────┴──────┴──────────┴────────────┴───┴────────────┴────────────┴────────────┴───────────┘"
            ]
          },
          "execution_count": 36,
          "metadata": {},
          "output_type": "execute_result"
        }
      ],
      "source": [
        "df = pl.read_csv(\"chembl_mols.csv\", separator = \";\", null_values = [\"None\", \"\"])\n",
        "df.head()\n",
        "#df"
      ]
    },
    {
      "cell_type": "markdown",
      "metadata": {},
      "source": [
        "Below is a series of data checks and cleaning that'll reduce the original .csv file size (about 664.8 MB) into something more manageable. My goal is to get a parquet file under 104 MB which can then be uploaded to GitHub without using Git large file storage (this will be the last resort if this fails).\n",
        "\n",
        "I'm checking the \"Type\" column first."
      ]
    },
    {
      "cell_type": "code",
      "execution_count": null,
      "metadata": {
        "vscode": {
          "languageId": "python"
        }
      },
      "outputs": [
        {
          "data": {
            "text/html": [
              "<div><style>\n",
              ".dataframe > thead > tr,\n",
              ".dataframe > tbody > tr {\n",
              "  text-align: right;\n",
              "  white-space: pre-wrap;\n",
              "}\n",
              "</style>\n",
              "<small>shape: (11, 2)</small><table border=\"1\" class=\"dataframe\"><thead><tr><th>Type</th><th>len</th></tr><tr><td>str</td><td>u32</td></tr></thead><tbody><tr><td>&quot;Antibody&quot;</td><td>974</td></tr><tr><td>&quot;Protein&quot;</td><td>22682</td></tr><tr><td>&quot;Unclassified&quot;</td><td>4</td></tr><tr><td>&quot;Small molecule&quot;</td><td>1920366</td></tr><tr><td>&quot;Gene&quot;</td><td>77</td></tr><tr><td>&hellip;</td><td>&hellip;</td></tr><tr><td>&quot;Oligosaccharide&quot;</td><td>92</td></tr><tr><td>&quot;Enzyme&quot;</td><td>118</td></tr><tr><td>null</td><td>369155</td></tr><tr><td>&quot;Cell&quot;</td><td>47</td></tr><tr><td>&quot;Oligonucleotide&quot;</td><td>170</td></tr></tbody></table></div>"
            ],
            "text/plain": [
              "shape: (11, 2)\n",
              "┌─────────────────┬─────────┐\n",
              "│ Type            ┆ len     │\n",
              "│ ---             ┆ ---     │\n",
              "│ str             ┆ u32     │\n",
              "╞═════════════════╪═════════╡\n",
              "│ Antibody        ┆ 974     │\n",
              "│ Protein         ┆ 22682   │\n",
              "│ Unclassified    ┆ 4       │\n",
              "│ Small molecule  ┆ 1920366 │\n",
              "│ Gene            ┆ 77      │\n",
              "│ …               ┆ …       │\n",
              "│ Oligosaccharide ┆ 92      │\n",
              "│ Enzyme          ┆ 118     │\n",
              "│ null            ┆ 369155  │\n",
              "│ Cell            ┆ 47      │\n",
              "│ Oligonucleotide ┆ 170     │\n",
              "└─────────────────┴─────────┘"
            ]
          },
          "execution_count": 37,
          "metadata": {},
          "output_type": "execute_result"
        }
      ],
      "source": [
        "df.group_by(\"Type\").len()"
      ]
    },
    {
      "cell_type": "markdown",
      "metadata": {},
      "source": [
        "The dataframe is further reduced in size by filtering the data for small molecules only, which are what I aim to look at."
      ]
    },
    {
      "cell_type": "code",
      "execution_count": null,
      "metadata": {
        "vscode": {
          "languageId": "python"
        }
      },
      "outputs": [
        {
          "data": {
            "text/html": [
              "<div><style>\n",
              ".dataframe > thead > tr,\n",
              ".dataframe > tbody > tr {\n",
              "  text-align: right;\n",
              "  white-space: pre-wrap;\n",
              "}\n",
              "</style>\n",
              "<small>shape: (1_920_366, 32)</small><table border=\"1\" class=\"dataframe\"><thead><tr><th>ChEMBL ID</th><th>Name</th><th>Synonyms</th><th>Type</th><th>Max Phase</th><th>Molecular Weight</th><th>Targets</th><th>Bioactivities</th><th>AlogP</th><th>Polar Surface Area</th><th>HBA</th><th>HBD</th><th>#RO5 Violations</th><th>#Rotatable Bonds</th><th>Passes Ro3</th><th>QED Weighted</th><th>CX Acidic pKa</th><th>CX Basic pKa</th><th>CX LogP</th><th>CX LogD</th><th>Aromatic Rings</th><th>Structure Type</th><th>Inorganic Flag</th><th>Heavy Atoms</th><th>HBA (Lipinski)</th><th>HBD (Lipinski)</th><th>#RO5 Violations (Lipinski)</th><th>Molecular Weight (Monoisotopic)</th><th>Molecular Species</th><th>Molecular Formula</th><th>Smiles</th><th>Inchi Key</th></tr><tr><td>str</td><td>str</td><td>str</td><td>str</td><td>i64</td><td>f64</td><td>i64</td><td>i64</td><td>f64</td><td>f64</td><td>i64</td><td>i64</td><td>i64</td><td>i64</td><td>str</td><td>f64</td><td>f64</td><td>f64</td><td>f64</td><td>f64</td><td>i64</td><td>str</td><td>i64</td><td>i64</td><td>i64</td><td>i64</td><td>i64</td><td>f64</td><td>str</td><td>str</td><td>str</td><td>str</td></tr></thead><tbody><tr><td>&quot;CHEMBL1206185&quot;</td><td>null</td><td>null</td><td>&quot;Small molecule&quot;</td><td>0</td><td>607.88</td><td>null</td><td>null</td><td>9.46</td><td>89.62</td><td>5</td><td>2</td><td>2</td><td>17</td><td>&quot;N&quot;</td><td>0.09</td><td>-1.91</td><td>8.38</td><td>9.4</td><td>9.36</td><td>3</td><td>&quot;MOL&quot;</td><td>-1</td><td>42</td><td>5</td><td>3</td><td>2</td><td>607.279</td><td>&quot;ACID&quot;</td><td>&quot;C35H45NO4S2&quot;</td><td>&quot;CCCCCCCCCCC#CC(N)c1ccccc1-c1cc…</td><td>&quot;UFBLKYIDZFRLPR-UHFFFAOYSA-N&quot;</td></tr><tr><td>&quot;CHEMBL539070&quot;</td><td>null</td><td>null</td><td>&quot;Small molecule&quot;</td><td>0</td><td>286.79</td><td>1</td><td>1</td><td>2.28</td><td>73.06</td><td>6</td><td>2</td><td>0</td><td>5</td><td>&quot;N&quot;</td><td>0.63</td><td>13.84</td><td>3.64</td><td>2.57</td><td>2.57</td><td>2</td><td>&quot;MOL&quot;</td><td>-1</td><td>17</td><td>5</td><td>3</td><td>0</td><td>250.0888</td><td>&quot;NEUTRAL&quot;</td><td>&quot;C11H15ClN4OS&quot;</td><td>&quot;CCCOc1ccccc1-c1nnc(NN)s1.Cl&quot;</td><td>&quot;WPEWNRKLKLNLSO-UHFFFAOYSA-N&quot;</td></tr><tr><td>&quot;CHEMBL3335528&quot;</td><td>null</td><td>null</td><td>&quot;Small molecule&quot;</td><td>0</td><td>842.8</td><td>2</td><td>6</td><td>0.18</td><td>269.57</td><td>18</td><td>5</td><td>2</td><td>17</td><td>&quot;N&quot;</td><td>0.09</td><td>3.2</td><td>null</td><td>3.31</td><td>-0.14</td><td>3</td><td>&quot;MOL&quot;</td><td>-1</td><td>60</td><td>19</td><td>5</td><td>2</td><td>842.2633</td><td>&quot;ACID&quot;</td><td>&quot;C41H46O19&quot;</td><td>&quot;COC(=O)[C@H](O[C@@H]1O[C@@H](C…</td><td>&quot;KGUJQZWYZPYYRZ-LWEWUKDVSA-N&quot;</td></tr><tr><td>&quot;CHEMBL2419030&quot;</td><td>null</td><td>null</td><td>&quot;Small molecule&quot;</td><td>0</td><td>359.33</td><td>4</td><td>4</td><td>3.94</td><td>85.13</td><td>6</td><td>1</td><td>0</td><td>3</td><td>&quot;N&quot;</td><td>0.66</td><td>null</td><td>null</td><td>3.66</td><td>3.66</td><td>2</td><td>&quot;MOL&quot;</td><td>-1</td><td>24</td><td>6</td><td>1</td><td>0</td><td>359.0551</td><td>&quot;NEUTRAL&quot;</td><td>&quot;C14H12F3N3O3S&quot;</td><td>&quot;O=c1nc(NC2CCCC2)sc2c([N+](=O)[…</td><td>&quot;QGDMYSDFCXOKML-UHFFFAOYSA-N&quot;</td></tr><tr><td>&quot;CHEMBL4301448&quot;</td><td>null</td><td>null</td><td>&quot;Small molecule&quot;</td><td>0</td><td>465.55</td><td>null</td><td>null</td><td>5.09</td><td>105.28</td><td>6</td><td>4</td><td>1</td><td>10</td><td>&quot;N&quot;</td><td>0.15</td><td>null</td><td>12.14</td><td>4.41</td><td>2.0</td><td>4</td><td>&quot;MOL&quot;</td><td>-1</td><td>33</td><td>7</td><td>5</td><td>1</td><td>465.1635</td><td>&quot;BASE&quot;</td><td>&quot;C24H24FN5O2S&quot;</td><td>&quot;N=C(N)NCCCOc1ccc(CNc2nc3ccc(Oc…</td><td>&quot;RXTJPHLPHOZLFS-UHFFFAOYSA-N&quot;</td></tr><tr><td>&hellip;</td><td>&hellip;</td><td>&hellip;</td><td>&hellip;</td><td>&hellip;</td><td>&hellip;</td><td>&hellip;</td><td>&hellip;</td><td>&hellip;</td><td>&hellip;</td><td>&hellip;</td><td>&hellip;</td><td>&hellip;</td><td>&hellip;</td><td>&hellip;</td><td>&hellip;</td><td>&hellip;</td><td>&hellip;</td><td>&hellip;</td><td>&hellip;</td><td>&hellip;</td><td>&hellip;</td><td>&hellip;</td><td>&hellip;</td><td>&hellip;</td><td>&hellip;</td><td>&hellip;</td><td>&hellip;</td><td>&hellip;</td><td>&hellip;</td><td>&hellip;</td><td>&hellip;</td></tr><tr><td>&quot;CHEMBL2017916&quot;</td><td>null</td><td>null</td><td>&quot;Small molecule&quot;</td><td>0</td><td>312.35</td><td>3</td><td>3</td><td>2.86</td><td>77.0</td><td>6</td><td>1</td><td>0</td><td>4</td><td>&quot;N&quot;</td><td>0.8</td><td>8.13</td><td>3.49</td><td>2.17</td><td>2.1</td><td>3</td><td>&quot;MOL&quot;</td><td>-1</td><td>22</td><td>6</td><td>1</td><td>0</td><td>312.0681</td><td>&quot;NEUTRAL&quot;</td><td>&quot;C15H12N4O2S&quot;</td><td>&quot;COc1ccc(-c2nnc(NC(=O)c3cccnc3)…</td><td>&quot;XIZUJGDKNPVNQA-UHFFFAOYSA-N&quot;</td></tr><tr><td>&quot;CHEMBL374652&quot;</td><td>null</td><td>null</td><td>&quot;Small molecule&quot;</td><td>0</td><td>403.83</td><td>1</td><td>1</td><td>5.98</td><td>36.02</td><td>2</td><td>2</td><td>1</td><td>4</td><td>&quot;N&quot;</td><td>0.42</td><td>13.65</td><td>null</td><td>5.36</td><td>5.36</td><td>3</td><td>&quot;MOL&quot;</td><td>-1</td><td>26</td><td>2</td><td>2</td><td>1</td><td>403.0421</td><td>&quot;NEUTRAL&quot;</td><td>&quot;C18H14ClF4NOS&quot;</td><td>&quot;CC(O)(CSc1ccc(F)cc1)c1cc2cc(Cl…</td><td>&quot;CRPQTBRTHURKII-UHFFFAOYSA-N&quot;</td></tr><tr><td>&quot;CHEMBL1416264&quot;</td><td>null</td><td>null</td><td>&quot;Small molecule&quot;</td><td>0</td><td>380.41</td><td>6</td><td>8</td><td>3.06</td><td>85.07</td><td>7</td><td>1</td><td>0</td><td>5</td><td>&quot;N&quot;</td><td>0.54</td><td>13.85</td><td>3.86</td><td>2.47</td><td>2.47</td><td>4</td><td>&quot;MOL&quot;</td><td>-1</td><td>27</td><td>7</td><td>1</td><td>0</td><td>380.0856</td><td>&quot;NEUTRAL&quot;</td><td>&quot;C18H13FN6OS&quot;</td><td>&quot;O=C(CSc1ccc2nnc(-c3cccnc3)n2n1…</td><td>&quot;QVYIEKHEJKFNAT-UHFFFAOYSA-N&quot;</td></tr><tr><td>&quot;CHEMBL213734&quot;</td><td>null</td><td>null</td><td>&quot;Small molecule&quot;</td><td>0</td><td>288.26</td><td>2</td><td>3</td><td>2.32</td><td>101.7</td><td>5</td><td>2</td><td>0</td><td>5</td><td>&quot;N&quot;</td><td>0.5</td><td>7.2</td><td>null</td><td>2.36</td><td>1.95</td><td>2</td><td>&quot;MOL&quot;</td><td>-1</td><td>21</td><td>7</td><td>2</td><td>0</td><td>288.0746</td><td>&quot;NEUTRAL&quot;</td><td>&quot;C14H12N2O5&quot;</td><td>&quot;O=C(COc1ccccc1)Nc1ccc([N+](=O)…</td><td>&quot;PZTWAHGBGTWVEB-UHFFFAOYSA-N&quot;</td></tr><tr><td>&quot;CHEMBL1531634&quot;</td><td>null</td><td>null</td><td>&quot;Small molecule&quot;</td><td>0</td><td>320.16</td><td>19</td><td>21</td><td>4.4</td><td>29.1</td><td>2</td><td>1</td><td>0</td><td>4</td><td>&quot;N&quot;</td><td>0.67</td><td>null</td><td>null</td><td>4.04</td><td>4.04</td><td>2</td><td>&quot;MOL&quot;</td><td>-1</td><td>19</td><td>2</td><td>1</td><td>0</td><td>319.0008</td><td>&quot;NEUTRAL&quot;</td><td>&quot;C15H11BrFNO&quot;</td><td>&quot;O=C(/C=C/Nc1ccc(F)cc1)c1ccc(Br…</td><td>&quot;DKPWCCDDKFLKEC-MDZDMXLPSA-N&quot;</td></tr></tbody></table></div>"
            ],
            "text/plain": [
              "shape: (1_920_366, 32)\n",
              "┌────────────┬──────┬──────────┬────────────┬───┬────────────┬────────────┬────────────┬───────────┐\n",
              "│ ChEMBL ID  ┆ Name ┆ Synonyms ┆ Type       ┆ … ┆ Molecular  ┆ Molecular  ┆ Smiles     ┆ Inchi Key │\n",
              "│ ---        ┆ ---  ┆ ---      ┆ ---        ┆   ┆ Species    ┆ Formula    ┆ ---        ┆ ---       │\n",
              "│ str        ┆ str  ┆ str      ┆ str        ┆   ┆ ---        ┆ ---        ┆ str        ┆ str       │\n",
              "│            ┆      ┆          ┆            ┆   ┆ str        ┆ str        ┆            ┆           │\n",
              "╞════════════╪══════╪══════════╪════════════╪═══╪════════════╪════════════╪════════════╪═══════════╡\n",
              "│ CHEMBL1206 ┆ null ┆ null     ┆ Small      ┆ … ┆ ACID       ┆ C35H45NO4S ┆ CCCCCCCCCC ┆ UFBLKYIDZ │\n",
              "│ 185        ┆      ┆          ┆ molecule   ┆   ┆            ┆ 2          ┆ C#CC(N)c1c ┆ FRLPR-UHF │\n",
              "│            ┆      ┆          ┆            ┆   ┆            ┆            ┆ cccc1-c1cc ┆ FFAOYSA-N │\n",
              "│            ┆      ┆          ┆            ┆   ┆            ┆            ┆ …          ┆           │\n",
              "│ CHEMBL5390 ┆ null ┆ null     ┆ Small      ┆ … ┆ NEUTRAL    ┆ C11H15ClN4 ┆ CCCOc1cccc ┆ WPEWNRKLK │\n",
              "│ 70         ┆      ┆          ┆ molecule   ┆   ┆            ┆ OS         ┆ c1-c1nnc(N ┆ LNLSO-UHF │\n",
              "│            ┆      ┆          ┆            ┆   ┆            ┆            ┆ N)s1.Cl    ┆ FFAOYSA-N │\n",
              "│ CHEMBL3335 ┆ null ┆ null     ┆ Small      ┆ … ┆ ACID       ┆ C41H46O19  ┆ COC(=O)[C@ ┆ KGUJQZWYZ │\n",
              "│ 528        ┆      ┆          ┆ molecule   ┆   ┆            ┆            ┆ H](O[C@@H] ┆ PYYRZ-LWE │\n",
              "│            ┆      ┆          ┆            ┆   ┆            ┆            ┆ 1O[C@@H](C ┆ WUKDVSA-N │\n",
              "│            ┆      ┆          ┆            ┆   ┆            ┆            ┆ …          ┆           │\n",
              "│ CHEMBL2419 ┆ null ┆ null     ┆ Small      ┆ … ┆ NEUTRAL    ┆ C14H12F3N3 ┆ O=c1nc(NC2 ┆ QGDMYSDFC │\n",
              "│ 030        ┆      ┆          ┆ molecule   ┆   ┆            ┆ O3S        ┆ CCCC2)sc2c ┆ XOKML-UHF │\n",
              "│            ┆      ┆          ┆            ┆   ┆            ┆            ┆ ([N+](=O)[ ┆ FFAOYSA-N │\n",
              "│            ┆      ┆          ┆            ┆   ┆            ┆            ┆ …          ┆           │\n",
              "│ CHEMBL4301 ┆ null ┆ null     ┆ Small      ┆ … ┆ BASE       ┆ C24H24FN5O ┆ N=C(N)NCCC ┆ RXTJPHLPH │\n",
              "│ 448        ┆      ┆          ┆ molecule   ┆   ┆            ┆ 2S         ┆ Oc1ccc(CNc ┆ OZLFS-UHF │\n",
              "│            ┆      ┆          ┆            ┆   ┆            ┆            ┆ 2nc3ccc(Oc ┆ FFAOYSA-N │\n",
              "│            ┆      ┆          ┆            ┆   ┆            ┆            ┆ …          ┆           │\n",
              "│ …          ┆ …    ┆ …        ┆ …          ┆ … ┆ …          ┆ …          ┆ …          ┆ …         │\n",
              "│ CHEMBL2017 ┆ null ┆ null     ┆ Small      ┆ … ┆ NEUTRAL    ┆ C15H12N4O2 ┆ COc1ccc(-c ┆ XIZUJGDKN │\n",
              "│ 916        ┆      ┆          ┆ molecule   ┆   ┆            ┆ S          ┆ 2nnc(NC(=O ┆ PVNQA-UHF │\n",
              "│            ┆      ┆          ┆            ┆   ┆            ┆            ┆ )c3cccnc3) ┆ FFAOYSA-N │\n",
              "│            ┆      ┆          ┆            ┆   ┆            ┆            ┆ …          ┆           │\n",
              "│ CHEMBL3746 ┆ null ┆ null     ┆ Small      ┆ … ┆ NEUTRAL    ┆ C18H14ClF4 ┆ CC(O)(CSc1 ┆ CRPQTBRTH │\n",
              "│ 52         ┆      ┆          ┆ molecule   ┆   ┆            ┆ NOS        ┆ ccc(F)cc1) ┆ URKII-UHF │\n",
              "│            ┆      ┆          ┆            ┆   ┆            ┆            ┆ c1cc2cc(Cl ┆ FFAOYSA-N │\n",
              "│            ┆      ┆          ┆            ┆   ┆            ┆            ┆ …          ┆           │\n",
              "│ CHEMBL1416 ┆ null ┆ null     ┆ Small      ┆ … ┆ NEUTRAL    ┆ C18H13FN6O ┆ O=C(CSc1cc ┆ QVYIEKHEJ │\n",
              "│ 264        ┆      ┆          ┆ molecule   ┆   ┆            ┆ S          ┆ c2nnc(-c3c ┆ KFNAT-UHF │\n",
              "│            ┆      ┆          ┆            ┆   ┆            ┆            ┆ ccnc3)n2n1 ┆ FFAOYSA-N │\n",
              "│            ┆      ┆          ┆            ┆   ┆            ┆            ┆ …          ┆           │\n",
              "│ CHEMBL2137 ┆ null ┆ null     ┆ Small      ┆ … ┆ NEUTRAL    ┆ C14H12N2O5 ┆ O=C(COc1cc ┆ PZTWAHGBG │\n",
              "│ 34         ┆      ┆          ┆ molecule   ┆   ┆            ┆            ┆ ccc1)Nc1cc ┆ TWVEB-UHF │\n",
              "│            ┆      ┆          ┆            ┆   ┆            ┆            ┆ c([N+](=O) ┆ FFAOYSA-N │\n",
              "│            ┆      ┆          ┆            ┆   ┆            ┆            ┆ …          ┆           │\n",
              "│ CHEMBL1531 ┆ null ┆ null     ┆ Small      ┆ … ┆ NEUTRAL    ┆ C15H11BrFN ┆ O=C(/C=C/N ┆ DKPWCCDDK │\n",
              "│ 634        ┆      ┆          ┆ molecule   ┆   ┆            ┆ O          ┆ c1ccc(F)cc ┆ FLKEC-MDZ │\n",
              "│            ┆      ┆          ┆            ┆   ┆            ┆            ┆ 1)c1ccc(Br ┆ DMXLPSA-N │\n",
              "│            ┆      ┆          ┆            ┆   ┆            ┆            ┆ …          ┆           │\n",
              "└────────────┴──────┴──────────┴────────────┴───┴────────────┴────────────┴────────────┴───────────┘"
            ]
          },
          "execution_count": 38,
          "metadata": {},
          "output_type": "execute_result"
        }
      ],
      "source": [
        "df_sm = df.filter((pl.col(\"Type\") == \"Small molecule\"))\n",
        "df_sm #1,920,366 entries"
      ]
    },
    {
      "cell_type": "markdown",
      "metadata": {},
      "source": [
        "I'm looking at \"Structure Type\" column next."
      ]
    },
    {
      "cell_type": "code",
      "execution_count": null,
      "metadata": {
        "vscode": {
          "languageId": "python"
        }
      },
      "outputs": [
        {
          "data": {
            "text/html": [
              "<div><style>\n",
              ".dataframe > thead > tr,\n",
              ".dataframe > tbody > tr {\n",
              "  text-align: right;\n",
              "  white-space: pre-wrap;\n",
              "}\n",
              "</style>\n",
              "<small>shape: (4, 2)</small><table border=\"1\" class=\"dataframe\"><thead><tr><th>Structure Type</th><th>len</th></tr><tr><td>str</td><td>u32</td></tr></thead><tbody><tr><td>&quot;MOL&quot;</td><td>1914876</td></tr><tr><td>&quot;SEQ&quot;</td><td>1</td></tr><tr><td>&quot;BOTH&quot;</td><td>4</td></tr><tr><td>&quot;NONE&quot;</td><td>5485</td></tr></tbody></table></div>"
            ],
            "text/plain": [
              "shape: (4, 2)\n",
              "┌────────────────┬─────────┐\n",
              "│ Structure Type ┆ len     │\n",
              "│ ---            ┆ ---     │\n",
              "│ str            ┆ u32     │\n",
              "╞════════════════╪═════════╡\n",
              "│ MOL            ┆ 1914876 │\n",
              "│ SEQ            ┆ 1       │\n",
              "│ BOTH           ┆ 4       │\n",
              "│ NONE           ┆ 5485    │\n",
              "└────────────────┴─────────┘"
            ]
          },
          "execution_count": 39,
          "metadata": {},
          "output_type": "execute_result"
        }
      ],
      "source": [
        "df_sm.group_by(\"Structure Type\").len()"
      ]
    },
    {
      "cell_type": "markdown",
      "metadata": {},
      "source": [
        "There are 5485 entries with \"NONE\" as \"Structure Type\" which means they have unknown compound structures or not recorded in either compound_structures table or protein_therapeutics table. These entries will be removed from df_sm first.\n",
        "\n",
        "Next, I'm filtering the df_sm dataset further by restricting the filters to only small molecules and excluding all \"NONE\" structure types. "
      ]
    },
    {
      "cell_type": "code",
      "execution_count": null,
      "metadata": {
        "vscode": {
          "languageId": "python"
        }
      },
      "outputs": [
        {
          "data": {
            "text/html": [
              "<div><style>\n",
              ".dataframe > thead > tr,\n",
              ".dataframe > tbody > tr {\n",
              "  text-align: right;\n",
              "  white-space: pre-wrap;\n",
              "}\n",
              "</style>\n",
              "<small>shape: (1_914_881, 32)</small><table border=\"1\" class=\"dataframe\"><thead><tr><th>ChEMBL ID</th><th>Name</th><th>Synonyms</th><th>Type</th><th>Max Phase</th><th>Molecular Weight</th><th>Targets</th><th>Bioactivities</th><th>AlogP</th><th>Polar Surface Area</th><th>HBA</th><th>HBD</th><th>#RO5 Violations</th><th>#Rotatable Bonds</th><th>Passes Ro3</th><th>QED Weighted</th><th>CX Acidic pKa</th><th>CX Basic pKa</th><th>CX LogP</th><th>CX LogD</th><th>Aromatic Rings</th><th>Structure Type</th><th>Inorganic Flag</th><th>Heavy Atoms</th><th>HBA (Lipinski)</th><th>HBD (Lipinski)</th><th>#RO5 Violations (Lipinski)</th><th>Molecular Weight (Monoisotopic)</th><th>Molecular Species</th><th>Molecular Formula</th><th>Smiles</th><th>Inchi Key</th></tr><tr><td>str</td><td>str</td><td>str</td><td>str</td><td>i64</td><td>f64</td><td>i64</td><td>i64</td><td>f64</td><td>f64</td><td>i64</td><td>i64</td><td>i64</td><td>i64</td><td>str</td><td>f64</td><td>f64</td><td>f64</td><td>f64</td><td>f64</td><td>i64</td><td>str</td><td>i64</td><td>i64</td><td>i64</td><td>i64</td><td>i64</td><td>f64</td><td>str</td><td>str</td><td>str</td><td>str</td></tr></thead><tbody><tr><td>&quot;CHEMBL1206185&quot;</td><td>null</td><td>null</td><td>&quot;Small molecule&quot;</td><td>0</td><td>607.88</td><td>null</td><td>null</td><td>9.46</td><td>89.62</td><td>5</td><td>2</td><td>2</td><td>17</td><td>&quot;N&quot;</td><td>0.09</td><td>-1.91</td><td>8.38</td><td>9.4</td><td>9.36</td><td>3</td><td>&quot;MOL&quot;</td><td>-1</td><td>42</td><td>5</td><td>3</td><td>2</td><td>607.279</td><td>&quot;ACID&quot;</td><td>&quot;C35H45NO4S2&quot;</td><td>&quot;CCCCCCCCCCC#CC(N)c1ccccc1-c1cc…</td><td>&quot;UFBLKYIDZFRLPR-UHFFFAOYSA-N&quot;</td></tr><tr><td>&quot;CHEMBL539070&quot;</td><td>null</td><td>null</td><td>&quot;Small molecule&quot;</td><td>0</td><td>286.79</td><td>1</td><td>1</td><td>2.28</td><td>73.06</td><td>6</td><td>2</td><td>0</td><td>5</td><td>&quot;N&quot;</td><td>0.63</td><td>13.84</td><td>3.64</td><td>2.57</td><td>2.57</td><td>2</td><td>&quot;MOL&quot;</td><td>-1</td><td>17</td><td>5</td><td>3</td><td>0</td><td>250.0888</td><td>&quot;NEUTRAL&quot;</td><td>&quot;C11H15ClN4OS&quot;</td><td>&quot;CCCOc1ccccc1-c1nnc(NN)s1.Cl&quot;</td><td>&quot;WPEWNRKLKLNLSO-UHFFFAOYSA-N&quot;</td></tr><tr><td>&quot;CHEMBL3335528&quot;</td><td>null</td><td>null</td><td>&quot;Small molecule&quot;</td><td>0</td><td>842.8</td><td>2</td><td>6</td><td>0.18</td><td>269.57</td><td>18</td><td>5</td><td>2</td><td>17</td><td>&quot;N&quot;</td><td>0.09</td><td>3.2</td><td>null</td><td>3.31</td><td>-0.14</td><td>3</td><td>&quot;MOL&quot;</td><td>-1</td><td>60</td><td>19</td><td>5</td><td>2</td><td>842.2633</td><td>&quot;ACID&quot;</td><td>&quot;C41H46O19&quot;</td><td>&quot;COC(=O)[C@H](O[C@@H]1O[C@@H](C…</td><td>&quot;KGUJQZWYZPYYRZ-LWEWUKDVSA-N&quot;</td></tr><tr><td>&quot;CHEMBL2419030&quot;</td><td>null</td><td>null</td><td>&quot;Small molecule&quot;</td><td>0</td><td>359.33</td><td>4</td><td>4</td><td>3.94</td><td>85.13</td><td>6</td><td>1</td><td>0</td><td>3</td><td>&quot;N&quot;</td><td>0.66</td><td>null</td><td>null</td><td>3.66</td><td>3.66</td><td>2</td><td>&quot;MOL&quot;</td><td>-1</td><td>24</td><td>6</td><td>1</td><td>0</td><td>359.0551</td><td>&quot;NEUTRAL&quot;</td><td>&quot;C14H12F3N3O3S&quot;</td><td>&quot;O=c1nc(NC2CCCC2)sc2c([N+](=O)[…</td><td>&quot;QGDMYSDFCXOKML-UHFFFAOYSA-N&quot;</td></tr><tr><td>&quot;CHEMBL4301448&quot;</td><td>null</td><td>null</td><td>&quot;Small molecule&quot;</td><td>0</td><td>465.55</td><td>null</td><td>null</td><td>5.09</td><td>105.28</td><td>6</td><td>4</td><td>1</td><td>10</td><td>&quot;N&quot;</td><td>0.15</td><td>null</td><td>12.14</td><td>4.41</td><td>2.0</td><td>4</td><td>&quot;MOL&quot;</td><td>-1</td><td>33</td><td>7</td><td>5</td><td>1</td><td>465.1635</td><td>&quot;BASE&quot;</td><td>&quot;C24H24FN5O2S&quot;</td><td>&quot;N=C(N)NCCCOc1ccc(CNc2nc3ccc(Oc…</td><td>&quot;RXTJPHLPHOZLFS-UHFFFAOYSA-N&quot;</td></tr><tr><td>&hellip;</td><td>&hellip;</td><td>&hellip;</td><td>&hellip;</td><td>&hellip;</td><td>&hellip;</td><td>&hellip;</td><td>&hellip;</td><td>&hellip;</td><td>&hellip;</td><td>&hellip;</td><td>&hellip;</td><td>&hellip;</td><td>&hellip;</td><td>&hellip;</td><td>&hellip;</td><td>&hellip;</td><td>&hellip;</td><td>&hellip;</td><td>&hellip;</td><td>&hellip;</td><td>&hellip;</td><td>&hellip;</td><td>&hellip;</td><td>&hellip;</td><td>&hellip;</td><td>&hellip;</td><td>&hellip;</td><td>&hellip;</td><td>&hellip;</td><td>&hellip;</td><td>&hellip;</td></tr><tr><td>&quot;CHEMBL2017916&quot;</td><td>null</td><td>null</td><td>&quot;Small molecule&quot;</td><td>0</td><td>312.35</td><td>3</td><td>3</td><td>2.86</td><td>77.0</td><td>6</td><td>1</td><td>0</td><td>4</td><td>&quot;N&quot;</td><td>0.8</td><td>8.13</td><td>3.49</td><td>2.17</td><td>2.1</td><td>3</td><td>&quot;MOL&quot;</td><td>-1</td><td>22</td><td>6</td><td>1</td><td>0</td><td>312.0681</td><td>&quot;NEUTRAL&quot;</td><td>&quot;C15H12N4O2S&quot;</td><td>&quot;COc1ccc(-c2nnc(NC(=O)c3cccnc3)…</td><td>&quot;XIZUJGDKNPVNQA-UHFFFAOYSA-N&quot;</td></tr><tr><td>&quot;CHEMBL374652&quot;</td><td>null</td><td>null</td><td>&quot;Small molecule&quot;</td><td>0</td><td>403.83</td><td>1</td><td>1</td><td>5.98</td><td>36.02</td><td>2</td><td>2</td><td>1</td><td>4</td><td>&quot;N&quot;</td><td>0.42</td><td>13.65</td><td>null</td><td>5.36</td><td>5.36</td><td>3</td><td>&quot;MOL&quot;</td><td>-1</td><td>26</td><td>2</td><td>2</td><td>1</td><td>403.0421</td><td>&quot;NEUTRAL&quot;</td><td>&quot;C18H14ClF4NOS&quot;</td><td>&quot;CC(O)(CSc1ccc(F)cc1)c1cc2cc(Cl…</td><td>&quot;CRPQTBRTHURKII-UHFFFAOYSA-N&quot;</td></tr><tr><td>&quot;CHEMBL1416264&quot;</td><td>null</td><td>null</td><td>&quot;Small molecule&quot;</td><td>0</td><td>380.41</td><td>6</td><td>8</td><td>3.06</td><td>85.07</td><td>7</td><td>1</td><td>0</td><td>5</td><td>&quot;N&quot;</td><td>0.54</td><td>13.85</td><td>3.86</td><td>2.47</td><td>2.47</td><td>4</td><td>&quot;MOL&quot;</td><td>-1</td><td>27</td><td>7</td><td>1</td><td>0</td><td>380.0856</td><td>&quot;NEUTRAL&quot;</td><td>&quot;C18H13FN6OS&quot;</td><td>&quot;O=C(CSc1ccc2nnc(-c3cccnc3)n2n1…</td><td>&quot;QVYIEKHEJKFNAT-UHFFFAOYSA-N&quot;</td></tr><tr><td>&quot;CHEMBL213734&quot;</td><td>null</td><td>null</td><td>&quot;Small molecule&quot;</td><td>0</td><td>288.26</td><td>2</td><td>3</td><td>2.32</td><td>101.7</td><td>5</td><td>2</td><td>0</td><td>5</td><td>&quot;N&quot;</td><td>0.5</td><td>7.2</td><td>null</td><td>2.36</td><td>1.95</td><td>2</td><td>&quot;MOL&quot;</td><td>-1</td><td>21</td><td>7</td><td>2</td><td>0</td><td>288.0746</td><td>&quot;NEUTRAL&quot;</td><td>&quot;C14H12N2O5&quot;</td><td>&quot;O=C(COc1ccccc1)Nc1ccc([N+](=O)…</td><td>&quot;PZTWAHGBGTWVEB-UHFFFAOYSA-N&quot;</td></tr><tr><td>&quot;CHEMBL1531634&quot;</td><td>null</td><td>null</td><td>&quot;Small molecule&quot;</td><td>0</td><td>320.16</td><td>19</td><td>21</td><td>4.4</td><td>29.1</td><td>2</td><td>1</td><td>0</td><td>4</td><td>&quot;N&quot;</td><td>0.67</td><td>null</td><td>null</td><td>4.04</td><td>4.04</td><td>2</td><td>&quot;MOL&quot;</td><td>-1</td><td>19</td><td>2</td><td>1</td><td>0</td><td>319.0008</td><td>&quot;NEUTRAL&quot;</td><td>&quot;C15H11BrFNO&quot;</td><td>&quot;O=C(/C=C/Nc1ccc(F)cc1)c1ccc(Br…</td><td>&quot;DKPWCCDDKFLKEC-MDZDMXLPSA-N&quot;</td></tr></tbody></table></div>"
            ],
            "text/plain": [
              "shape: (1_914_881, 32)\n",
              "┌────────────┬──────┬──────────┬────────────┬───┬────────────┬────────────┬────────────┬───────────┐\n",
              "│ ChEMBL ID  ┆ Name ┆ Synonyms ┆ Type       ┆ … ┆ Molecular  ┆ Molecular  ┆ Smiles     ┆ Inchi Key │\n",
              "│ ---        ┆ ---  ┆ ---      ┆ ---        ┆   ┆ Species    ┆ Formula    ┆ ---        ┆ ---       │\n",
              "│ str        ┆ str  ┆ str      ┆ str        ┆   ┆ ---        ┆ ---        ┆ str        ┆ str       │\n",
              "│            ┆      ┆          ┆            ┆   ┆ str        ┆ str        ┆            ┆           │\n",
              "╞════════════╪══════╪══════════╪════════════╪═══╪════════════╪════════════╪════════════╪═══════════╡\n",
              "│ CHEMBL1206 ┆ null ┆ null     ┆ Small      ┆ … ┆ ACID       ┆ C35H45NO4S ┆ CCCCCCCCCC ┆ UFBLKYIDZ │\n",
              "│ 185        ┆      ┆          ┆ molecule   ┆   ┆            ┆ 2          ┆ C#CC(N)c1c ┆ FRLPR-UHF │\n",
              "│            ┆      ┆          ┆            ┆   ┆            ┆            ┆ cccc1-c1cc ┆ FFAOYSA-N │\n",
              "│            ┆      ┆          ┆            ┆   ┆            ┆            ┆ …          ┆           │\n",
              "│ CHEMBL5390 ┆ null ┆ null     ┆ Small      ┆ … ┆ NEUTRAL    ┆ C11H15ClN4 ┆ CCCOc1cccc ┆ WPEWNRKLK │\n",
              "│ 70         ┆      ┆          ┆ molecule   ┆   ┆            ┆ OS         ┆ c1-c1nnc(N ┆ LNLSO-UHF │\n",
              "│            ┆      ┆          ┆            ┆   ┆            ┆            ┆ N)s1.Cl    ┆ FFAOYSA-N │\n",
              "│ CHEMBL3335 ┆ null ┆ null     ┆ Small      ┆ … ┆ ACID       ┆ C41H46O19  ┆ COC(=O)[C@ ┆ KGUJQZWYZ │\n",
              "│ 528        ┆      ┆          ┆ molecule   ┆   ┆            ┆            ┆ H](O[C@@H] ┆ PYYRZ-LWE │\n",
              "│            ┆      ┆          ┆            ┆   ┆            ┆            ┆ 1O[C@@H](C ┆ WUKDVSA-N │\n",
              "│            ┆      ┆          ┆            ┆   ┆            ┆            ┆ …          ┆           │\n",
              "│ CHEMBL2419 ┆ null ┆ null     ┆ Small      ┆ … ┆ NEUTRAL    ┆ C14H12F3N3 ┆ O=c1nc(NC2 ┆ QGDMYSDFC │\n",
              "│ 030        ┆      ┆          ┆ molecule   ┆   ┆            ┆ O3S        ┆ CCCC2)sc2c ┆ XOKML-UHF │\n",
              "│            ┆      ┆          ┆            ┆   ┆            ┆            ┆ ([N+](=O)[ ┆ FFAOYSA-N │\n",
              "│            ┆      ┆          ┆            ┆   ┆            ┆            ┆ …          ┆           │\n",
              "│ CHEMBL4301 ┆ null ┆ null     ┆ Small      ┆ … ┆ BASE       ┆ C24H24FN5O ┆ N=C(N)NCCC ┆ RXTJPHLPH │\n",
              "│ 448        ┆      ┆          ┆ molecule   ┆   ┆            ┆ 2S         ┆ Oc1ccc(CNc ┆ OZLFS-UHF │\n",
              "│            ┆      ┆          ┆            ┆   ┆            ┆            ┆ 2nc3ccc(Oc ┆ FFAOYSA-N │\n",
              "│            ┆      ┆          ┆            ┆   ┆            ┆            ┆ …          ┆           │\n",
              "│ …          ┆ …    ┆ …        ┆ …          ┆ … ┆ …          ┆ …          ┆ …          ┆ …         │\n",
              "│ CHEMBL2017 ┆ null ┆ null     ┆ Small      ┆ … ┆ NEUTRAL    ┆ C15H12N4O2 ┆ COc1ccc(-c ┆ XIZUJGDKN │\n",
              "│ 916        ┆      ┆          ┆ molecule   ┆   ┆            ┆ S          ┆ 2nnc(NC(=O ┆ PVNQA-UHF │\n",
              "│            ┆      ┆          ┆            ┆   ┆            ┆            ┆ )c3cccnc3) ┆ FFAOYSA-N │\n",
              "│            ┆      ┆          ┆            ┆   ┆            ┆            ┆ …          ┆           │\n",
              "│ CHEMBL3746 ┆ null ┆ null     ┆ Small      ┆ … ┆ NEUTRAL    ┆ C18H14ClF4 ┆ CC(O)(CSc1 ┆ CRPQTBRTH │\n",
              "│ 52         ┆      ┆          ┆ molecule   ┆   ┆            ┆ NOS        ┆ ccc(F)cc1) ┆ URKII-UHF │\n",
              "│            ┆      ┆          ┆            ┆   ┆            ┆            ┆ c1cc2cc(Cl ┆ FFAOYSA-N │\n",
              "│            ┆      ┆          ┆            ┆   ┆            ┆            ┆ …          ┆           │\n",
              "│ CHEMBL1416 ┆ null ┆ null     ┆ Small      ┆ … ┆ NEUTRAL    ┆ C18H13FN6O ┆ O=C(CSc1cc ┆ QVYIEKHEJ │\n",
              "│ 264        ┆      ┆          ┆ molecule   ┆   ┆            ┆ S          ┆ c2nnc(-c3c ┆ KFNAT-UHF │\n",
              "│            ┆      ┆          ┆            ┆   ┆            ┆            ┆ ccnc3)n2n1 ┆ FFAOYSA-N │\n",
              "│            ┆      ┆          ┆            ┆   ┆            ┆            ┆ …          ┆           │\n",
              "│ CHEMBL2137 ┆ null ┆ null     ┆ Small      ┆ … ┆ NEUTRAL    ┆ C14H12N2O5 ┆ O=C(COc1cc ┆ PZTWAHGBG │\n",
              "│ 34         ┆      ┆          ┆ molecule   ┆   ┆            ┆            ┆ ccc1)Nc1cc ┆ TWVEB-UHF │\n",
              "│            ┆      ┆          ┆            ┆   ┆            ┆            ┆ c([N+](=O) ┆ FFAOYSA-N │\n",
              "│            ┆      ┆          ┆            ┆   ┆            ┆            ┆ …          ┆           │\n",
              "│ CHEMBL1531 ┆ null ┆ null     ┆ Small      ┆ … ┆ NEUTRAL    ┆ C15H11BrFN ┆ O=C(/C=C/N ┆ DKPWCCDDK │\n",
              "│ 634        ┆      ┆          ┆ molecule   ┆   ┆            ┆ O          ┆ c1ccc(F)cc ┆ FLKEC-MDZ │\n",
              "│            ┆      ┆          ┆            ┆   ┆            ┆            ┆ 1)c1ccc(Br ┆ DMXLPSA-N │\n",
              "│            ┆      ┆          ┆            ┆   ┆            ┆            ┆ …          ┆           │\n",
              "└────────────┴──────┴──────────┴────────────┴───┴────────────┴────────────┴────────────┴───────────┘"
            ]
          },
          "execution_count": 40,
          "metadata": {},
          "output_type": "execute_result"
        }
      ],
      "source": [
        "df_sm = df.filter((pl.col(\"Type\") == \"Small molecule\") & (pl.col(\"Structure Type\") != \"NONE\"))\n",
        "\n",
        "df_sm #1,914,881 entries"
      ]
    },
    {
      "cell_type": "code",
      "execution_count": null,
      "metadata": {
        "vscode": {
          "languageId": "python"
        }
      },
      "outputs": [
        {
          "data": {
            "text/html": [
              "<div><style>\n",
              ".dataframe > thead > tr,\n",
              ".dataframe > tbody > tr {\n",
              "  text-align: right;\n",
              "  white-space: pre-wrap;\n",
              "}\n",
              "</style>\n",
              "<small>shape: (3, 2)</small><table border=\"1\" class=\"dataframe\"><thead><tr><th>Structure Type</th><th>len</th></tr><tr><td>str</td><td>u32</td></tr></thead><tbody><tr><td>&quot;MOL&quot;</td><td>1914876</td></tr><tr><td>&quot;SEQ&quot;</td><td>1</td></tr><tr><td>&quot;BOTH&quot;</td><td>4</td></tr></tbody></table></div>"
            ],
            "text/plain": [
              "shape: (3, 2)\n",
              "┌────────────────┬─────────┐\n",
              "│ Structure Type ┆ len     │\n",
              "│ ---            ┆ ---     │\n",
              "│ str            ┆ u32     │\n",
              "╞════════════════╪═════════╡\n",
              "│ MOL            ┆ 1914876 │\n",
              "│ SEQ            ┆ 1       │\n",
              "│ BOTH           ┆ 4       │\n",
              "└────────────────┴─────────┘"
            ]
          },
          "execution_count": 41,
          "metadata": {},
          "output_type": "execute_result"
        }
      ],
      "source": [
        "# Check \"NONE\" entries are removed/filtered\n",
        "df_sm.group_by(\"Structure Type\").len()"
      ]
    },
    {
      "cell_type": "markdown",
      "metadata": {},
      "source": [
        "I've tried filtering out data using \"Inorganic flag\" previously, however it turns out to be not so suitable - it'll rule out a lot of preclinical compounds with max phase 0 or max phase > 1 compounds with no calculated physicochemical properties, which means there may not be enough training data to build a machine learning model. So I'm opting for the \"Targets\" column here by ruling out the ones with zero targets."
      ]
    },
    {
      "cell_type": "code",
      "execution_count": null,
      "metadata": {
        "vscode": {
          "languageId": "python"
        }
      },
      "outputs": [
        {
          "data": {
            "text/html": [
              "<div><style>\n",
              ".dataframe > thead > tr,\n",
              ".dataframe > tbody > tr {\n",
              "  text-align: right;\n",
              "  white-space: pre-wrap;\n",
              "}\n",
              "</style>\n",
              "<small>shape: (553, 2)</small><table border=\"1\" class=\"dataframe\"><thead><tr><th>Targets</th><th>len</th></tr><tr><td>i64</td><td>u32</td></tr></thead><tbody><tr><td>null</td><td>83321</td></tr><tr><td>42</td><td>401</td></tr><tr><td>18</td><td>8992</td></tr><tr><td>134</td><td>60</td></tr><tr><td>557</td><td>2</td></tr><tr><td>&hellip;</td><td>&hellip;</td></tr><tr><td>113</td><td>25</td></tr><tr><td>378</td><td>1</td></tr><tr><td>354</td><td>2</td></tr><tr><td>753</td><td>1</td></tr><tr><td>104</td><td>12</td></tr></tbody></table></div>"
            ],
            "text/plain": [
              "shape: (553, 2)\n",
              "┌─────────┬───────┐\n",
              "│ Targets ┆ len   │\n",
              "│ ---     ┆ ---   │\n",
              "│ i64     ┆ u32   │\n",
              "╞═════════╪═══════╡\n",
              "│ null    ┆ 83321 │\n",
              "│ 42      ┆ 401   │\n",
              "│ 18      ┆ 8992  │\n",
              "│ 134     ┆ 60    │\n",
              "│ 557     ┆ 2     │\n",
              "│ …       ┆ …     │\n",
              "│ 113     ┆ 25    │\n",
              "│ 378     ┆ 1     │\n",
              "│ 354     ┆ 2     │\n",
              "│ 753     ┆ 1     │\n",
              "│ 104     ┆ 12    │\n",
              "└─────────┴───────┘"
            ]
          },
          "execution_count": 42,
          "metadata": {},
          "output_type": "execute_result"
        }
      ],
      "source": [
        "df_sm.group_by(\"Targets\").len()"
      ]
    },
    {
      "cell_type": "code",
      "execution_count": null,
      "metadata": {
        "vscode": {
          "languageId": "python"
        }
      },
      "outputs": [
        {
          "data": {
            "text/html": [
              "<div><style>\n",
              ".dataframe > thead > tr,\n",
              ".dataframe > tbody > tr {\n",
              "  text-align: right;\n",
              "  white-space: pre-wrap;\n",
              "}\n",
              "</style>\n",
              "<small>shape: (1_831_560, 32)</small><table border=\"1\" class=\"dataframe\"><thead><tr><th>ChEMBL ID</th><th>Name</th><th>Synonyms</th><th>Type</th><th>Max Phase</th><th>Molecular Weight</th><th>Targets</th><th>Bioactivities</th><th>AlogP</th><th>Polar Surface Area</th><th>HBA</th><th>HBD</th><th>#RO5 Violations</th><th>#Rotatable Bonds</th><th>Passes Ro3</th><th>QED Weighted</th><th>CX Acidic pKa</th><th>CX Basic pKa</th><th>CX LogP</th><th>CX LogD</th><th>Aromatic Rings</th><th>Structure Type</th><th>Inorganic Flag</th><th>Heavy Atoms</th><th>HBA (Lipinski)</th><th>HBD (Lipinski)</th><th>#RO5 Violations (Lipinski)</th><th>Molecular Weight (Monoisotopic)</th><th>Molecular Species</th><th>Molecular Formula</th><th>Smiles</th><th>Inchi Key</th></tr><tr><td>str</td><td>str</td><td>str</td><td>str</td><td>i64</td><td>f64</td><td>i64</td><td>i64</td><td>f64</td><td>f64</td><td>i64</td><td>i64</td><td>i64</td><td>i64</td><td>str</td><td>f64</td><td>f64</td><td>f64</td><td>f64</td><td>f64</td><td>i64</td><td>str</td><td>i64</td><td>i64</td><td>i64</td><td>i64</td><td>i64</td><td>f64</td><td>str</td><td>str</td><td>str</td><td>str</td></tr></thead><tbody><tr><td>&quot;CHEMBL539070&quot;</td><td>null</td><td>null</td><td>&quot;Small molecule&quot;</td><td>0</td><td>286.79</td><td>1</td><td>1</td><td>2.28</td><td>73.06</td><td>6</td><td>2</td><td>0</td><td>5</td><td>&quot;N&quot;</td><td>0.63</td><td>13.84</td><td>3.64</td><td>2.57</td><td>2.57</td><td>2</td><td>&quot;MOL&quot;</td><td>-1</td><td>17</td><td>5</td><td>3</td><td>0</td><td>250.0888</td><td>&quot;NEUTRAL&quot;</td><td>&quot;C11H15ClN4OS&quot;</td><td>&quot;CCCOc1ccccc1-c1nnc(NN)s1.Cl&quot;</td><td>&quot;WPEWNRKLKLNLSO-UHFFFAOYSA-N&quot;</td></tr><tr><td>&quot;CHEMBL3335528&quot;</td><td>null</td><td>null</td><td>&quot;Small molecule&quot;</td><td>0</td><td>842.8</td><td>2</td><td>6</td><td>0.18</td><td>269.57</td><td>18</td><td>5</td><td>2</td><td>17</td><td>&quot;N&quot;</td><td>0.09</td><td>3.2</td><td>null</td><td>3.31</td><td>-0.14</td><td>3</td><td>&quot;MOL&quot;</td><td>-1</td><td>60</td><td>19</td><td>5</td><td>2</td><td>842.2633</td><td>&quot;ACID&quot;</td><td>&quot;C41H46O19&quot;</td><td>&quot;COC(=O)[C@H](O[C@@H]1O[C@@H](C…</td><td>&quot;KGUJQZWYZPYYRZ-LWEWUKDVSA-N&quot;</td></tr><tr><td>&quot;CHEMBL2419030&quot;</td><td>null</td><td>null</td><td>&quot;Small molecule&quot;</td><td>0</td><td>359.33</td><td>4</td><td>4</td><td>3.94</td><td>85.13</td><td>6</td><td>1</td><td>0</td><td>3</td><td>&quot;N&quot;</td><td>0.66</td><td>null</td><td>null</td><td>3.66</td><td>3.66</td><td>2</td><td>&quot;MOL&quot;</td><td>-1</td><td>24</td><td>6</td><td>1</td><td>0</td><td>359.0551</td><td>&quot;NEUTRAL&quot;</td><td>&quot;C14H12F3N3O3S&quot;</td><td>&quot;O=c1nc(NC2CCCC2)sc2c([N+](=O)[…</td><td>&quot;QGDMYSDFCXOKML-UHFFFAOYSA-N&quot;</td></tr><tr><td>&quot;CHEMBL3827271&quot;</td><td>null</td><td>null</td><td>&quot;Small molecule&quot;</td><td>0</td><td>712.85</td><td>1</td><td>1</td><td>-2.84</td><td>319.06</td><td>10</td><td>11</td><td>2</td><td>16</td><td>&quot;N&quot;</td><td>0.07</td><td>4.08</td><td>10.49</td><td>-6.88</td><td>-8.95</td><td>0</td><td>&quot;MOL&quot;</td><td>-1</td><td>50</td><td>19</td><td>14</td><td>3</td><td>712.4232</td><td>&quot;ZWITTERION&quot;</td><td>&quot;C31H56N10O9&quot;</td><td>&quot;CC(C)C[C@@H]1NC(=O)[C@H](CCCNC…</td><td>&quot;QJQNNLICZLLPMB-VUBDRERZSA-N&quot;</td></tr><tr><td>&quot;CHEMBL3465961&quot;</td><td>null</td><td>null</td><td>&quot;Small molecule&quot;</td><td>0</td><td>319.42</td><td>16</td><td>22</td><td>2.22</td><td>50.5</td><td>4</td><td>1</td><td>0</td><td>6</td><td>&quot;N&quot;</td><td>0.87</td><td>null</td><td>9.38</td><td>2.13</td><td>-0.44</td><td>1</td><td>&quot;MOL&quot;</td><td>-1</td><td>23</td><td>4</td><td>1</td><td>0</td><td>319.206</td><td>&quot;BASE&quot;</td><td>&quot;C18H26FN3O&quot;</td><td>&quot;CC(O)CN1CCC(CN(C)Cc2cc(C#N)ccc…</td><td>&quot;FZEVYCHTADTXPM-UHFFFAOYSA-N&quot;</td></tr><tr><td>&hellip;</td><td>&hellip;</td><td>&hellip;</td><td>&hellip;</td><td>&hellip;</td><td>&hellip;</td><td>&hellip;</td><td>&hellip;</td><td>&hellip;</td><td>&hellip;</td><td>&hellip;</td><td>&hellip;</td><td>&hellip;</td><td>&hellip;</td><td>&hellip;</td><td>&hellip;</td><td>&hellip;</td><td>&hellip;</td><td>&hellip;</td><td>&hellip;</td><td>&hellip;</td><td>&hellip;</td><td>&hellip;</td><td>&hellip;</td><td>&hellip;</td><td>&hellip;</td><td>&hellip;</td><td>&hellip;</td><td>&hellip;</td><td>&hellip;</td><td>&hellip;</td><td>&hellip;</td></tr><tr><td>&quot;CHEMBL2017916&quot;</td><td>null</td><td>null</td><td>&quot;Small molecule&quot;</td><td>0</td><td>312.35</td><td>3</td><td>3</td><td>2.86</td><td>77.0</td><td>6</td><td>1</td><td>0</td><td>4</td><td>&quot;N&quot;</td><td>0.8</td><td>8.13</td><td>3.49</td><td>2.17</td><td>2.1</td><td>3</td><td>&quot;MOL&quot;</td><td>-1</td><td>22</td><td>6</td><td>1</td><td>0</td><td>312.0681</td><td>&quot;NEUTRAL&quot;</td><td>&quot;C15H12N4O2S&quot;</td><td>&quot;COc1ccc(-c2nnc(NC(=O)c3cccnc3)…</td><td>&quot;XIZUJGDKNPVNQA-UHFFFAOYSA-N&quot;</td></tr><tr><td>&quot;CHEMBL374652&quot;</td><td>null</td><td>null</td><td>&quot;Small molecule&quot;</td><td>0</td><td>403.83</td><td>1</td><td>1</td><td>5.98</td><td>36.02</td><td>2</td><td>2</td><td>1</td><td>4</td><td>&quot;N&quot;</td><td>0.42</td><td>13.65</td><td>null</td><td>5.36</td><td>5.36</td><td>3</td><td>&quot;MOL&quot;</td><td>-1</td><td>26</td><td>2</td><td>2</td><td>1</td><td>403.0421</td><td>&quot;NEUTRAL&quot;</td><td>&quot;C18H14ClF4NOS&quot;</td><td>&quot;CC(O)(CSc1ccc(F)cc1)c1cc2cc(Cl…</td><td>&quot;CRPQTBRTHURKII-UHFFFAOYSA-N&quot;</td></tr><tr><td>&quot;CHEMBL1416264&quot;</td><td>null</td><td>null</td><td>&quot;Small molecule&quot;</td><td>0</td><td>380.41</td><td>6</td><td>8</td><td>3.06</td><td>85.07</td><td>7</td><td>1</td><td>0</td><td>5</td><td>&quot;N&quot;</td><td>0.54</td><td>13.85</td><td>3.86</td><td>2.47</td><td>2.47</td><td>4</td><td>&quot;MOL&quot;</td><td>-1</td><td>27</td><td>7</td><td>1</td><td>0</td><td>380.0856</td><td>&quot;NEUTRAL&quot;</td><td>&quot;C18H13FN6OS&quot;</td><td>&quot;O=C(CSc1ccc2nnc(-c3cccnc3)n2n1…</td><td>&quot;QVYIEKHEJKFNAT-UHFFFAOYSA-N&quot;</td></tr><tr><td>&quot;CHEMBL213734&quot;</td><td>null</td><td>null</td><td>&quot;Small molecule&quot;</td><td>0</td><td>288.26</td><td>2</td><td>3</td><td>2.32</td><td>101.7</td><td>5</td><td>2</td><td>0</td><td>5</td><td>&quot;N&quot;</td><td>0.5</td><td>7.2</td><td>null</td><td>2.36</td><td>1.95</td><td>2</td><td>&quot;MOL&quot;</td><td>-1</td><td>21</td><td>7</td><td>2</td><td>0</td><td>288.0746</td><td>&quot;NEUTRAL&quot;</td><td>&quot;C14H12N2O5&quot;</td><td>&quot;O=C(COc1ccccc1)Nc1ccc([N+](=O)…</td><td>&quot;PZTWAHGBGTWVEB-UHFFFAOYSA-N&quot;</td></tr><tr><td>&quot;CHEMBL1531634&quot;</td><td>null</td><td>null</td><td>&quot;Small molecule&quot;</td><td>0</td><td>320.16</td><td>19</td><td>21</td><td>4.4</td><td>29.1</td><td>2</td><td>1</td><td>0</td><td>4</td><td>&quot;N&quot;</td><td>0.67</td><td>null</td><td>null</td><td>4.04</td><td>4.04</td><td>2</td><td>&quot;MOL&quot;</td><td>-1</td><td>19</td><td>2</td><td>1</td><td>0</td><td>319.0008</td><td>&quot;NEUTRAL&quot;</td><td>&quot;C15H11BrFNO&quot;</td><td>&quot;O=C(/C=C/Nc1ccc(F)cc1)c1ccc(Br…</td><td>&quot;DKPWCCDDKFLKEC-MDZDMXLPSA-N&quot;</td></tr></tbody></table></div>"
            ],
            "text/plain": [
              "shape: (1_831_560, 32)\n",
              "┌────────────┬──────┬──────────┬────────────┬───┬────────────┬────────────┬────────────┬───────────┐\n",
              "│ ChEMBL ID  ┆ Name ┆ Synonyms ┆ Type       ┆ … ┆ Molecular  ┆ Molecular  ┆ Smiles     ┆ Inchi Key │\n",
              "│ ---        ┆ ---  ┆ ---      ┆ ---        ┆   ┆ Species    ┆ Formula    ┆ ---        ┆ ---       │\n",
              "│ str        ┆ str  ┆ str      ┆ str        ┆   ┆ ---        ┆ ---        ┆ str        ┆ str       │\n",
              "│            ┆      ┆          ┆            ┆   ┆ str        ┆ str        ┆            ┆           │\n",
              "╞════════════╪══════╪══════════╪════════════╪═══╪════════════╪════════════╪════════════╪═══════════╡\n",
              "│ CHEMBL5390 ┆ null ┆ null     ┆ Small      ┆ … ┆ NEUTRAL    ┆ C11H15ClN4 ┆ CCCOc1cccc ┆ WPEWNRKLK │\n",
              "│ 70         ┆      ┆          ┆ molecule   ┆   ┆            ┆ OS         ┆ c1-c1nnc(N ┆ LNLSO-UHF │\n",
              "│            ┆      ┆          ┆            ┆   ┆            ┆            ┆ N)s1.Cl    ┆ FFAOYSA-N │\n",
              "│ CHEMBL3335 ┆ null ┆ null     ┆ Small      ┆ … ┆ ACID       ┆ C41H46O19  ┆ COC(=O)[C@ ┆ KGUJQZWYZ │\n",
              "│ 528        ┆      ┆          ┆ molecule   ┆   ┆            ┆            ┆ H](O[C@@H] ┆ PYYRZ-LWE │\n",
              "│            ┆      ┆          ┆            ┆   ┆            ┆            ┆ 1O[C@@H](C ┆ WUKDVSA-N │\n",
              "│            ┆      ┆          ┆            ┆   ┆            ┆            ┆ …          ┆           │\n",
              "│ CHEMBL2419 ┆ null ┆ null     ┆ Small      ┆ … ┆ NEUTRAL    ┆ C14H12F3N3 ┆ O=c1nc(NC2 ┆ QGDMYSDFC │\n",
              "│ 030        ┆      ┆          ┆ molecule   ┆   ┆            ┆ O3S        ┆ CCCC2)sc2c ┆ XOKML-UHF │\n",
              "│            ┆      ┆          ┆            ┆   ┆            ┆            ┆ ([N+](=O)[ ┆ FFAOYSA-N │\n",
              "│            ┆      ┆          ┆            ┆   ┆            ┆            ┆ …          ┆           │\n",
              "│ CHEMBL3827 ┆ null ┆ null     ┆ Small      ┆ … ┆ ZWITTERION ┆ C31H56N10O ┆ CC(C)C[C@@ ┆ QJQNNLICZ │\n",
              "│ 271        ┆      ┆          ┆ molecule   ┆   ┆            ┆ 9          ┆ H]1NC(=O)[ ┆ LLPMB-VUB │\n",
              "│            ┆      ┆          ┆            ┆   ┆            ┆            ┆ C@H](CCCNC ┆ DRERZSA-N │\n",
              "│            ┆      ┆          ┆            ┆   ┆            ┆            ┆ …          ┆           │\n",
              "│ CHEMBL3465 ┆ null ┆ null     ┆ Small      ┆ … ┆ BASE       ┆ C18H26FN3O ┆ CC(O)CN1CC ┆ FZEVYCHTA │\n",
              "│ 961        ┆      ┆          ┆ molecule   ┆   ┆            ┆            ┆ C(CN(C)Cc2 ┆ DTXPM-UHF │\n",
              "│            ┆      ┆          ┆            ┆   ┆            ┆            ┆ cc(C#N)ccc ┆ FFAOYSA-N │\n",
              "│            ┆      ┆          ┆            ┆   ┆            ┆            ┆ …          ┆           │\n",
              "│ …          ┆ …    ┆ …        ┆ …          ┆ … ┆ …          ┆ …          ┆ …          ┆ …         │\n",
              "│ CHEMBL2017 ┆ null ┆ null     ┆ Small      ┆ … ┆ NEUTRAL    ┆ C15H12N4O2 ┆ COc1ccc(-c ┆ XIZUJGDKN │\n",
              "│ 916        ┆      ┆          ┆ molecule   ┆   ┆            ┆ S          ┆ 2nnc(NC(=O ┆ PVNQA-UHF │\n",
              "│            ┆      ┆          ┆            ┆   ┆            ┆            ┆ )c3cccnc3) ┆ FFAOYSA-N │\n",
              "│            ┆      ┆          ┆            ┆   ┆            ┆            ┆ …          ┆           │\n",
              "│ CHEMBL3746 ┆ null ┆ null     ┆ Small      ┆ … ┆ NEUTRAL    ┆ C18H14ClF4 ┆ CC(O)(CSc1 ┆ CRPQTBRTH │\n",
              "│ 52         ┆      ┆          ┆ molecule   ┆   ┆            ┆ NOS        ┆ ccc(F)cc1) ┆ URKII-UHF │\n",
              "│            ┆      ┆          ┆            ┆   ┆            ┆            ┆ c1cc2cc(Cl ┆ FFAOYSA-N │\n",
              "│            ┆      ┆          ┆            ┆   ┆            ┆            ┆ …          ┆           │\n",
              "│ CHEMBL1416 ┆ null ┆ null     ┆ Small      ┆ … ┆ NEUTRAL    ┆ C18H13FN6O ┆ O=C(CSc1cc ┆ QVYIEKHEJ │\n",
              "│ 264        ┆      ┆          ┆ molecule   ┆   ┆            ┆ S          ┆ c2nnc(-c3c ┆ KFNAT-UHF │\n",
              "│            ┆      ┆          ┆            ┆   ┆            ┆            ┆ ccnc3)n2n1 ┆ FFAOYSA-N │\n",
              "│            ┆      ┆          ┆            ┆   ┆            ┆            ┆ …          ┆           │\n",
              "│ CHEMBL2137 ┆ null ┆ null     ┆ Small      ┆ … ┆ NEUTRAL    ┆ C14H12N2O5 ┆ O=C(COc1cc ┆ PZTWAHGBG │\n",
              "│ 34         ┆      ┆          ┆ molecule   ┆   ┆            ┆            ┆ ccc1)Nc1cc ┆ TWVEB-UHF │\n",
              "│            ┆      ┆          ┆            ┆   ┆            ┆            ┆ c([N+](=O) ┆ FFAOYSA-N │\n",
              "│            ┆      ┆          ┆            ┆   ┆            ┆            ┆ …          ┆           │\n",
              "│ CHEMBL1531 ┆ null ┆ null     ┆ Small      ┆ … ┆ NEUTRAL    ┆ C15H11BrFN ┆ O=C(/C=C/N ┆ DKPWCCDDK │\n",
              "│ 634        ┆      ┆          ┆ molecule   ┆   ┆            ┆ O          ┆ c1ccc(F)cc ┆ FLKEC-MDZ │\n",
              "│            ┆      ┆          ┆            ┆   ┆            ┆            ┆ 1)c1ccc(Br ┆ DMXLPSA-N │\n",
              "│            ┆      ┆          ┆            ┆   ┆            ┆            ┆ …          ┆           │\n",
              "└────────────┴──────┴──────────┴────────────┴───┴────────────┴────────────┴────────────┴───────────┘"
            ]
          },
          "execution_count": 43,
          "metadata": {},
          "output_type": "execute_result"
        }
      ],
      "source": [
        "df_sm = df.filter((pl.col(\"Type\") == \"Small molecule\") & (pl.col(\"Structure Type\") != \"NONE\") & (pl.col(\"Targets\") > 0 ))\n",
        "\n",
        "df_sm #1,831,560 entries"
      ]
    },
    {
      "cell_type": "markdown",
      "metadata": {},
      "source": [
        "The next step is to save the dataframe as a parquet file.\n",
        "\n",
        "Reference: [Apache Parquet documentations](https://parquet.apache.org/docs/)\n",
        "\n",
        "I have tried two main different ways where one is using the `write_parquet()` by only adding file compression level parameter (the \"without partition\" way), and the other one using use_pyarrow & pyarrow_options to partition datasets. The changes in parquet file size are shown in the following two tables.\n",
        "\n",
        "```{{python}}\n",
        "# Without partitioning dataset\n",
        "from pathlib import Path\n",
        "path = Path.cwd() / \"chembl_sm_mols.parquet\"\n",
        "df_sm.write_parquet(path, compression_level=22)\n",
        "```\n",
        "\n",
        "+-------------------+-------------------------------------+--------------------------------------------+-------------------+\n",
        "| Compression level | Data restrictions                   | File size                                  | Number of entries |\n",
        "+===================+=====================================+============================================+===================+\n",
        "| 22                | - None                              | 127.3 MB                                   |                   |\n",
        "|                   |                                     |                                            | 2,331,700         |\n",
        "|                   |                                     |                                            |                   |\n",
        "+-------------------+-------------------------------------+--------------------------------------------+-------------------+\n",
        "| 22                | - Small molecules only              | 105.4 MB                                   | 1,920,366         |\n",
        "|                   |                                     |                                            |                   |\n",
        "+-------------------+-------------------------------------+--------------------------------------------+-------------------+\n",
        "| 22                | - Small molecules only              | 105.1 MB                                   | 1,914,881         |\n",
        "|                   | - Exclude structure type with \"NONE\"|                                            |                   |\n",
        "+-------------------+-------------------------------------+--------------------------------------------+-------------------+\n",
        "| 22                | - Small molecules only              | 100.4 MB                                   | 1,831,560         |\n",
        "|                   | - Exclude structure type with \"NONE\"|                                            |                   |\n",
        "|                   | - Remove compounds with no targets  |                                            |                   |\n",
        "+-------------------+-------------------------------------+--------------------------------------------+-------------------+\n",
        "\n",
        ": Parquet file size changes without data partitions (note: original .csv file size is 664.8 MB)\n",
        "\n",
        "```{{python}}\n",
        "# Partitioning dataset\n",
        "path = Path.cwd() / \"chembl_mols_type_part\"\n",
        "df.write_parquet(\n",
        "    path,\n",
        "    #compression_level=20,\n",
        "    use_pyarrow=True,\n",
        "    pyarrow_options={\"partition_cols\": [\"Type\"]},\n",
        ")\n",
        "```\n",
        "\n",
        "+-------------------+----------------------+---------------------------------------------+-------------------+\n",
        "| Compression level | Data restrictions    | File size                                   | Number of entries |\n",
        "+===================+======================+=============================================+===================+\n",
        "| default           | None                 | - using \"Max Phase\" as partition column     |                   |\n",
        "|                   |                      | - max phase 0 > 104 MB                      | 2,331,700         |\n",
        "|                   |                      | - max phases 1-4: each < 104 MB             |                   |\n",
        "+-------------------+----------------------+---------------------------------------------+-------------------+\n",
        "| 15                | None                 | - max phase 0 > 104 MB                      | 2,331,700         |\n",
        "|                   |                      | - max phase 1-4: each < 104 MB              |                   |\n",
        "+-------------------+----------------------+---------------------------------------------+-------------------+\n",
        "| 20                | None                 | - similar sizes as mentioned above          | 2,331,700         |\n",
        "+-------------------+----------------------+---------------------------------------------+-------------------+\n",
        "| default           | None                 | - using \"Type\" as partition column          | 2,331,700         |\n",
        "|                   |                      | - \"Small molecule\" file size = 135.2 MB     |                   |\n",
        "+-------------------+----------------------+---------------------------------------------+-------------------+\n",
        "\n",
        ": Parquet file size changes with data partitions (note: original .csv file size is 664.8 MB)\n",
        "\n",
        "Finally, it appears that the one with three data restrictions at compression level of 22 has produced a file at 100.4 MB. I'm reading this file below into a dataframe to see if it's working."
      ]
    },
    {
      "cell_type": "code",
      "execution_count": null,
      "metadata": {
        "vscode": {
          "languageId": "python"
        }
      },
      "outputs": [
        {
          "data": {
            "text/html": [
              "<div><style>\n",
              ".dataframe > thead > tr,\n",
              ".dataframe > tbody > tr {\n",
              "  text-align: right;\n",
              "  white-space: pre-wrap;\n",
              "}\n",
              "</style>\n",
              "<small>shape: (1_831_560, 32)</small><table border=\"1\" class=\"dataframe\"><thead><tr><th>ChEMBL ID</th><th>Name</th><th>Synonyms</th><th>Type</th><th>Max Phase</th><th>Molecular Weight</th><th>Targets</th><th>Bioactivities</th><th>AlogP</th><th>Polar Surface Area</th><th>HBA</th><th>HBD</th><th>#RO5 Violations</th><th>#Rotatable Bonds</th><th>Passes Ro3</th><th>QED Weighted</th><th>CX Acidic pKa</th><th>CX Basic pKa</th><th>CX LogP</th><th>CX LogD</th><th>Aromatic Rings</th><th>Structure Type</th><th>Inorganic Flag</th><th>Heavy Atoms</th><th>HBA (Lipinski)</th><th>HBD (Lipinski)</th><th>#RO5 Violations (Lipinski)</th><th>Molecular Weight (Monoisotopic)</th><th>Molecular Species</th><th>Molecular Formula</th><th>Smiles</th><th>Inchi Key</th></tr><tr><td>str</td><td>str</td><td>str</td><td>str</td><td>i64</td><td>f64</td><td>i64</td><td>i64</td><td>f64</td><td>f64</td><td>i64</td><td>i64</td><td>i64</td><td>i64</td><td>str</td><td>f64</td><td>f64</td><td>f64</td><td>f64</td><td>f64</td><td>i64</td><td>str</td><td>i64</td><td>i64</td><td>i64</td><td>i64</td><td>i64</td><td>f64</td><td>str</td><td>str</td><td>str</td><td>str</td></tr></thead><tbody><tr><td>&quot;CHEMBL539070&quot;</td><td>null</td><td>null</td><td>&quot;Small molecule&quot;</td><td>0</td><td>286.79</td><td>1</td><td>1</td><td>2.28</td><td>73.06</td><td>6</td><td>2</td><td>0</td><td>5</td><td>&quot;N&quot;</td><td>0.63</td><td>13.84</td><td>3.64</td><td>2.57</td><td>2.57</td><td>2</td><td>&quot;MOL&quot;</td><td>-1</td><td>17</td><td>5</td><td>3</td><td>0</td><td>250.0888</td><td>&quot;NEUTRAL&quot;</td><td>&quot;C11H15ClN4OS&quot;</td><td>&quot;CCCOc1ccccc1-c1nnc(NN)s1.Cl&quot;</td><td>&quot;WPEWNRKLKLNLSO-UHFFFAOYSA-N&quot;</td></tr><tr><td>&quot;CHEMBL3335528&quot;</td><td>null</td><td>null</td><td>&quot;Small molecule&quot;</td><td>0</td><td>842.8</td><td>2</td><td>6</td><td>0.18</td><td>269.57</td><td>18</td><td>5</td><td>2</td><td>17</td><td>&quot;N&quot;</td><td>0.09</td><td>3.2</td><td>null</td><td>3.31</td><td>-0.14</td><td>3</td><td>&quot;MOL&quot;</td><td>-1</td><td>60</td><td>19</td><td>5</td><td>2</td><td>842.2633</td><td>&quot;ACID&quot;</td><td>&quot;C41H46O19&quot;</td><td>&quot;COC(=O)[C@H](O[C@@H]1O[C@@H](C…</td><td>&quot;KGUJQZWYZPYYRZ-LWEWUKDVSA-N&quot;</td></tr><tr><td>&quot;CHEMBL2419030&quot;</td><td>null</td><td>null</td><td>&quot;Small molecule&quot;</td><td>0</td><td>359.33</td><td>4</td><td>4</td><td>3.94</td><td>85.13</td><td>6</td><td>1</td><td>0</td><td>3</td><td>&quot;N&quot;</td><td>0.66</td><td>null</td><td>null</td><td>3.66</td><td>3.66</td><td>2</td><td>&quot;MOL&quot;</td><td>-1</td><td>24</td><td>6</td><td>1</td><td>0</td><td>359.0551</td><td>&quot;NEUTRAL&quot;</td><td>&quot;C14H12F3N3O3S&quot;</td><td>&quot;O=c1nc(NC2CCCC2)sc2c([N+](=O)[…</td><td>&quot;QGDMYSDFCXOKML-UHFFFAOYSA-N&quot;</td></tr><tr><td>&quot;CHEMBL3827271&quot;</td><td>null</td><td>null</td><td>&quot;Small molecule&quot;</td><td>0</td><td>712.85</td><td>1</td><td>1</td><td>-2.84</td><td>319.06</td><td>10</td><td>11</td><td>2</td><td>16</td><td>&quot;N&quot;</td><td>0.07</td><td>4.08</td><td>10.49</td><td>-6.88</td><td>-8.95</td><td>0</td><td>&quot;MOL&quot;</td><td>-1</td><td>50</td><td>19</td><td>14</td><td>3</td><td>712.4232</td><td>&quot;ZWITTERION&quot;</td><td>&quot;C31H56N10O9&quot;</td><td>&quot;CC(C)C[C@@H]1NC(=O)[C@H](CCCNC…</td><td>&quot;QJQNNLICZLLPMB-VUBDRERZSA-N&quot;</td></tr><tr><td>&quot;CHEMBL3465961&quot;</td><td>null</td><td>null</td><td>&quot;Small molecule&quot;</td><td>0</td><td>319.42</td><td>16</td><td>22</td><td>2.22</td><td>50.5</td><td>4</td><td>1</td><td>0</td><td>6</td><td>&quot;N&quot;</td><td>0.87</td><td>null</td><td>9.38</td><td>2.13</td><td>-0.44</td><td>1</td><td>&quot;MOL&quot;</td><td>-1</td><td>23</td><td>4</td><td>1</td><td>0</td><td>319.206</td><td>&quot;BASE&quot;</td><td>&quot;C18H26FN3O&quot;</td><td>&quot;CC(O)CN1CCC(CN(C)Cc2cc(C#N)ccc…</td><td>&quot;FZEVYCHTADTXPM-UHFFFAOYSA-N&quot;</td></tr><tr><td>&hellip;</td><td>&hellip;</td><td>&hellip;</td><td>&hellip;</td><td>&hellip;</td><td>&hellip;</td><td>&hellip;</td><td>&hellip;</td><td>&hellip;</td><td>&hellip;</td><td>&hellip;</td><td>&hellip;</td><td>&hellip;</td><td>&hellip;</td><td>&hellip;</td><td>&hellip;</td><td>&hellip;</td><td>&hellip;</td><td>&hellip;</td><td>&hellip;</td><td>&hellip;</td><td>&hellip;</td><td>&hellip;</td><td>&hellip;</td><td>&hellip;</td><td>&hellip;</td><td>&hellip;</td><td>&hellip;</td><td>&hellip;</td><td>&hellip;</td><td>&hellip;</td><td>&hellip;</td></tr><tr><td>&quot;CHEMBL2017916&quot;</td><td>null</td><td>null</td><td>&quot;Small molecule&quot;</td><td>0</td><td>312.35</td><td>3</td><td>3</td><td>2.86</td><td>77.0</td><td>6</td><td>1</td><td>0</td><td>4</td><td>&quot;N&quot;</td><td>0.8</td><td>8.13</td><td>3.49</td><td>2.17</td><td>2.1</td><td>3</td><td>&quot;MOL&quot;</td><td>-1</td><td>22</td><td>6</td><td>1</td><td>0</td><td>312.0681</td><td>&quot;NEUTRAL&quot;</td><td>&quot;C15H12N4O2S&quot;</td><td>&quot;COc1ccc(-c2nnc(NC(=O)c3cccnc3)…</td><td>&quot;XIZUJGDKNPVNQA-UHFFFAOYSA-N&quot;</td></tr><tr><td>&quot;CHEMBL374652&quot;</td><td>null</td><td>null</td><td>&quot;Small molecule&quot;</td><td>0</td><td>403.83</td><td>1</td><td>1</td><td>5.98</td><td>36.02</td><td>2</td><td>2</td><td>1</td><td>4</td><td>&quot;N&quot;</td><td>0.42</td><td>13.65</td><td>null</td><td>5.36</td><td>5.36</td><td>3</td><td>&quot;MOL&quot;</td><td>-1</td><td>26</td><td>2</td><td>2</td><td>1</td><td>403.0421</td><td>&quot;NEUTRAL&quot;</td><td>&quot;C18H14ClF4NOS&quot;</td><td>&quot;CC(O)(CSc1ccc(F)cc1)c1cc2cc(Cl…</td><td>&quot;CRPQTBRTHURKII-UHFFFAOYSA-N&quot;</td></tr><tr><td>&quot;CHEMBL1416264&quot;</td><td>null</td><td>null</td><td>&quot;Small molecule&quot;</td><td>0</td><td>380.41</td><td>6</td><td>8</td><td>3.06</td><td>85.07</td><td>7</td><td>1</td><td>0</td><td>5</td><td>&quot;N&quot;</td><td>0.54</td><td>13.85</td><td>3.86</td><td>2.47</td><td>2.47</td><td>4</td><td>&quot;MOL&quot;</td><td>-1</td><td>27</td><td>7</td><td>1</td><td>0</td><td>380.0856</td><td>&quot;NEUTRAL&quot;</td><td>&quot;C18H13FN6OS&quot;</td><td>&quot;O=C(CSc1ccc2nnc(-c3cccnc3)n2n1…</td><td>&quot;QVYIEKHEJKFNAT-UHFFFAOYSA-N&quot;</td></tr><tr><td>&quot;CHEMBL213734&quot;</td><td>null</td><td>null</td><td>&quot;Small molecule&quot;</td><td>0</td><td>288.26</td><td>2</td><td>3</td><td>2.32</td><td>101.7</td><td>5</td><td>2</td><td>0</td><td>5</td><td>&quot;N&quot;</td><td>0.5</td><td>7.2</td><td>null</td><td>2.36</td><td>1.95</td><td>2</td><td>&quot;MOL&quot;</td><td>-1</td><td>21</td><td>7</td><td>2</td><td>0</td><td>288.0746</td><td>&quot;NEUTRAL&quot;</td><td>&quot;C14H12N2O5&quot;</td><td>&quot;O=C(COc1ccccc1)Nc1ccc([N+](=O)…</td><td>&quot;PZTWAHGBGTWVEB-UHFFFAOYSA-N&quot;</td></tr><tr><td>&quot;CHEMBL1531634&quot;</td><td>null</td><td>null</td><td>&quot;Small molecule&quot;</td><td>0</td><td>320.16</td><td>19</td><td>21</td><td>4.4</td><td>29.1</td><td>2</td><td>1</td><td>0</td><td>4</td><td>&quot;N&quot;</td><td>0.67</td><td>null</td><td>null</td><td>4.04</td><td>4.04</td><td>2</td><td>&quot;MOL&quot;</td><td>-1</td><td>19</td><td>2</td><td>1</td><td>0</td><td>319.0008</td><td>&quot;NEUTRAL&quot;</td><td>&quot;C15H11BrFNO&quot;</td><td>&quot;O=C(/C=C/Nc1ccc(F)cc1)c1ccc(Br…</td><td>&quot;DKPWCCDDKFLKEC-MDZDMXLPSA-N&quot;</td></tr></tbody></table></div>"
            ],
            "text/plain": [
              "shape: (1_831_560, 32)\n",
              "┌────────────┬──────┬──────────┬────────────┬───┬────────────┬────────────┬────────────┬───────────┐\n",
              "│ ChEMBL ID  ┆ Name ┆ Synonyms ┆ Type       ┆ … ┆ Molecular  ┆ Molecular  ┆ Smiles     ┆ Inchi Key │\n",
              "│ ---        ┆ ---  ┆ ---      ┆ ---        ┆   ┆ Species    ┆ Formula    ┆ ---        ┆ ---       │\n",
              "│ str        ┆ str  ┆ str      ┆ str        ┆   ┆ ---        ┆ ---        ┆ str        ┆ str       │\n",
              "│            ┆      ┆          ┆            ┆   ┆ str        ┆ str        ┆            ┆           │\n",
              "╞════════════╪══════╪══════════╪════════════╪═══╪════════════╪════════════╪════════════╪═══════════╡\n",
              "│ CHEMBL5390 ┆ null ┆ null     ┆ Small      ┆ … ┆ NEUTRAL    ┆ C11H15ClN4 ┆ CCCOc1cccc ┆ WPEWNRKLK │\n",
              "│ 70         ┆      ┆          ┆ molecule   ┆   ┆            ┆ OS         ┆ c1-c1nnc(N ┆ LNLSO-UHF │\n",
              "│            ┆      ┆          ┆            ┆   ┆            ┆            ┆ N)s1.Cl    ┆ FFAOYSA-N │\n",
              "│ CHEMBL3335 ┆ null ┆ null     ┆ Small      ┆ … ┆ ACID       ┆ C41H46O19  ┆ COC(=O)[C@ ┆ KGUJQZWYZ │\n",
              "│ 528        ┆      ┆          ┆ molecule   ┆   ┆            ┆            ┆ H](O[C@@H] ┆ PYYRZ-LWE │\n",
              "│            ┆      ┆          ┆            ┆   ┆            ┆            ┆ 1O[C@@H](C ┆ WUKDVSA-N │\n",
              "│            ┆      ┆          ┆            ┆   ┆            ┆            ┆ …          ┆           │\n",
              "│ CHEMBL2419 ┆ null ┆ null     ┆ Small      ┆ … ┆ NEUTRAL    ┆ C14H12F3N3 ┆ O=c1nc(NC2 ┆ QGDMYSDFC │\n",
              "│ 030        ┆      ┆          ┆ molecule   ┆   ┆            ┆ O3S        ┆ CCCC2)sc2c ┆ XOKML-UHF │\n",
              "│            ┆      ┆          ┆            ┆   ┆            ┆            ┆ ([N+](=O)[ ┆ FFAOYSA-N │\n",
              "│            ┆      ┆          ┆            ┆   ┆            ┆            ┆ …          ┆           │\n",
              "│ CHEMBL3827 ┆ null ┆ null     ┆ Small      ┆ … ┆ ZWITTERION ┆ C31H56N10O ┆ CC(C)C[C@@ ┆ QJQNNLICZ │\n",
              "│ 271        ┆      ┆          ┆ molecule   ┆   ┆            ┆ 9          ┆ H]1NC(=O)[ ┆ LLPMB-VUB │\n",
              "│            ┆      ┆          ┆            ┆   ┆            ┆            ┆ C@H](CCCNC ┆ DRERZSA-N │\n",
              "│            ┆      ┆          ┆            ┆   ┆            ┆            ┆ …          ┆           │\n",
              "│ CHEMBL3465 ┆ null ┆ null     ┆ Small      ┆ … ┆ BASE       ┆ C18H26FN3O ┆ CC(O)CN1CC ┆ FZEVYCHTA │\n",
              "│ 961        ┆      ┆          ┆ molecule   ┆   ┆            ┆            ┆ C(CN(C)Cc2 ┆ DTXPM-UHF │\n",
              "│            ┆      ┆          ┆            ┆   ┆            ┆            ┆ cc(C#N)ccc ┆ FFAOYSA-N │\n",
              "│            ┆      ┆          ┆            ┆   ┆            ┆            ┆ …          ┆           │\n",
              "│ …          ┆ …    ┆ …        ┆ …          ┆ … ┆ …          ┆ …          ┆ …          ┆ …         │\n",
              "│ CHEMBL2017 ┆ null ┆ null     ┆ Small      ┆ … ┆ NEUTRAL    ┆ C15H12N4O2 ┆ COc1ccc(-c ┆ XIZUJGDKN │\n",
              "│ 916        ┆      ┆          ┆ molecule   ┆   ┆            ┆ S          ┆ 2nnc(NC(=O ┆ PVNQA-UHF │\n",
              "│            ┆      ┆          ┆            ┆   ┆            ┆            ┆ )c3cccnc3) ┆ FFAOYSA-N │\n",
              "│            ┆      ┆          ┆            ┆   ┆            ┆            ┆ …          ┆           │\n",
              "│ CHEMBL3746 ┆ null ┆ null     ┆ Small      ┆ … ┆ NEUTRAL    ┆ C18H14ClF4 ┆ CC(O)(CSc1 ┆ CRPQTBRTH │\n",
              "│ 52         ┆      ┆          ┆ molecule   ┆   ┆            ┆ NOS        ┆ ccc(F)cc1) ┆ URKII-UHF │\n",
              "│            ┆      ┆          ┆            ┆   ┆            ┆            ┆ c1cc2cc(Cl ┆ FFAOYSA-N │\n",
              "│            ┆      ┆          ┆            ┆   ┆            ┆            ┆ …          ┆           │\n",
              "│ CHEMBL1416 ┆ null ┆ null     ┆ Small      ┆ … ┆ NEUTRAL    ┆ C18H13FN6O ┆ O=C(CSc1cc ┆ QVYIEKHEJ │\n",
              "│ 264        ┆      ┆          ┆ molecule   ┆   ┆            ┆ S          ┆ c2nnc(-c3c ┆ KFNAT-UHF │\n",
              "│            ┆      ┆          ┆            ┆   ┆            ┆            ┆ ccnc3)n2n1 ┆ FFAOYSA-N │\n",
              "│            ┆      ┆          ┆            ┆   ┆            ┆            ┆ …          ┆           │\n",
              "│ CHEMBL2137 ┆ null ┆ null     ┆ Small      ┆ … ┆ NEUTRAL    ┆ C14H12N2O5 ┆ O=C(COc1cc ┆ PZTWAHGBG │\n",
              "│ 34         ┆      ┆          ┆ molecule   ┆   ┆            ┆            ┆ ccc1)Nc1cc ┆ TWVEB-UHF │\n",
              "│            ┆      ┆          ┆            ┆   ┆            ┆            ┆ c([N+](=O) ┆ FFAOYSA-N │\n",
              "│            ┆      ┆          ┆            ┆   ┆            ┆            ┆ …          ┆           │\n",
              "│ CHEMBL1531 ┆ null ┆ null     ┆ Small      ┆ … ┆ NEUTRAL    ┆ C15H11BrFN ┆ O=C(/C=C/N ┆ DKPWCCDDK │\n",
              "│ 634        ┆      ┆          ┆ molecule   ┆   ┆            ┆ O          ┆ c1ccc(F)cc ┆ FLKEC-MDZ │\n",
              "│            ┆      ┆          ┆            ┆   ┆            ┆            ┆ 1)c1ccc(Br ┆ DMXLPSA-N │\n",
              "│            ┆      ┆          ┆            ┆   ┆            ┆            ┆ …          ┆           │\n",
              "└────────────┴──────┴──────────┴────────────┴───┴────────────┴────────────┴────────────┴───────────┘"
            ]
          },
          "execution_count": 44,
          "metadata": {},
          "output_type": "execute_result"
        }
      ],
      "source": [
        "df_pa = pl.read_parquet(\"chembl_sm_mols.parquet\")\n",
        "df_pa"
      ]
    },
    {
      "cell_type": "markdown",
      "metadata": {},
      "source": [
        "So it looks like it does. The next series of posts will be about trying to use Polars dataframe library all the way with scikit-learn."
      ]
    }
  ],
  "metadata": {
    "kernelspec": {
      "display_name": "Python 3 (ipykernel)",
      "language": "python",
      "name": "python3"
    }
  },
  "nbformat": 4,
  "nbformat_minor": 4
}
