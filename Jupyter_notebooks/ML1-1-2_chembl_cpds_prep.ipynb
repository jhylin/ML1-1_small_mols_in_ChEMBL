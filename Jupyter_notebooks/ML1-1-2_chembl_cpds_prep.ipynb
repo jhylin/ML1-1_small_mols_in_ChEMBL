{
  "cells": [
    {
      "cell_type": "raw",
      "metadata": {},
      "source": [
        "---\n",
        "title: Small molecules in ChEMBL database\n",
        "subtitle: Series 1.1.2 - Preprocessing data in Polars dataframe library\n",
        "author: Jennifer HY Lin\n",
        "date: 2023-1-4\n",
        "date-modified: last-modified\n",
        "draft: true\n",
        "categories:\n",
        "  - Machine learning projects\n",
        "  - Polars\n",
        "  - Python\n",
        "  - Jupyter\n",
        "  - ChEMBL database\n",
        "  - Cheminformatics\n",
        "bibliography: references.bib\n",
        "---"
      ]
    },
    {
      "cell_type": "markdown",
      "metadata": {},
      "source": [
        "##### **Import Polars and read parquet file**\n",
        "\n",
        "This second post will mostly be about doing some data preprocessing for the parquet file we've saved from the first post, trying to get the data in a reasonable state before moving onto the machine learning model building and training phase. The first step is to import Polars dataframe library and then read the parquet file as a dataframe."
      ]
    },
    {
      "cell_type": "code",
      "execution_count": 1,
      "metadata": {},
      "outputs": [
        {
          "data": {
            "text/html": [
              "<div><style>\n",
              ".dataframe > thead > tr,\n",
              ".dataframe > tbody > tr {\n",
              "  text-align: right;\n",
              "  white-space: pre-wrap;\n",
              "}\n",
              "</style>\n",
              "<small>shape: (1_831_560, 32)</small><table border=\"1\" class=\"dataframe\"><thead><tr><th>ChEMBL ID</th><th>Name</th><th>Synonyms</th><th>Type</th><th>Max Phase</th><th>Molecular Weight</th><th>Targets</th><th>Bioactivities</th><th>AlogP</th><th>Polar Surface Area</th><th>HBA</th><th>HBD</th><th>#RO5 Violations</th><th>#Rotatable Bonds</th><th>Passes Ro3</th><th>QED Weighted</th><th>CX Acidic pKa</th><th>CX Basic pKa</th><th>CX LogP</th><th>CX LogD</th><th>Aromatic Rings</th><th>Structure Type</th><th>Inorganic Flag</th><th>Heavy Atoms</th><th>HBA (Lipinski)</th><th>HBD (Lipinski)</th><th>#RO5 Violations (Lipinski)</th><th>Molecular Weight (Monoisotopic)</th><th>Molecular Species</th><th>Molecular Formula</th><th>Smiles</th><th>Inchi Key</th></tr><tr><td>str</td><td>str</td><td>str</td><td>str</td><td>i64</td><td>f64</td><td>i64</td><td>i64</td><td>f64</td><td>f64</td><td>i64</td><td>i64</td><td>i64</td><td>i64</td><td>str</td><td>f64</td><td>f64</td><td>f64</td><td>f64</td><td>f64</td><td>i64</td><td>str</td><td>i64</td><td>i64</td><td>i64</td><td>i64</td><td>i64</td><td>f64</td><td>str</td><td>str</td><td>str</td><td>str</td></tr></thead><tbody><tr><td>&quot;CHEMBL539070&quot;</td><td>null</td><td>null</td><td>&quot;Small molecule&quot;</td><td>0</td><td>286.79</td><td>1</td><td>1</td><td>2.28</td><td>73.06</td><td>6</td><td>2</td><td>0</td><td>5</td><td>&quot;N&quot;</td><td>0.63</td><td>13.84</td><td>3.64</td><td>2.57</td><td>2.57</td><td>2</td><td>&quot;MOL&quot;</td><td>-1</td><td>17</td><td>5</td><td>3</td><td>0</td><td>250.0888</td><td>&quot;NEUTRAL&quot;</td><td>&quot;C11H15ClN4OS&quot;</td><td>&quot;CCCOc1ccccc1-c1nnc(NN)s1.Cl&quot;</td><td>&quot;WPEWNRKLKLNLSO-UHFFFAOYSA-N&quot;</td></tr><tr><td>&quot;CHEMBL3335528&quot;</td><td>null</td><td>null</td><td>&quot;Small molecule&quot;</td><td>0</td><td>842.8</td><td>2</td><td>6</td><td>0.18</td><td>269.57</td><td>18</td><td>5</td><td>2</td><td>17</td><td>&quot;N&quot;</td><td>0.09</td><td>3.2</td><td>null</td><td>3.31</td><td>-0.14</td><td>3</td><td>&quot;MOL&quot;</td><td>-1</td><td>60</td><td>19</td><td>5</td><td>2</td><td>842.2633</td><td>&quot;ACID&quot;</td><td>&quot;C41H46O19&quot;</td><td>&quot;COC(=O)[C@H](O[C@@H]1O[C@@H](C…</td><td>&quot;KGUJQZWYZPYYRZ-LWEWUKDVSA-N&quot;</td></tr><tr><td>&quot;CHEMBL2419030&quot;</td><td>null</td><td>null</td><td>&quot;Small molecule&quot;</td><td>0</td><td>359.33</td><td>4</td><td>4</td><td>3.94</td><td>85.13</td><td>6</td><td>1</td><td>0</td><td>3</td><td>&quot;N&quot;</td><td>0.66</td><td>null</td><td>null</td><td>3.66</td><td>3.66</td><td>2</td><td>&quot;MOL&quot;</td><td>-1</td><td>24</td><td>6</td><td>1</td><td>0</td><td>359.0551</td><td>&quot;NEUTRAL&quot;</td><td>&quot;C14H12F3N3O3S&quot;</td><td>&quot;O=c1nc(NC2CCCC2)sc2c([N+](=O)[…</td><td>&quot;QGDMYSDFCXOKML-UHFFFAOYSA-N&quot;</td></tr><tr><td>&quot;CHEMBL3827271&quot;</td><td>null</td><td>null</td><td>&quot;Small molecule&quot;</td><td>0</td><td>712.85</td><td>1</td><td>1</td><td>-2.84</td><td>319.06</td><td>10</td><td>11</td><td>2</td><td>16</td><td>&quot;N&quot;</td><td>0.07</td><td>4.08</td><td>10.49</td><td>-6.88</td><td>-8.95</td><td>0</td><td>&quot;MOL&quot;</td><td>-1</td><td>50</td><td>19</td><td>14</td><td>3</td><td>712.4232</td><td>&quot;ZWITTERION&quot;</td><td>&quot;C31H56N10O9&quot;</td><td>&quot;CC(C)C[C@@H]1NC(=O)[C@H](CCCNC…</td><td>&quot;QJQNNLICZLLPMB-VUBDRERZSA-N&quot;</td></tr><tr><td>&quot;CHEMBL3465961&quot;</td><td>null</td><td>null</td><td>&quot;Small molecule&quot;</td><td>0</td><td>319.42</td><td>16</td><td>22</td><td>2.22</td><td>50.5</td><td>4</td><td>1</td><td>0</td><td>6</td><td>&quot;N&quot;</td><td>0.87</td><td>null</td><td>9.38</td><td>2.13</td><td>-0.44</td><td>1</td><td>&quot;MOL&quot;</td><td>-1</td><td>23</td><td>4</td><td>1</td><td>0</td><td>319.206</td><td>&quot;BASE&quot;</td><td>&quot;C18H26FN3O&quot;</td><td>&quot;CC(O)CN1CCC(CN(C)Cc2cc(C#N)ccc…</td><td>&quot;FZEVYCHTADTXPM-UHFFFAOYSA-N&quot;</td></tr><tr><td>&hellip;</td><td>&hellip;</td><td>&hellip;</td><td>&hellip;</td><td>&hellip;</td><td>&hellip;</td><td>&hellip;</td><td>&hellip;</td><td>&hellip;</td><td>&hellip;</td><td>&hellip;</td><td>&hellip;</td><td>&hellip;</td><td>&hellip;</td><td>&hellip;</td><td>&hellip;</td><td>&hellip;</td><td>&hellip;</td><td>&hellip;</td><td>&hellip;</td><td>&hellip;</td><td>&hellip;</td><td>&hellip;</td><td>&hellip;</td><td>&hellip;</td><td>&hellip;</td><td>&hellip;</td><td>&hellip;</td><td>&hellip;</td><td>&hellip;</td><td>&hellip;</td><td>&hellip;</td></tr><tr><td>&quot;CHEMBL2017916&quot;</td><td>null</td><td>null</td><td>&quot;Small molecule&quot;</td><td>0</td><td>312.35</td><td>3</td><td>3</td><td>2.86</td><td>77.0</td><td>6</td><td>1</td><td>0</td><td>4</td><td>&quot;N&quot;</td><td>0.8</td><td>8.13</td><td>3.49</td><td>2.17</td><td>2.1</td><td>3</td><td>&quot;MOL&quot;</td><td>-1</td><td>22</td><td>6</td><td>1</td><td>0</td><td>312.0681</td><td>&quot;NEUTRAL&quot;</td><td>&quot;C15H12N4O2S&quot;</td><td>&quot;COc1ccc(-c2nnc(NC(=O)c3cccnc3)…</td><td>&quot;XIZUJGDKNPVNQA-UHFFFAOYSA-N&quot;</td></tr><tr><td>&quot;CHEMBL374652&quot;</td><td>null</td><td>null</td><td>&quot;Small molecule&quot;</td><td>0</td><td>403.83</td><td>1</td><td>1</td><td>5.98</td><td>36.02</td><td>2</td><td>2</td><td>1</td><td>4</td><td>&quot;N&quot;</td><td>0.42</td><td>13.65</td><td>null</td><td>5.36</td><td>5.36</td><td>3</td><td>&quot;MOL&quot;</td><td>-1</td><td>26</td><td>2</td><td>2</td><td>1</td><td>403.0421</td><td>&quot;NEUTRAL&quot;</td><td>&quot;C18H14ClF4NOS&quot;</td><td>&quot;CC(O)(CSc1ccc(F)cc1)c1cc2cc(Cl…</td><td>&quot;CRPQTBRTHURKII-UHFFFAOYSA-N&quot;</td></tr><tr><td>&quot;CHEMBL1416264&quot;</td><td>null</td><td>null</td><td>&quot;Small molecule&quot;</td><td>0</td><td>380.41</td><td>6</td><td>8</td><td>3.06</td><td>85.07</td><td>7</td><td>1</td><td>0</td><td>5</td><td>&quot;N&quot;</td><td>0.54</td><td>13.85</td><td>3.86</td><td>2.47</td><td>2.47</td><td>4</td><td>&quot;MOL&quot;</td><td>-1</td><td>27</td><td>7</td><td>1</td><td>0</td><td>380.0856</td><td>&quot;NEUTRAL&quot;</td><td>&quot;C18H13FN6OS&quot;</td><td>&quot;O=C(CSc1ccc2nnc(-c3cccnc3)n2n1…</td><td>&quot;QVYIEKHEJKFNAT-UHFFFAOYSA-N&quot;</td></tr><tr><td>&quot;CHEMBL213734&quot;</td><td>null</td><td>null</td><td>&quot;Small molecule&quot;</td><td>0</td><td>288.26</td><td>2</td><td>3</td><td>2.32</td><td>101.7</td><td>5</td><td>2</td><td>0</td><td>5</td><td>&quot;N&quot;</td><td>0.5</td><td>7.2</td><td>null</td><td>2.36</td><td>1.95</td><td>2</td><td>&quot;MOL&quot;</td><td>-1</td><td>21</td><td>7</td><td>2</td><td>0</td><td>288.0746</td><td>&quot;NEUTRAL&quot;</td><td>&quot;C14H12N2O5&quot;</td><td>&quot;O=C(COc1ccccc1)Nc1ccc([N+](=O)…</td><td>&quot;PZTWAHGBGTWVEB-UHFFFAOYSA-N&quot;</td></tr><tr><td>&quot;CHEMBL1531634&quot;</td><td>null</td><td>null</td><td>&quot;Small molecule&quot;</td><td>0</td><td>320.16</td><td>19</td><td>21</td><td>4.4</td><td>29.1</td><td>2</td><td>1</td><td>0</td><td>4</td><td>&quot;N&quot;</td><td>0.67</td><td>null</td><td>null</td><td>4.04</td><td>4.04</td><td>2</td><td>&quot;MOL&quot;</td><td>-1</td><td>19</td><td>2</td><td>1</td><td>0</td><td>319.0008</td><td>&quot;NEUTRAL&quot;</td><td>&quot;C15H11BrFNO&quot;</td><td>&quot;O=C(/C=C/Nc1ccc(F)cc1)c1ccc(Br…</td><td>&quot;DKPWCCDDKFLKEC-MDZDMXLPSA-N&quot;</td></tr></tbody></table></div>"
            ],
            "text/plain": [
              "shape: (1_831_560, 32)\n",
              "┌────────────┬──────┬──────────┬────────────┬───┬────────────┬────────────┬────────────┬───────────┐\n",
              "│ ChEMBL ID  ┆ Name ┆ Synonyms ┆ Type       ┆ … ┆ Molecular  ┆ Molecular  ┆ Smiles     ┆ Inchi Key │\n",
              "│ ---        ┆ ---  ┆ ---      ┆ ---        ┆   ┆ Species    ┆ Formula    ┆ ---        ┆ ---       │\n",
              "│ str        ┆ str  ┆ str      ┆ str        ┆   ┆ ---        ┆ ---        ┆ str        ┆ str       │\n",
              "│            ┆      ┆          ┆            ┆   ┆ str        ┆ str        ┆            ┆           │\n",
              "╞════════════╪══════╪══════════╪════════════╪═══╪════════════╪════════════╪════════════╪═══════════╡\n",
              "│ CHEMBL5390 ┆ null ┆ null     ┆ Small      ┆ … ┆ NEUTRAL    ┆ C11H15ClN4 ┆ CCCOc1cccc ┆ WPEWNRKLK │\n",
              "│ 70         ┆      ┆          ┆ molecule   ┆   ┆            ┆ OS         ┆ c1-c1nnc(N ┆ LNLSO-UHF │\n",
              "│            ┆      ┆          ┆            ┆   ┆            ┆            ┆ N)s1.Cl    ┆ FFAOYSA-N │\n",
              "│ CHEMBL3335 ┆ null ┆ null     ┆ Small      ┆ … ┆ ACID       ┆ C41H46O19  ┆ COC(=O)[C@ ┆ KGUJQZWYZ │\n",
              "│ 528        ┆      ┆          ┆ molecule   ┆   ┆            ┆            ┆ H](O[C@@H] ┆ PYYRZ-LWE │\n",
              "│            ┆      ┆          ┆            ┆   ┆            ┆            ┆ 1O[C@@H](C ┆ WUKDVSA-N │\n",
              "│            ┆      ┆          ┆            ┆   ┆            ┆            ┆ …          ┆           │\n",
              "│ CHEMBL2419 ┆ null ┆ null     ┆ Small      ┆ … ┆ NEUTRAL    ┆ C14H12F3N3 ┆ O=c1nc(NC2 ┆ QGDMYSDFC │\n",
              "│ 030        ┆      ┆          ┆ molecule   ┆   ┆            ┆ O3S        ┆ CCCC2)sc2c ┆ XOKML-UHF │\n",
              "│            ┆      ┆          ┆            ┆   ┆            ┆            ┆ ([N+](=O)[ ┆ FFAOYSA-N │\n",
              "│            ┆      ┆          ┆            ┆   ┆            ┆            ┆ …          ┆           │\n",
              "│ CHEMBL3827 ┆ null ┆ null     ┆ Small      ┆ … ┆ ZWITTERION ┆ C31H56N10O ┆ CC(C)C[C@@ ┆ QJQNNLICZ │\n",
              "│ 271        ┆      ┆          ┆ molecule   ┆   ┆            ┆ 9          ┆ H]1NC(=O)[ ┆ LLPMB-VUB │\n",
              "│            ┆      ┆          ┆            ┆   ┆            ┆            ┆ C@H](CCCNC ┆ DRERZSA-N │\n",
              "│            ┆      ┆          ┆            ┆   ┆            ┆            ┆ …          ┆           │\n",
              "│ CHEMBL3465 ┆ null ┆ null     ┆ Small      ┆ … ┆ BASE       ┆ C18H26FN3O ┆ CC(O)CN1CC ┆ FZEVYCHTA │\n",
              "│ 961        ┆      ┆          ┆ molecule   ┆   ┆            ┆            ┆ C(CN(C)Cc2 ┆ DTXPM-UHF │\n",
              "│            ┆      ┆          ┆            ┆   ┆            ┆            ┆ cc(C#N)ccc ┆ FFAOYSA-N │\n",
              "│            ┆      ┆          ┆            ┆   ┆            ┆            ┆ …          ┆           │\n",
              "│ …          ┆ …    ┆ …        ┆ …          ┆ … ┆ …          ┆ …          ┆ …          ┆ …         │\n",
              "│ CHEMBL2017 ┆ null ┆ null     ┆ Small      ┆ … ┆ NEUTRAL    ┆ C15H12N4O2 ┆ COc1ccc(-c ┆ XIZUJGDKN │\n",
              "│ 916        ┆      ┆          ┆ molecule   ┆   ┆            ┆ S          ┆ 2nnc(NC(=O ┆ PVNQA-UHF │\n",
              "│            ┆      ┆          ┆            ┆   ┆            ┆            ┆ )c3cccnc3) ┆ FFAOYSA-N │\n",
              "│            ┆      ┆          ┆            ┆   ┆            ┆            ┆ …          ┆           │\n",
              "│ CHEMBL3746 ┆ null ┆ null     ┆ Small      ┆ … ┆ NEUTRAL    ┆ C18H14ClF4 ┆ CC(O)(CSc1 ┆ CRPQTBRTH │\n",
              "│ 52         ┆      ┆          ┆ molecule   ┆   ┆            ┆ NOS        ┆ ccc(F)cc1) ┆ URKII-UHF │\n",
              "│            ┆      ┆          ┆            ┆   ┆            ┆            ┆ c1cc2cc(Cl ┆ FFAOYSA-N │\n",
              "│            ┆      ┆          ┆            ┆   ┆            ┆            ┆ …          ┆           │\n",
              "│ CHEMBL1416 ┆ null ┆ null     ┆ Small      ┆ … ┆ NEUTRAL    ┆ C18H13FN6O ┆ O=C(CSc1cc ┆ QVYIEKHEJ │\n",
              "│ 264        ┆      ┆          ┆ molecule   ┆   ┆            ┆ S          ┆ c2nnc(-c3c ┆ KFNAT-UHF │\n",
              "│            ┆      ┆          ┆            ┆   ┆            ┆            ┆ ccnc3)n2n1 ┆ FFAOYSA-N │\n",
              "│            ┆      ┆          ┆            ┆   ┆            ┆            ┆ …          ┆           │\n",
              "│ CHEMBL2137 ┆ null ┆ null     ┆ Small      ┆ … ┆ NEUTRAL    ┆ C14H12N2O5 ┆ O=C(COc1cc ┆ PZTWAHGBG │\n",
              "│ 34         ┆      ┆          ┆ molecule   ┆   ┆            ┆            ┆ ccc1)Nc1cc ┆ TWVEB-UHF │\n",
              "│            ┆      ┆          ┆            ┆   ┆            ┆            ┆ c([N+](=O) ┆ FFAOYSA-N │\n",
              "│            ┆      ┆          ┆            ┆   ┆            ┆            ┆ …          ┆           │\n",
              "│ CHEMBL1531 ┆ null ┆ null     ┆ Small      ┆ … ┆ NEUTRAL    ┆ C15H11BrFN ┆ O=C(/C=C/N ┆ DKPWCCDDK │\n",
              "│ 634        ┆      ┆          ┆ molecule   ┆   ┆            ┆ O          ┆ c1ccc(F)cc ┆ FLKEC-MDZ │\n",
              "│            ┆      ┆          ┆            ┆   ┆            ┆            ┆ 1)c1ccc(Br ┆ DMXLPSA-N │\n",
              "│            ┆      ┆          ┆            ┆   ┆            ┆            ┆ …          ┆           │\n",
              "└────────────┴──────┴──────────┴────────────┴───┴────────────┴────────────┴────────────┴───────────┘"
            ]
          },
          "execution_count": 1,
          "metadata": {},
          "output_type": "execute_result"
        }
      ],
      "source": [
        "import polars as pl\n",
        "df_pa = pl.read_parquet(\"chembl_sm_mols.parquet\")\n",
        "df_pa"
      ]
    },
    {
      "cell_type": "markdown",
      "metadata": {},
      "source": [
        "I'm having a look at the max phase column first to see the distribution or counts of molecules in each max phase."
      ]
    },
    {
      "cell_type": "code",
      "execution_count": 2,
      "metadata": {},
      "outputs": [
        {
          "data": {
            "text/html": [
              "<div><style>\n",
              ".dataframe > thead > tr,\n",
              ".dataframe > tbody > tr {\n",
              "  text-align: right;\n",
              "  white-space: pre-wrap;\n",
              "}\n",
              "</style>\n",
              "<small>shape: (5, 2)</small><table border=\"1\" class=\"dataframe\"><thead><tr><th>Max Phase</th><th>len</th></tr><tr><td>i64</td><td>u32</td></tr></thead><tbody><tr><td>3</td><td>773</td></tr><tr><td>0</td><td>1826345</td></tr><tr><td>4</td><td>2870</td></tr><tr><td>1</td><td>520</td></tr><tr><td>2</td><td>1052</td></tr></tbody></table></div>"
            ],
            "text/plain": [
              "shape: (5, 2)\n",
              "┌───────────┬─────────┐\n",
              "│ Max Phase ┆ len     │\n",
              "│ ---       ┆ ---     │\n",
              "│ i64       ┆ u32     │\n",
              "╞═══════════╪═════════╡\n",
              "│ 3         ┆ 773     │\n",
              "│ 0         ┆ 1826345 │\n",
              "│ 4         ┆ 2870    │\n",
              "│ 1         ┆ 520     │\n",
              "│ 2         ┆ 1052    │\n",
              "└───────────┴─────────┘"
            ]
          },
          "execution_count": 2,
          "metadata": {},
          "output_type": "execute_result"
        }
      ],
      "source": [
        "df_pa.group_by(\"Max Phase\").len()"
      ]
    },
    {
      "cell_type": "markdown",
      "metadata": {},
      "source": [
        "I also want to find out what types of physicochemical properties are there in this dataset."
      ]
    },
    {
      "cell_type": "code",
      "execution_count": 3,
      "metadata": {},
      "outputs": [
        {
          "name": "stdout",
          "output_type": "stream",
          "text": [
            "Rows: 1831560\n",
            "Columns: 32\n",
            "$ ChEMBL ID                       <str> 'CHEMBL539070', 'CHEMBL3335528', 'CHEMBL2419030', 'CHEMBL3827271', 'CHEMBL3465961', 'CHEMBL3824158', 'CHEMBL194112', 'CHEMBL2047226', 'CHEMBL1991010', 'CHEMBL195644'\n",
            "$ Name                            <str> None, None, None, None, None, None, None, None, None, None\n",
            "$ Synonyms                        <str> None, None, None, None, None, None, None, None, None, None\n",
            "$ Type                            <str> 'Small molecule', 'Small molecule', 'Small molecule', 'Small molecule', 'Small molecule', 'Small molecule', 'Small molecule', 'Small molecule', 'Small molecule', 'Small molecule'\n",
            "$ Max Phase                       <i64> 0, 0, 0, 0, 0, 0, 0, 0, 0, 0\n",
            "$ Molecular Weight                <f64> 286.79, 842.8, 359.33, 712.85, 319.42, 422.48, 366.38, 452.4, 454.05, 375.47\n",
            "$ Targets                         <i64> 1, 2, 4, 1, 16, 2, 2, 4, 60, 2\n",
            "$ Bioactivities                   <i64> 1, 6, 4, 1, 22, 4, 3, 8, 60, 3\n",
            "$ AlogP                           <f64> 2.28, 0.18, 3.94, -2.84, 2.22, 5.09, 4.8, 4.93, 5.18, 4.95\n",
            "$ Polar Surface Area              <f64> 73.06, 269.57, 85.13, 319.06, 50.5, 109.54, 57.53, 53.08, 40.54, 70.42\n",
            "$ HBA                             <i64> 6, 18, 6, 10, 4, 6, 3, 5, 3, 4\n",
            "$ HBD                             <i64> 2, 5, 1, 11, 1, 2, 2, 2, 1, 2\n",
            "$ #RO5 Violations                 <i64> 0, 2, 0, 2, 0, 1, 0, 0, 1, 0\n",
            "$ #Rotatable Bonds                <i64> 5, 17, 3, 16, 6, 10, 1, 7, 8, 2\n",
            "$ Passes Ro3                      <str> 'N', 'N', 'N', 'N', 'N', 'N', 'N', 'N', 'N', 'N'\n",
            "$ QED Weighted                    <f64> 0.63, 0.09, 0.66, 0.07, 0.87, 0.31, 0.75, 0.53, 0.6, 0.73\n",
            "$ CX Acidic pKa                   <f64> 13.84, 3.2, None, 4.08, None, 4.59, 8.98, None, 13.88, 9.52\n",
            "$ CX Basic pKa                    <f64> 3.64, None, None, 10.49, 9.38, 7.99, None, 8.47, 8.48, 3.73\n",
            "$ CX LogP                         <f64> 2.57, 3.31, 3.66, -6.88, 2.13, 2.49, 4.84, 4.51, 6.34, 3.92\n",
            "$ CX LogD                         <f64> 2.57, -0.14, 3.66, -8.95, -0.44, 2.42, 4.83, 3.29, 5.22, 3.91\n",
            "$ Aromatic Rings                  <i64> 2, 3, 2, 0, 1, 2, 1, 3, 2, 2\n",
            "$ Structure Type                  <str> 'MOL', 'MOL', 'MOL', 'MOL', 'MOL', 'MOL', 'MOL', 'MOL', 'MOL', 'MOL'\n",
            "$ Inorganic Flag                  <i64> -1, -1, -1, -1, -1, -1, -1, -1, -1, -1\n",
            "$ Heavy Atoms                     <i64> 17, 60, 24, 50, 23, 31, 26, 29, 31, 28\n",
            "$ HBA (Lipinski)                  <i64> 5, 19, 6, 19, 4, 7, 3, 5, 3, 4\n",
            "$ HBD (Lipinski)                  <i64> 3, 5, 1, 14, 1, 2, 2, 2, 1, 2\n",
            "$ #RO5 Violations (Lipinski)      <i64> 0, 2, 0, 3, 0, 1, 0, 0, 1, 0\n",
            "$ Molecular Weight (Monoisotopic) <f64> 250.0888, 842.2633, 359.0551, 712.4232, 319.206, 422.1842, 366.1443, 451.1372, 417.2668, 375.1834\n",
            "$ Molecular Species               <str> 'NEUTRAL', 'ACID', 'NEUTRAL', 'ZWITTERION', 'BASE', 'ACID', 'NEUTRAL', 'NEUTRAL', 'NEUTRAL', 'NEUTRAL'\n",
            "$ Molecular Formula               <str> 'C11H15ClN4OS', 'C41H46O19', 'C14H12F3N3O3S', 'C31H56N10O9', 'C18H26FN3O', 'C24H26N2O5', 'C20H21F3O3', 'C23H26BrN5', 'C28H36ClNO2', 'C24H25NO3'\n",
            "$ Smiles                          <str> 'CCCOc1ccccc1-c1nnc(NN)s1.Cl', 'COC(=O)[C@H](O[C@@H]1O[C@@H](C)[C@@H](O)[C@@H](O)[C@@H]1O)[C@@H](O[C@@H]1O[C@H](CO)[C@H](OC(=O)c2ccccc2)[C@H](O[C@H](Cc2ccccc2)C(=O)O)[C@H]1OC(=O)c1ccccc1)C(=O)OC', 'O=c1nc(NC2CCCC2)sc2c([N+](=O)[O-])cc(C(F)(F)F)cc12', 'CC(C)C[C@@H]1NC(=O)[C@H](CCCNC(N)=O)NC(=O)[C@H](CCCCN)NC(=O)[C@H](CC(=O)O)NC(=O)[C@H](CCCCN)NC(=O)CCNC1=O', 'CC(O)CN1CCC(CN(C)Cc2cc(C#N)ccc2F)CC1', 'CCCCCCCNC(C1=C(O)C(=O)c2ccccc2C1=O)c1ccc([N+](=O)[O-])cc1', 'C[C@]12CCC3c4ccc(O)cc4CCC3C1CC(C(=O)C(F)(F)F)=C2O', 'Brc1ccc(CNc2ccnc(NC3CCN(Cc4ccccc4)CC3)n2)cc1', 'CCc1ccc(/C=C/C(=O)C2CN(CC)CCC2(O)/C=C/c2ccc(CC)cc2)cc1.Cl', 'C[C@]12CCC3c4ccc(O)cc4CCC3C1CC(C(=O)c1cccnc1)=C2O'\n",
            "$ Inchi Key                       <str> 'WPEWNRKLKLNLSO-UHFFFAOYSA-N', 'KGUJQZWYZPYYRZ-LWEWUKDVSA-N', 'QGDMYSDFCXOKML-UHFFFAOYSA-N', 'QJQNNLICZLLPMB-VUBDRERZSA-N', 'FZEVYCHTADTXPM-UHFFFAOYSA-N', 'AXOVDUYYBUYLPC-UHFFFAOYSA-N', 'FIBOSLUEJGPVMK-RYCRIANLSA-N', 'WOAVNWHCIXCOIZ-UHFFFAOYSA-N', 'XJDPAUYFONOZBC-DCPGAFKKSA-N', 'MOBPUUUBXAHZBM-KSAYNYSMSA-N'\n",
            "\n",
            "None\n"
          ]
        }
      ],
      "source": [
        "# Print all column names and data types \n",
        "print(df_pa.glimpse())"
      ]
    },
    {
      "cell_type": "markdown",
      "metadata": {},
      "source": [
        "<br>\n",
        "\n",
        "###### **Looking at some of the physicochemical properties in the dataset**\n",
        "\n",
        "I've gone through the ChEMBL_31 schema documentation and ChEMBL database website to find out the meanings for some of the column names. The explanations of the selected term are adapted from ChEMBL_31 schema documentation (available as \"Release notes\" on the website at the time), or if definitions for certain terms are not available, I resort to interpret them myself by going into \"Dinstict compounds\" section of the ChEMBL database.\n",
        "\n",
        "The definitions for some of the listed physicochemical properties are:\n",
        "\n",
        "**Max Phase** - Maximum phase of development reached for the compound (where 4 = approved). Null is where max phase has not yet been assigned.\n",
        "\n",
        "**Bioactivities** - Various biological assays used for the compounds e.g. IC~50~, GI~50~, potency tests etc.\n",
        "\n",
        "**AlogP** - Calculated partition coefficient\n",
        "\n",
        "**HBA** - Number of hydrogen bond acceptors\n",
        "\n",
        "**HBD** - Number of hydrogen bond donors\n",
        "\n",
        "**#RO5 Violations** - Number of violations of Lipinski's rule-of-five, using HBA and HBD definitions\n",
        "\n",
        "**Passes Ro3** - Indicating whether the compound passed the rule-of-three (MW \\< 300, logP \\< 3 etc)\n",
        "\n",
        "**QED Weighted** - Weighted quantitative estimate of drug likeness [@Bickerton2012]\n",
        "\n",
        "**Inorganic flag** - Indicating whether the molecule is inorganic (i.e., containing only metal atoms and \\<2 carbon atoms), where 1 = inorganic compound and 0 = non-inorganic compound (-1 meaning preclinical compound or not a drug)\n",
        "\n",
        "**Heavy Atoms** - Number of heavy (non-hydrogen) atoms\n",
        "\n",
        "**CX Acidic pKa** - The most acidic pKa calculated using ChemAxon v17.29.0\n",
        "\n",
        "**CX Basic pKa** - The most basic pKa calculated using ChemAxon v17.29.0\n",
        "\n",
        "**CX LogP** - The calculated octanol/water partition coefficient using ChemAxon v17.29.0\n",
        "\n",
        "**CX LogD** - The calculated octanol/water distribution coefficient at pH = 7.4 using ChemAxon v17.29.0\n",
        "\n",
        "**Structure Type** - based on compound_structures table, where SEQ indicates an entry in the protein_therapeutics table instead, NONE indicates an entry in neither tables, e.g. structure unknown\n",
        "\n",
        "**Inchi Key** - the IUPAC international chemical identifier key\n",
        "\n",
        "The older version of this post has had a code section for changing the data types of several columns. I've found out that this is no longer needed as I've taken care of this in the first post when I've specifically stated the null_values (e.g. \"None\" and \"\") to be converted to\"null\" during `pl.read_csv()`. When the same dataframe df_pa is read here, you'll notice that the data type for each column should be how it should be, matching the data inside each column.\n",
        "\n",
        "<br>\n",
        "\n",
        "##### **Dealing with nulls**\n",
        "\n",
        "I'm using `null_count()` to see the distributions of all null entries in the dataset."
      ]
    },
    {
      "cell_type": "code",
      "execution_count": 4,
      "metadata": {},
      "outputs": [
        {
          "data": {
            "text/html": [
              "<div><style>\n",
              ".dataframe > thead > tr,\n",
              ".dataframe > tbody > tr {\n",
              "  text-align: right;\n",
              "  white-space: pre-wrap;\n",
              "}\n",
              "</style>\n",
              "<small>shape: (1, 32)</small><table border=\"1\" class=\"dataframe\"><thead><tr><th>ChEMBL ID</th><th>Name</th><th>Synonyms</th><th>Type</th><th>Max Phase</th><th>Molecular Weight</th><th>Targets</th><th>Bioactivities</th><th>AlogP</th><th>Polar Surface Area</th><th>HBA</th><th>HBD</th><th>#RO5 Violations</th><th>#Rotatable Bonds</th><th>Passes Ro3</th><th>QED Weighted</th><th>CX Acidic pKa</th><th>CX Basic pKa</th><th>CX LogP</th><th>CX LogD</th><th>Aromatic Rings</th><th>Structure Type</th><th>Inorganic Flag</th><th>Heavy Atoms</th><th>HBA (Lipinski)</th><th>HBD (Lipinski)</th><th>#RO5 Violations (Lipinski)</th><th>Molecular Weight (Monoisotopic)</th><th>Molecular Species</th><th>Molecular Formula</th><th>Smiles</th><th>Inchi Key</th></tr><tr><td>u32</td><td>u32</td><td>u32</td><td>u32</td><td>u32</td><td>u32</td><td>u32</td><td>u32</td><td>u32</td><td>u32</td><td>u32</td><td>u32</td><td>u32</td><td>u32</td><td>u32</td><td>u32</td><td>u32</td><td>u32</td><td>u32</td><td>u32</td><td>u32</td><td>u32</td><td>u32</td><td>u32</td><td>u32</td><td>u32</td><td>u32</td><td>u32</td><td>u32</td><td>u32</td><td>u32</td><td>u32</td></tr></thead><tbody><tr><td>0</td><td>1795946</td><td>1753154</td><td>0</td><td>0</td><td>0</td><td>0</td><td>0</td><td>26426</td><td>26426</td><td>26426</td><td>26426</td><td>26426</td><td>26426</td><td>26426</td><td>26426</td><td>783038</td><td>691442</td><td>26560</td><td>26560</td><td>26426</td><td>0</td><td>0</td><td>26426</td><td>26426</td><td>26426</td><td>26426</td><td>0</td><td>43392</td><td>0</td><td>0</td><td>0</td></tr></tbody></table></div>"
            ],
            "text/plain": [
              "shape: (1, 32)\n",
              "┌───────────┬─────────┬──────────┬──────┬───┬───────────┬─────────────────────┬────────┬───────────┐\n",
              "│ ChEMBL ID ┆ Name    ┆ Synonyms ┆ Type ┆ … ┆ Molecular ┆ Molecular Formula   ┆ Smiles ┆ Inchi Key │\n",
              "│ ---       ┆ ---     ┆ ---      ┆ ---  ┆   ┆ Species   ┆ ---                 ┆ ---    ┆ ---       │\n",
              "│ u32       ┆ u32     ┆ u32      ┆ u32  ┆   ┆ ---       ┆ u32                 ┆ u32    ┆ u32       │\n",
              "│           ┆         ┆          ┆      ┆   ┆ u32       ┆                     ┆        ┆           │\n",
              "╞═══════════╪═════════╪══════════╪══════╪═══╪═══════════╪═════════════════════╪════════╪═══════════╡\n",
              "│ 0         ┆ 1795946 ┆ 1753154  ┆ 0    ┆ … ┆ 43392     ┆ 0                   ┆ 0      ┆ 0         │\n",
              "└───────────┴─────────┴──────────┴──────┴───┴───────────┴─────────────────────┴────────┴───────────┘"
            ]
          },
          "execution_count": 4,
          "metadata": {},
          "output_type": "execute_result"
        }
      ],
      "source": [
        "# Alternative code: df_pa.select(pl.all().null_count())\n",
        "df_pa.null_count()"
      ]
    },
    {
      "cell_type": "markdown",
      "metadata": {},
      "source": [
        "The following is basically several different ways to remove null values from the original dataset."
      ]
    },
    {
      "cell_type": "code",
      "execution_count": 5,
      "metadata": {},
      "outputs": [],
      "source": [
        "## ---Drop all rows with null entries---\n",
        "#df_pa.drop_nulls()\n",
        "\n",
        "## Number of rows reduced to 2,645 - seems way too much...\n",
        "\n",
        "## ---Restricting drop nulls to only subsets of nulls in strings ---\n",
        "# import polars.selectors as cs\n",
        "# df_pa.drop_nulls(subset=cs.string())\n",
        "\n",
        "## Number of rows reduced to 17,735 - hmm... try other ways?\n",
        "\n",
        "## ---Drop a row if all values are null---\n",
        "# df_pa.filter(~pl.all_horizontal(pl.all().is_null()))\n",
        "\n",
        "## No change in number of rows - meaning no one row contains all null values\n",
        "\n",
        "## ---Restricting drop nulls to a specific column---\n",
        "# df_pa.drop_nulls(subset=\"CX LogP\")\n",
        "\n",
        "## Number of rows reduced to 1,873,678"
      ]
    },
    {
      "cell_type": "markdown",
      "metadata": {},
      "source": [
        "Initially, I've tried to remove all nulls first, then I realise that removing nulls above may not be the best way to prepare the data as all max phase 4 compounds are actually also removed completely! So what I'm going to do instead is to keep them by using `fill_null()` to replace all \"null\" as \"0\" (this'll only apply to all the integers or floats in the data)."
      ]
    },
    {
      "cell_type": "code",
      "execution_count": 6,
      "metadata": {},
      "outputs": [
        {
          "data": {
            "text/html": [
              "<div><style>\n",
              ".dataframe > thead > tr,\n",
              ".dataframe > tbody > tr {\n",
              "  text-align: right;\n",
              "  white-space: pre-wrap;\n",
              "}\n",
              "</style>\n",
              "<small>shape: (1_831_560, 32)</small><table border=\"1\" class=\"dataframe\"><thead><tr><th>ChEMBL ID</th><th>Name</th><th>Synonyms</th><th>Type</th><th>Max Phase</th><th>Molecular Weight</th><th>Targets</th><th>Bioactivities</th><th>AlogP</th><th>Polar Surface Area</th><th>HBA</th><th>HBD</th><th>#RO5 Violations</th><th>#Rotatable Bonds</th><th>Passes Ro3</th><th>QED Weighted</th><th>CX Acidic pKa</th><th>CX Basic pKa</th><th>CX LogP</th><th>CX LogD</th><th>Aromatic Rings</th><th>Structure Type</th><th>Inorganic Flag</th><th>Heavy Atoms</th><th>HBA (Lipinski)</th><th>HBD (Lipinski)</th><th>#RO5 Violations (Lipinski)</th><th>Molecular Weight (Monoisotopic)</th><th>Molecular Species</th><th>Molecular Formula</th><th>Smiles</th><th>Inchi Key</th></tr><tr><td>str</td><td>str</td><td>str</td><td>str</td><td>i64</td><td>f64</td><td>i64</td><td>i64</td><td>f64</td><td>f64</td><td>i64</td><td>i64</td><td>i64</td><td>i64</td><td>str</td><td>f64</td><td>f64</td><td>f64</td><td>f64</td><td>f64</td><td>i64</td><td>str</td><td>i64</td><td>i64</td><td>i64</td><td>i64</td><td>i64</td><td>f64</td><td>str</td><td>str</td><td>str</td><td>str</td></tr></thead><tbody><tr><td>&quot;CHEMBL539070&quot;</td><td>null</td><td>null</td><td>&quot;Small molecule&quot;</td><td>0</td><td>286.79</td><td>1</td><td>1</td><td>2.28</td><td>73.06</td><td>6</td><td>2</td><td>0</td><td>5</td><td>&quot;N&quot;</td><td>0.63</td><td>13.84</td><td>3.64</td><td>2.57</td><td>2.57</td><td>2</td><td>&quot;MOL&quot;</td><td>-1</td><td>17</td><td>5</td><td>3</td><td>0</td><td>250.0888</td><td>&quot;NEUTRAL&quot;</td><td>&quot;C11H15ClN4OS&quot;</td><td>&quot;CCCOc1ccccc1-c1nnc(NN)s1.Cl&quot;</td><td>&quot;WPEWNRKLKLNLSO-UHFFFAOYSA-N&quot;</td></tr><tr><td>&quot;CHEMBL3335528&quot;</td><td>null</td><td>null</td><td>&quot;Small molecule&quot;</td><td>0</td><td>842.8</td><td>2</td><td>6</td><td>0.18</td><td>269.57</td><td>18</td><td>5</td><td>2</td><td>17</td><td>&quot;N&quot;</td><td>0.09</td><td>3.2</td><td>0.0</td><td>3.31</td><td>-0.14</td><td>3</td><td>&quot;MOL&quot;</td><td>-1</td><td>60</td><td>19</td><td>5</td><td>2</td><td>842.2633</td><td>&quot;ACID&quot;</td><td>&quot;C41H46O19&quot;</td><td>&quot;COC(=O)[C@H](O[C@@H]1O[C@@H](C…</td><td>&quot;KGUJQZWYZPYYRZ-LWEWUKDVSA-N&quot;</td></tr><tr><td>&quot;CHEMBL2419030&quot;</td><td>null</td><td>null</td><td>&quot;Small molecule&quot;</td><td>0</td><td>359.33</td><td>4</td><td>4</td><td>3.94</td><td>85.13</td><td>6</td><td>1</td><td>0</td><td>3</td><td>&quot;N&quot;</td><td>0.66</td><td>0.0</td><td>0.0</td><td>3.66</td><td>3.66</td><td>2</td><td>&quot;MOL&quot;</td><td>-1</td><td>24</td><td>6</td><td>1</td><td>0</td><td>359.0551</td><td>&quot;NEUTRAL&quot;</td><td>&quot;C14H12F3N3O3S&quot;</td><td>&quot;O=c1nc(NC2CCCC2)sc2c([N+](=O)[…</td><td>&quot;QGDMYSDFCXOKML-UHFFFAOYSA-N&quot;</td></tr><tr><td>&quot;CHEMBL3827271&quot;</td><td>null</td><td>null</td><td>&quot;Small molecule&quot;</td><td>0</td><td>712.85</td><td>1</td><td>1</td><td>-2.84</td><td>319.06</td><td>10</td><td>11</td><td>2</td><td>16</td><td>&quot;N&quot;</td><td>0.07</td><td>4.08</td><td>10.49</td><td>-6.88</td><td>-8.95</td><td>0</td><td>&quot;MOL&quot;</td><td>-1</td><td>50</td><td>19</td><td>14</td><td>3</td><td>712.4232</td><td>&quot;ZWITTERION&quot;</td><td>&quot;C31H56N10O9&quot;</td><td>&quot;CC(C)C[C@@H]1NC(=O)[C@H](CCCNC…</td><td>&quot;QJQNNLICZLLPMB-VUBDRERZSA-N&quot;</td></tr><tr><td>&quot;CHEMBL3465961&quot;</td><td>null</td><td>null</td><td>&quot;Small molecule&quot;</td><td>0</td><td>319.42</td><td>16</td><td>22</td><td>2.22</td><td>50.5</td><td>4</td><td>1</td><td>0</td><td>6</td><td>&quot;N&quot;</td><td>0.87</td><td>0.0</td><td>9.38</td><td>2.13</td><td>-0.44</td><td>1</td><td>&quot;MOL&quot;</td><td>-1</td><td>23</td><td>4</td><td>1</td><td>0</td><td>319.206</td><td>&quot;BASE&quot;</td><td>&quot;C18H26FN3O&quot;</td><td>&quot;CC(O)CN1CCC(CN(C)Cc2cc(C#N)ccc…</td><td>&quot;FZEVYCHTADTXPM-UHFFFAOYSA-N&quot;</td></tr><tr><td>&hellip;</td><td>&hellip;</td><td>&hellip;</td><td>&hellip;</td><td>&hellip;</td><td>&hellip;</td><td>&hellip;</td><td>&hellip;</td><td>&hellip;</td><td>&hellip;</td><td>&hellip;</td><td>&hellip;</td><td>&hellip;</td><td>&hellip;</td><td>&hellip;</td><td>&hellip;</td><td>&hellip;</td><td>&hellip;</td><td>&hellip;</td><td>&hellip;</td><td>&hellip;</td><td>&hellip;</td><td>&hellip;</td><td>&hellip;</td><td>&hellip;</td><td>&hellip;</td><td>&hellip;</td><td>&hellip;</td><td>&hellip;</td><td>&hellip;</td><td>&hellip;</td><td>&hellip;</td></tr><tr><td>&quot;CHEMBL2017916&quot;</td><td>null</td><td>null</td><td>&quot;Small molecule&quot;</td><td>0</td><td>312.35</td><td>3</td><td>3</td><td>2.86</td><td>77.0</td><td>6</td><td>1</td><td>0</td><td>4</td><td>&quot;N&quot;</td><td>0.8</td><td>8.13</td><td>3.49</td><td>2.17</td><td>2.1</td><td>3</td><td>&quot;MOL&quot;</td><td>-1</td><td>22</td><td>6</td><td>1</td><td>0</td><td>312.0681</td><td>&quot;NEUTRAL&quot;</td><td>&quot;C15H12N4O2S&quot;</td><td>&quot;COc1ccc(-c2nnc(NC(=O)c3cccnc3)…</td><td>&quot;XIZUJGDKNPVNQA-UHFFFAOYSA-N&quot;</td></tr><tr><td>&quot;CHEMBL374652&quot;</td><td>null</td><td>null</td><td>&quot;Small molecule&quot;</td><td>0</td><td>403.83</td><td>1</td><td>1</td><td>5.98</td><td>36.02</td><td>2</td><td>2</td><td>1</td><td>4</td><td>&quot;N&quot;</td><td>0.42</td><td>13.65</td><td>0.0</td><td>5.36</td><td>5.36</td><td>3</td><td>&quot;MOL&quot;</td><td>-1</td><td>26</td><td>2</td><td>2</td><td>1</td><td>403.0421</td><td>&quot;NEUTRAL&quot;</td><td>&quot;C18H14ClF4NOS&quot;</td><td>&quot;CC(O)(CSc1ccc(F)cc1)c1cc2cc(Cl…</td><td>&quot;CRPQTBRTHURKII-UHFFFAOYSA-N&quot;</td></tr><tr><td>&quot;CHEMBL1416264&quot;</td><td>null</td><td>null</td><td>&quot;Small molecule&quot;</td><td>0</td><td>380.41</td><td>6</td><td>8</td><td>3.06</td><td>85.07</td><td>7</td><td>1</td><td>0</td><td>5</td><td>&quot;N&quot;</td><td>0.54</td><td>13.85</td><td>3.86</td><td>2.47</td><td>2.47</td><td>4</td><td>&quot;MOL&quot;</td><td>-1</td><td>27</td><td>7</td><td>1</td><td>0</td><td>380.0856</td><td>&quot;NEUTRAL&quot;</td><td>&quot;C18H13FN6OS&quot;</td><td>&quot;O=C(CSc1ccc2nnc(-c3cccnc3)n2n1…</td><td>&quot;QVYIEKHEJKFNAT-UHFFFAOYSA-N&quot;</td></tr><tr><td>&quot;CHEMBL213734&quot;</td><td>null</td><td>null</td><td>&quot;Small molecule&quot;</td><td>0</td><td>288.26</td><td>2</td><td>3</td><td>2.32</td><td>101.7</td><td>5</td><td>2</td><td>0</td><td>5</td><td>&quot;N&quot;</td><td>0.5</td><td>7.2</td><td>0.0</td><td>2.36</td><td>1.95</td><td>2</td><td>&quot;MOL&quot;</td><td>-1</td><td>21</td><td>7</td><td>2</td><td>0</td><td>288.0746</td><td>&quot;NEUTRAL&quot;</td><td>&quot;C14H12N2O5&quot;</td><td>&quot;O=C(COc1ccccc1)Nc1ccc([N+](=O)…</td><td>&quot;PZTWAHGBGTWVEB-UHFFFAOYSA-N&quot;</td></tr><tr><td>&quot;CHEMBL1531634&quot;</td><td>null</td><td>null</td><td>&quot;Small molecule&quot;</td><td>0</td><td>320.16</td><td>19</td><td>21</td><td>4.4</td><td>29.1</td><td>2</td><td>1</td><td>0</td><td>4</td><td>&quot;N&quot;</td><td>0.67</td><td>0.0</td><td>0.0</td><td>4.04</td><td>4.04</td><td>2</td><td>&quot;MOL&quot;</td><td>-1</td><td>19</td><td>2</td><td>1</td><td>0</td><td>319.0008</td><td>&quot;NEUTRAL&quot;</td><td>&quot;C15H11BrFNO&quot;</td><td>&quot;O=C(/C=C/Nc1ccc(F)cc1)c1ccc(Br…</td><td>&quot;DKPWCCDDKFLKEC-MDZDMXLPSA-N&quot;</td></tr></tbody></table></div>"
            ],
            "text/plain": [
              "shape: (1_831_560, 32)\n",
              "┌────────────┬──────┬──────────┬────────────┬───┬────────────┬────────────┬────────────┬───────────┐\n",
              "│ ChEMBL ID  ┆ Name ┆ Synonyms ┆ Type       ┆ … ┆ Molecular  ┆ Molecular  ┆ Smiles     ┆ Inchi Key │\n",
              "│ ---        ┆ ---  ┆ ---      ┆ ---        ┆   ┆ Species    ┆ Formula    ┆ ---        ┆ ---       │\n",
              "│ str        ┆ str  ┆ str      ┆ str        ┆   ┆ ---        ┆ ---        ┆ str        ┆ str       │\n",
              "│            ┆      ┆          ┆            ┆   ┆ str        ┆ str        ┆            ┆           │\n",
              "╞════════════╪══════╪══════════╪════════════╪═══╪════════════╪════════════╪════════════╪═══════════╡\n",
              "│ CHEMBL5390 ┆ null ┆ null     ┆ Small      ┆ … ┆ NEUTRAL    ┆ C11H15ClN4 ┆ CCCOc1cccc ┆ WPEWNRKLK │\n",
              "│ 70         ┆      ┆          ┆ molecule   ┆   ┆            ┆ OS         ┆ c1-c1nnc(N ┆ LNLSO-UHF │\n",
              "│            ┆      ┆          ┆            ┆   ┆            ┆            ┆ N)s1.Cl    ┆ FFAOYSA-N │\n",
              "│ CHEMBL3335 ┆ null ┆ null     ┆ Small      ┆ … ┆ ACID       ┆ C41H46O19  ┆ COC(=O)[C@ ┆ KGUJQZWYZ │\n",
              "│ 528        ┆      ┆          ┆ molecule   ┆   ┆            ┆            ┆ H](O[C@@H] ┆ PYYRZ-LWE │\n",
              "│            ┆      ┆          ┆            ┆   ┆            ┆            ┆ 1O[C@@H](C ┆ WUKDVSA-N │\n",
              "│            ┆      ┆          ┆            ┆   ┆            ┆            ┆ …          ┆           │\n",
              "│ CHEMBL2419 ┆ null ┆ null     ┆ Small      ┆ … ┆ NEUTRAL    ┆ C14H12F3N3 ┆ O=c1nc(NC2 ┆ QGDMYSDFC │\n",
              "│ 030        ┆      ┆          ┆ molecule   ┆   ┆            ┆ O3S        ┆ CCCC2)sc2c ┆ XOKML-UHF │\n",
              "│            ┆      ┆          ┆            ┆   ┆            ┆            ┆ ([N+](=O)[ ┆ FFAOYSA-N │\n",
              "│            ┆      ┆          ┆            ┆   ┆            ┆            ┆ …          ┆           │\n",
              "│ CHEMBL3827 ┆ null ┆ null     ┆ Small      ┆ … ┆ ZWITTERION ┆ C31H56N10O ┆ CC(C)C[C@@ ┆ QJQNNLICZ │\n",
              "│ 271        ┆      ┆          ┆ molecule   ┆   ┆            ┆ 9          ┆ H]1NC(=O)[ ┆ LLPMB-VUB │\n",
              "│            ┆      ┆          ┆            ┆   ┆            ┆            ┆ C@H](CCCNC ┆ DRERZSA-N │\n",
              "│            ┆      ┆          ┆            ┆   ┆            ┆            ┆ …          ┆           │\n",
              "│ CHEMBL3465 ┆ null ┆ null     ┆ Small      ┆ … ┆ BASE       ┆ C18H26FN3O ┆ CC(O)CN1CC ┆ FZEVYCHTA │\n",
              "│ 961        ┆      ┆          ┆ molecule   ┆   ┆            ┆            ┆ C(CN(C)Cc2 ┆ DTXPM-UHF │\n",
              "│            ┆      ┆          ┆            ┆   ┆            ┆            ┆ cc(C#N)ccc ┆ FFAOYSA-N │\n",
              "│            ┆      ┆          ┆            ┆   ┆            ┆            ┆ …          ┆           │\n",
              "│ …          ┆ …    ┆ …        ┆ …          ┆ … ┆ …          ┆ …          ┆ …          ┆ …         │\n",
              "│ CHEMBL2017 ┆ null ┆ null     ┆ Small      ┆ … ┆ NEUTRAL    ┆ C15H12N4O2 ┆ COc1ccc(-c ┆ XIZUJGDKN │\n",
              "│ 916        ┆      ┆          ┆ molecule   ┆   ┆            ┆ S          ┆ 2nnc(NC(=O ┆ PVNQA-UHF │\n",
              "│            ┆      ┆          ┆            ┆   ┆            ┆            ┆ )c3cccnc3) ┆ FFAOYSA-N │\n",
              "│            ┆      ┆          ┆            ┆   ┆            ┆            ┆ …          ┆           │\n",
              "│ CHEMBL3746 ┆ null ┆ null     ┆ Small      ┆ … ┆ NEUTRAL    ┆ C18H14ClF4 ┆ CC(O)(CSc1 ┆ CRPQTBRTH │\n",
              "│ 52         ┆      ┆          ┆ molecule   ┆   ┆            ┆ NOS        ┆ ccc(F)cc1) ┆ URKII-UHF │\n",
              "│            ┆      ┆          ┆            ┆   ┆            ┆            ┆ c1cc2cc(Cl ┆ FFAOYSA-N │\n",
              "│            ┆      ┆          ┆            ┆   ┆            ┆            ┆ …          ┆           │\n",
              "│ CHEMBL1416 ┆ null ┆ null     ┆ Small      ┆ … ┆ NEUTRAL    ┆ C18H13FN6O ┆ O=C(CSc1cc ┆ QVYIEKHEJ │\n",
              "│ 264        ┆      ┆          ┆ molecule   ┆   ┆            ┆ S          ┆ c2nnc(-c3c ┆ KFNAT-UHF │\n",
              "│            ┆      ┆          ┆            ┆   ┆            ┆            ┆ ccnc3)n2n1 ┆ FFAOYSA-N │\n",
              "│            ┆      ┆          ┆            ┆   ┆            ┆            ┆ …          ┆           │\n",
              "│ CHEMBL2137 ┆ null ┆ null     ┆ Small      ┆ … ┆ NEUTRAL    ┆ C14H12N2O5 ┆ O=C(COc1cc ┆ PZTWAHGBG │\n",
              "│ 34         ┆      ┆          ┆ molecule   ┆   ┆            ┆            ┆ ccc1)Nc1cc ┆ TWVEB-UHF │\n",
              "│            ┆      ┆          ┆            ┆   ┆            ┆            ┆ c([N+](=O) ┆ FFAOYSA-N │\n",
              "│            ┆      ┆          ┆            ┆   ┆            ┆            ┆ …          ┆           │\n",
              "│ CHEMBL1531 ┆ null ┆ null     ┆ Small      ┆ … ┆ NEUTRAL    ┆ C15H11BrFN ┆ O=C(/C=C/N ┆ DKPWCCDDK │\n",
              "│ 634        ┆      ┆          ┆ molecule   ┆   ┆            ┆ O          ┆ c1ccc(F)cc ┆ FLKEC-MDZ │\n",
              "│            ┆      ┆          ┆            ┆   ┆            ┆            ┆ 1)c1ccc(Br ┆ DMXLPSA-N │\n",
              "│            ┆      ┆          ┆            ┆   ┆            ┆            ┆ …          ┆           │\n",
              "└────────────┴──────┴──────────┴────────────┴───┴────────────┴────────────┴────────────┴───────────┘"
            ]
          },
          "execution_count": 6,
          "metadata": {},
          "output_type": "execute_result"
        }
      ],
      "source": [
        "df_pa = df_pa.fill_null(0)\n",
        "df_pa"
      ]
    },
    {
      "cell_type": "code",
      "execution_count": 7,
      "metadata": {},
      "outputs": [
        {
          "data": {
            "text/html": [
              "<div><style>\n",
              ".dataframe > thead > tr,\n",
              ".dataframe > tbody > tr {\n",
              "  text-align: right;\n",
              "  white-space: pre-wrap;\n",
              "}\n",
              "</style>\n",
              "<small>shape: (9, 33)</small><table border=\"1\" class=\"dataframe\"><thead><tr><th>statistic</th><th>ChEMBL ID</th><th>Name</th><th>Synonyms</th><th>Type</th><th>Max Phase</th><th>Molecular Weight</th><th>Targets</th><th>Bioactivities</th><th>AlogP</th><th>Polar Surface Area</th><th>HBA</th><th>HBD</th><th>#RO5 Violations</th><th>#Rotatable Bonds</th><th>Passes Ro3</th><th>QED Weighted</th><th>CX Acidic pKa</th><th>CX Basic pKa</th><th>CX LogP</th><th>CX LogD</th><th>Aromatic Rings</th><th>Structure Type</th><th>Inorganic Flag</th><th>Heavy Atoms</th><th>HBA (Lipinski)</th><th>HBD (Lipinski)</th><th>#RO5 Violations (Lipinski)</th><th>Molecular Weight (Monoisotopic)</th><th>Molecular Species</th><th>Molecular Formula</th><th>Smiles</th><th>Inchi Key</th></tr><tr><td>str</td><td>str</td><td>str</td><td>str</td><td>str</td><td>f64</td><td>f64</td><td>f64</td><td>f64</td><td>f64</td><td>f64</td><td>f64</td><td>f64</td><td>f64</td><td>f64</td><td>str</td><td>f64</td><td>f64</td><td>f64</td><td>f64</td><td>f64</td><td>f64</td><td>str</td><td>f64</td><td>f64</td><td>f64</td><td>f64</td><td>f64</td><td>f64</td><td>str</td><td>str</td><td>str</td><td>str</td></tr></thead><tbody><tr><td>&quot;count&quot;</td><td>&quot;1831560&quot;</td><td>&quot;35614&quot;</td><td>&quot;78406&quot;</td><td>&quot;1831560&quot;</td><td>1.83156e6</td><td>1.83156e6</td><td>1.83156e6</td><td>1.83156e6</td><td>1.83156e6</td><td>1.83156e6</td><td>1.83156e6</td><td>1.83156e6</td><td>1.83156e6</td><td>1.83156e6</td><td>&quot;1805134&quot;</td><td>1.83156e6</td><td>1.83156e6</td><td>1.83156e6</td><td>1.83156e6</td><td>1.83156e6</td><td>1.83156e6</td><td>&quot;1831560&quot;</td><td>1.83156e6</td><td>1.83156e6</td><td>1.83156e6</td><td>1.83156e6</td><td>1.83156e6</td><td>1.83156e6</td><td>&quot;1788168&quot;</td><td>&quot;1831560&quot;</td><td>&quot;1831560&quot;</td><td>&quot;1831560&quot;</td></tr><tr><td>&quot;null_count&quot;</td><td>&quot;0&quot;</td><td>&quot;1795946&quot;</td><td>&quot;1753154&quot;</td><td>&quot;0&quot;</td><td>0.0</td><td>0.0</td><td>0.0</td><td>0.0</td><td>0.0</td><td>0.0</td><td>0.0</td><td>0.0</td><td>0.0</td><td>0.0</td><td>&quot;26426&quot;</td><td>0.0</td><td>0.0</td><td>0.0</td><td>0.0</td><td>0.0</td><td>0.0</td><td>&quot;0&quot;</td><td>0.0</td><td>0.0</td><td>0.0</td><td>0.0</td><td>0.0</td><td>0.0</td><td>&quot;43392&quot;</td><td>&quot;0&quot;</td><td>&quot;0&quot;</td><td>&quot;0&quot;</td></tr><tr><td>&quot;mean&quot;</td><td>null</td><td>null</td><td>null</td><td>null</td><td>0.008967</td><td>418.62922</td><td>6.499244</td><td>9.722575</td><td>3.456912</td><td>80.668031</td><td>5.18864</td><td>1.549416</td><td>0.398376</td><td>5.616697</td><td>null</td><td>0.54128</td><td>5.269918</td><td>3.389479</td><td>3.156906</td><td>2.541117</td><td>2.441586</td><td>null</td><td>-0.995465</td><td>28.001124</td><td>6.187292</td><td>1.69613</td><td>0.443761</td><td>414.111544</td><td>null</td><td>null</td><td>null</td><td>null</td></tr><tr><td>&quot;std&quot;</td><td>null</td><td>null</td><td>null</td><td>null</td><td>0.177118</td><td>186.287522</td><td>14.273599</td><td>49.829009</td><td>1.897507</td><td>42.587594</td><td>2.445579</td><td>1.480168</td><td>0.710891</td><td>3.680179</td><td>null</td><td>0.225859</td><td>5.342831</td><td>3.640044</td><td>2.115381</td><td>2.433513</td><td>1.247167</td><td>null</td><td>0.067517</td><td>9.239756</td><td>2.86568</td><td>1.700808</td><td>0.780102</td><td>184.202916</td><td>null</td><td>null</td><td>null</td><td>null</td></tr><tr><td>&quot;min&quot;</td><td>&quot;CHEMBL1&quot;</td><td>&quot;(+) NEOMENTHOL&quot;</td><td>&quot;&#x27;CLOPRA-&#x27;&#x27;YELLOW&#x27;&#x27;&#x27;|AHR-3070-C…</td><td>&quot;Small molecule&quot;</td><td>0.0</td><td>4.0</td><td>1.0</td><td>1.0</td><td>-14.26</td><td>0.0</td><td>0.0</td><td>0.0</td><td>0.0</td><td>0.0</td><td>&quot;N&quot;</td><td>0.0</td><td>-19.61</td><td>0.0</td><td>-20.95</td><td>-29.96</td><td>0.0</td><td>&quot;MOL&quot;</td><td>-1.0</td><td>0.0</td><td>0.0</td><td>0.0</td><td>0.0</td><td>4.0026</td><td>&quot;ACID&quot;</td><td>&quot;Ag+&quot;</td><td>&quot;B.CC(=O)OC1CN2CCC1CC2&quot;</td><td>&quot;AAAAEENPAALFRN-UHFFFAOYSA-N&quot;</td></tr><tr><td>&quot;25%&quot;</td><td>null</td><td>null</td><td>null</td><td>null</td><td>0.0</td><td>326.42</td><td>1.0</td><td>2.0</td><td>2.34</td><td>54.35</td><td>4.0</td><td>1.0</td><td>0.0</td><td>3.0</td><td>null</td><td>0.38</td><td>0.0</td><td>0.0</td><td>1.96</td><td>1.29</td><td>2.0</td><td>null</td><td>-1.0</td><td>22.0</td><td>4.0</td><td>1.0</td><td>0.0</td><td>323.2209</td><td>null</td><td>null</td><td>null</td><td>null</td></tr><tr><td>&quot;50%&quot;</td><td>null</td><td>null</td><td>null</td><td>null</td><td>0.0</td><td>393.49</td><td>3.0</td><td>4.0</td><td>3.45</td><td>75.27</td><td>5.0</td><td>1.0</td><td>0.0</td><td>5.0</td><td>null</td><td>0.56</td><td>3.89</td><td>2.13</td><td>3.21</td><td>2.72</td><td>2.0</td><td>null</td><td>-1.0</td><td>27.0</td><td>6.0</td><td>1.0</td><td>0.0</td><td>389.2355</td><td>null</td><td>null</td><td>null</td><td>null</td></tr><tr><td>&quot;75%&quot;</td><td>null</td><td>null</td><td>null</td><td>null</td><td>0.0</td><td>471.73</td><td>6.0</td><td>9.0</td><td>4.59</td><td>99.38</td><td>6.0</td><td>2.0</td><td>1.0</td><td>7.0</td><td>null</td><td>0.73</td><td>10.61</td><td>6.58</td><td>4.43</td><td>4.02</td><td>3.0</td><td>null</td><td>-1.0</td><td>33.0</td><td>8.0</td><td>2.0</td><td>1.0</td><td>467.1879</td><td>null</td><td>null</td><td>null</td><td>null</td></tr><tr><td>&quot;max&quot;</td><td>&quot;CHEMBL99999&quot;</td><td>&quot;xerophilusin G&quot;</td><td>&quot;zygosporamide&quot;</td><td>&quot;Small molecule&quot;</td><td>4.0</td><td>12546.32</td><td>1334.0</td><td>17911.0</td><td>22.57</td><td>568.39</td><td>32.0</td><td>25.0</td><td>4.0</td><td>67.0</td><td>&quot;Y&quot;</td><td>0.95</td><td>14.0</td><td>61.9</td><td>24.88</td><td>22.99</td><td>30.0</td><td>&quot;MOL&quot;</td><td>1.0</td><td>79.0</td><td>35.0</td><td>31.0</td><td>4.0</td><td>8214.3786</td><td>&quot;ZWITTERION&quot;</td><td>&quot;Zn+2&quot;</td><td>&quot;n1onc2c1NC1Nc3nonc3NC1N2&quot;</td><td>&quot;ZZZZVQYIUQRCGN-UHFFFAOYSA-N&quot;</td></tr></tbody></table></div>"
            ],
            "text/plain": [
              "shape: (9, 33)\n",
              "┌───────────┬───────────┬───────────┬───────────┬───┬───────────┬───────────┬───────────┬──────────┐\n",
              "│ statistic ┆ ChEMBL ID ┆ Name      ┆ Synonyms  ┆ … ┆ Molecular ┆ Molecular ┆ Smiles    ┆ Inchi    │\n",
              "│ ---       ┆ ---       ┆ ---       ┆ ---       ┆   ┆ Species   ┆ Formula   ┆ ---       ┆ Key      │\n",
              "│ str       ┆ str       ┆ str       ┆ str       ┆   ┆ ---       ┆ ---       ┆ str       ┆ ---      │\n",
              "│           ┆           ┆           ┆           ┆   ┆ str       ┆ str       ┆           ┆ str      │\n",
              "╞═══════════╪═══════════╪═══════════╪═══════════╪═══╪═══════════╪═══════════╪═══════════╪══════════╡\n",
              "│ count     ┆ 1831560   ┆ 35614     ┆ 78406     ┆ … ┆ 1788168   ┆ 1831560   ┆ 1831560   ┆ 1831560  │\n",
              "│ null_coun ┆ 0         ┆ 1795946   ┆ 1753154   ┆ … ┆ 43392     ┆ 0         ┆ 0         ┆ 0        │\n",
              "│ t         ┆           ┆           ┆           ┆   ┆           ┆           ┆           ┆          │\n",
              "│ mean      ┆ null      ┆ null      ┆ null      ┆ … ┆ null      ┆ null      ┆ null      ┆ null     │\n",
              "│ std       ┆ null      ┆ null      ┆ null      ┆ … ┆ null      ┆ null      ┆ null      ┆ null     │\n",
              "│ min       ┆ CHEMBL1   ┆ (+) NEOME ┆ 'CLOPRA-' ┆ … ┆ ACID      ┆ Ag+       ┆ B.CC(=O)O ┆ AAAAEENP │\n",
              "│           ┆           ┆ NTHOL     ┆ 'YELLOW'' ┆   ┆           ┆           ┆ C1CN2CCC1 ┆ AALFRN-U │\n",
              "│           ┆           ┆           ┆ '|AHR-307 ┆   ┆           ┆           ┆ CC2       ┆ HFFFAOYS │\n",
              "│           ┆           ┆           ┆ 0-C…      ┆   ┆           ┆           ┆           ┆ A-N      │\n",
              "│ 25%       ┆ null      ┆ null      ┆ null      ┆ … ┆ null      ┆ null      ┆ null      ┆ null     │\n",
              "│ 50%       ┆ null      ┆ null      ┆ null      ┆ … ┆ null      ┆ null      ┆ null      ┆ null     │\n",
              "│ 75%       ┆ null      ┆ null      ┆ null      ┆ … ┆ null      ┆ null      ┆ null      ┆ null     │\n",
              "│ max       ┆ CHEMBL999 ┆ xerophilu ┆ zygospora ┆ … ┆ ZWITTERIO ┆ Zn+2      ┆ n1onc2c1N ┆ ZZZZVQYI │\n",
              "│           ┆ 99        ┆ sin G     ┆ mide      ┆   ┆ N         ┆           ┆ C1Nc3nonc ┆ UQRCGN-U │\n",
              "│           ┆           ┆           ┆           ┆   ┆           ┆           ┆ 3NC1N2    ┆ HFFFAOYS │\n",
              "│           ┆           ┆           ┆           ┆   ┆           ┆           ┆           ┆ A-N      │\n",
              "└───────────┴───────────┴───────────┴───────────┴───┴───────────┴───────────┴───────────┴──────────┘"
            ]
          },
          "execution_count": 7,
          "metadata": {},
          "output_type": "execute_result"
        }
      ],
      "source": [
        "# Summary statistics for df_dn dataset\n",
        "df_pa.describe()"
      ]
    },
    {
      "cell_type": "markdown",
      "metadata": {},
      "source": [
        "<br>\n",
        "\n",
        "##### **Looking at max phase and QED weighted**\n",
        "\n",
        "To explore some of the physicochemical and molecular properties in the dataframe, \"Max Phase\" is one of the first few that I want to have a look. Each ChEMBL compound will have a max phase number from 0 to 4 (for this particular dataset only, you'll notice that this can start from -1 in other ChEMBL datasets), where 4 means the compound is approved (e.g. a prescription medicine).\n",
        "\n",
        "While looking at max phases, I'm thinking the compounds with max phase 0 could be a testing set for prediction of their max phase outcomes, while the max phase 4 compounds could be the training set for building a machine learning (ML) model. There are of course some obvious and potential flaws of splitting a dataset like this, please treat this as an exercise for demonstration only.\n",
        "\n",
        "Below I'm checking that I do have max phases of molecules spanning across the entire range of 0 to 4."
      ]
    },
    {
      "cell_type": "code",
      "execution_count": 8,
      "metadata": {},
      "outputs": [
        {
          "data": {
            "text/html": [
              "<div><style>\n",
              ".dataframe > thead > tr,\n",
              ".dataframe > tbody > tr {\n",
              "  text-align: right;\n",
              "  white-space: pre-wrap;\n",
              "}\n",
              "</style>\n",
              "<small>shape: (5, 2)</small><table border=\"1\" class=\"dataframe\"><thead><tr><th>Max Phase</th><th>len</th></tr><tr><td>i64</td><td>u32</td></tr></thead><tbody><tr><td>0</td><td>1826345</td></tr><tr><td>3</td><td>773</td></tr><tr><td>4</td><td>2870</td></tr><tr><td>1</td><td>520</td></tr><tr><td>2</td><td>1052</td></tr></tbody></table></div>"
            ],
            "text/plain": [
              "shape: (5, 2)\n",
              "┌───────────┬─────────┐\n",
              "│ Max Phase ┆ len     │\n",
              "│ ---       ┆ ---     │\n",
              "│ i64       ┆ u32     │\n",
              "╞═══════════╪═════════╡\n",
              "│ 0         ┆ 1826345 │\n",
              "│ 3         ┆ 773     │\n",
              "│ 4         ┆ 2870    │\n",
              "│ 1         ┆ 520     │\n",
              "│ 2         ┆ 1052    │\n",
              "└───────────┴─────────┘"
            ]
          },
          "execution_count": 8,
          "metadata": {},
          "output_type": "execute_result"
        }
      ],
      "source": [
        "## Alternative code\n",
        "# df_pa.group_by(\"Max Phase\", maintain_order = True).agg(pl.len())\n",
        "df_pa.group_by(\"Max Phase\").len()"
      ]
    },
    {
      "cell_type": "markdown",
      "metadata": {},
      "source": [
        "One of the other parameters I'm interested in is \"QED Weighted\" [@Bickerton2012]. It's a measure of druglikeness for small molecules based on the concept of desirability, which is based on a total of 8 different molecular properties. These molecular properties include molecular weight, ALogP, polar surface area, number of hydrogen bond acceptors, number of hydrogen bond donors, number of rotatable bonds, number of aromatic rings and structural alerts. It's normally recorded as a number ranging from 0 to 1, where 0 is the least druglike and 1 being the most druglike.\n",
        "\n",
        "<br>\n",
        "\n",
        "##### **Prepare data prior to running ML model**\n",
        "\n",
        "The goal of this ML model is to answer this question - which physicochemical features may be useful to predict whether a compound may enter into max phase 4? \n",
        "\n",
        "A rough plan at this stage is:\n",
        "\n",
        "- to filter out max phase 4 and 0 compounds from the df_pa dataset\n",
        "\n",
        "- to use \"Max Phase\" as the target y variable for a logistic regression (LR) model because ultimately stakeholders are more likely to be interested in knowing which candidate compounds have the most likely chance to reach the final approved phase during a drug discovery project (*please bear in mind that this ML model building is more like a demo only and may not reflect real-life scenarios...*)\n",
        "\n",
        "- to use \"Polar Surface Area\", \"HBA\", \"HBD\", \"#RO5 Violations\", \"QED Weighted\", \"CX LogP\", \"CX LogD\" and \"Heavy atoms\" as the training features for building the ML model (*these molecular features are selected randomly and ideally I should include more... the first three are newly added in this updated version*)\n",
        "\n",
        "- to use max phase 0 compounds as the testing set since they are the ones not assigned with any max phase category yet\n",
        "\n",
        "- to use max phase 4 compounds as the training set since they've reached the approved phase\n",
        "\n",
        "- to build a confusion matrix in the end to see if the features selected may generate a somewhat reasonable model for predicting the outcomes of these small molecules\n",
        "\n",
        "Downsides of this plan are (there are many...):\n",
        "\n",
        "- the dataset used here may include some inorganic compounds (e.g. molecules containing metals)\n",
        "\n",
        "- the dataset is likely not very-chemically-diverse \n",
        "\n",
        "- there are only a small number of max phase 4 compounds for model training (especially comparing with the \"much larger\" amount of max phase 0 compounds present)\n",
        "\n",
        "- LR may not be the best choice of ML model to start off with (I just wanted to find out how it works at the time and because I'm updating the post now so I'm trying to keep it the same...)\n",
        "\n",
        "- other exploratory data analysis should be done really... e.g. how chemically diverse is the dataset?\n",
        "\n",
        "- this is only an exercise so will not be taking into account many other important aspects of drug discovery e.g. what disorders or illnesses are we targeting? (is it an experimentally validated and actually a suitable target?) and what have been done so far in the literatures? etc.\n",
        "\n",
        "Firstly, I'm filtering out all the max phase 0 compounds and also all the max phase 4 compounds then save them in separate dataframes."
      ]
    },
    {
      "cell_type": "code",
      "execution_count": 9,
      "metadata": {},
      "outputs": [
        {
          "data": {
            "text/html": [
              "<div><style>\n",
              ".dataframe > thead > tr,\n",
              ".dataframe > tbody > tr {\n",
              "  text-align: right;\n",
              "  white-space: pre-wrap;\n",
              "}\n",
              "</style>\n",
              "<small>shape: (1_826_345, 10)</small><table border=\"1\" class=\"dataframe\"><thead><tr><th>ChEMBL ID</th><th>Max Phase</th><th>Polar Surface Area</th><th>HBA</th><th>HBD</th><th>#RO5 Violations</th><th>QED Weighted</th><th>CX LogP</th><th>CX LogD</th><th>Heavy Atoms</th></tr><tr><td>str</td><td>i64</td><td>f64</td><td>i64</td><td>i64</td><td>i64</td><td>f64</td><td>f64</td><td>f64</td><td>i64</td></tr></thead><tbody><tr><td>&quot;CHEMBL539070&quot;</td><td>0</td><td>73.06</td><td>6</td><td>2</td><td>0</td><td>0.63</td><td>2.57</td><td>2.57</td><td>17</td></tr><tr><td>&quot;CHEMBL3335528&quot;</td><td>0</td><td>269.57</td><td>18</td><td>5</td><td>2</td><td>0.09</td><td>3.31</td><td>-0.14</td><td>60</td></tr><tr><td>&quot;CHEMBL2419030&quot;</td><td>0</td><td>85.13</td><td>6</td><td>1</td><td>0</td><td>0.66</td><td>3.66</td><td>3.66</td><td>24</td></tr><tr><td>&quot;CHEMBL3827271&quot;</td><td>0</td><td>319.06</td><td>10</td><td>11</td><td>2</td><td>0.07</td><td>-6.88</td><td>-8.95</td><td>50</td></tr><tr><td>&quot;CHEMBL3465961&quot;</td><td>0</td><td>50.5</td><td>4</td><td>1</td><td>0</td><td>0.87</td><td>2.13</td><td>-0.44</td><td>23</td></tr><tr><td>&hellip;</td><td>&hellip;</td><td>&hellip;</td><td>&hellip;</td><td>&hellip;</td><td>&hellip;</td><td>&hellip;</td><td>&hellip;</td><td>&hellip;</td><td>&hellip;</td></tr><tr><td>&quot;CHEMBL2017916&quot;</td><td>0</td><td>77.0</td><td>6</td><td>1</td><td>0</td><td>0.8</td><td>2.17</td><td>2.1</td><td>22</td></tr><tr><td>&quot;CHEMBL374652&quot;</td><td>0</td><td>36.02</td><td>2</td><td>2</td><td>1</td><td>0.42</td><td>5.36</td><td>5.36</td><td>26</td></tr><tr><td>&quot;CHEMBL1416264&quot;</td><td>0</td><td>85.07</td><td>7</td><td>1</td><td>0</td><td>0.54</td><td>2.47</td><td>2.47</td><td>27</td></tr><tr><td>&quot;CHEMBL213734&quot;</td><td>0</td><td>101.7</td><td>5</td><td>2</td><td>0</td><td>0.5</td><td>2.36</td><td>1.95</td><td>21</td></tr><tr><td>&quot;CHEMBL1531634&quot;</td><td>0</td><td>29.1</td><td>2</td><td>1</td><td>0</td><td>0.67</td><td>4.04</td><td>4.04</td><td>19</td></tr></tbody></table></div>"
            ],
            "text/plain": [
              "shape: (1_826_345, 10)\n",
              "┌────────────────┬───────────┬─────────┬─────┬───┬───────────────┬─────────┬─────────┬─────────────┐\n",
              "│ ChEMBL ID      ┆ Max Phase ┆ Polar   ┆ HBA ┆ … ┆ QED Weighted  ┆ CX LogP ┆ CX LogD ┆ Heavy Atoms │\n",
              "│ ---            ┆ ---       ┆ Surface ┆ --- ┆   ┆ ---           ┆ ---     ┆ ---     ┆ ---         │\n",
              "│ str            ┆ i64       ┆ Area    ┆ i64 ┆   ┆ f64           ┆ f64     ┆ f64     ┆ i64         │\n",
              "│                ┆           ┆ ---     ┆     ┆   ┆               ┆         ┆         ┆             │\n",
              "│                ┆           ┆ f64     ┆     ┆   ┆               ┆         ┆         ┆             │\n",
              "╞════════════════╪═══════════╪═════════╪═════╪═══╪═══════════════╪═════════╪═════════╪═════════════╡\n",
              "│ CHEMBL539070   ┆ 0         ┆ 73.06   ┆ 6   ┆ … ┆ 0.63          ┆ 2.57    ┆ 2.57    ┆ 17          │\n",
              "│ CHEMBL3335528  ┆ 0         ┆ 269.57  ┆ 18  ┆ … ┆ 0.09          ┆ 3.31    ┆ -0.14   ┆ 60          │\n",
              "│ CHEMBL2419030  ┆ 0         ┆ 85.13   ┆ 6   ┆ … ┆ 0.66          ┆ 3.66    ┆ 3.66    ┆ 24          │\n",
              "│ CHEMBL3827271  ┆ 0         ┆ 319.06  ┆ 10  ┆ … ┆ 0.07          ┆ -6.88   ┆ -8.95   ┆ 50          │\n",
              "│ CHEMBL3465961  ┆ 0         ┆ 50.5    ┆ 4   ┆ … ┆ 0.87          ┆ 2.13    ┆ -0.44   ┆ 23          │\n",
              "│ …              ┆ …         ┆ …       ┆ …   ┆ … ┆ …             ┆ …       ┆ …       ┆ …           │\n",
              "│ CHEMBL2017916  ┆ 0         ┆ 77.0    ┆ 6   ┆ … ┆ 0.8           ┆ 2.17    ┆ 2.1     ┆ 22          │\n",
              "│ CHEMBL374652   ┆ 0         ┆ 36.02   ┆ 2   ┆ … ┆ 0.42          ┆ 5.36    ┆ 5.36    ┆ 26          │\n",
              "│ CHEMBL1416264  ┆ 0         ┆ 85.07   ┆ 7   ┆ … ┆ 0.54          ┆ 2.47    ┆ 2.47    ┆ 27          │\n",
              "│ CHEMBL213734   ┆ 0         ┆ 101.7   ┆ 5   ┆ … ┆ 0.5           ┆ 2.36    ┆ 1.95    ┆ 21          │\n",
              "│ CHEMBL1531634  ┆ 0         ┆ 29.1    ┆ 2   ┆ … ┆ 0.67          ┆ 4.04    ┆ 4.04    ┆ 19          │\n",
              "└────────────────┴───────────┴─────────┴─────┴───┴───────────────┴─────────┴─────────┴─────────────┘"
            ]
          },
          "execution_count": 9,
          "metadata": {},
          "output_type": "execute_result"
        }
      ],
      "source": [
        "# Selecting all max phase 0 molecules with their training features\n",
        "df_0 = df_pa.filter((pl.col(\"Max Phase\") == 0)).select([\n",
        "  \"ChEMBL ID\", \n",
        "  \"Max Phase\",\n",
        "  \"Polar Surface Area\",\n",
        "  \"HBA\",\n",
        "  \"HBD\",\n",
        "  \"#RO5 Violations\", \n",
        "  \"QED Weighted\", \n",
        "  \"CX LogP\", \n",
        "  \"CX LogD\", \n",
        "  \"Heavy Atoms\"\n",
        "  ])\n",
        "df_0  #1,826,345 mols"
      ]
    },
    {
      "cell_type": "code",
      "execution_count": 10,
      "metadata": {},
      "outputs": [
        {
          "data": {
            "text/html": [
              "<div><style>\n",
              ".dataframe > thead > tr,\n",
              ".dataframe > tbody > tr {\n",
              "  text-align: right;\n",
              "  white-space: pre-wrap;\n",
              "}\n",
              "</style>\n",
              "<small>shape: (2_870, 10)</small><table border=\"1\" class=\"dataframe\"><thead><tr><th>ChEMBL ID</th><th>Max Phase</th><th>Polar Surface Area</th><th>HBA</th><th>HBD</th><th>#RO5 Violations</th><th>QED Weighted</th><th>CX LogP</th><th>CX LogD</th><th>Heavy Atoms</th></tr><tr><td>str</td><td>i64</td><td>f64</td><td>i64</td><td>i64</td><td>i64</td><td>f64</td><td>f64</td><td>f64</td><td>i64</td></tr></thead><tbody><tr><td>&quot;CHEMBL1200675&quot;</td><td>4</td><td>12.47</td><td>2</td><td>0</td><td>1</td><td>0.31</td><td>6.27</td><td>4.89</td><td>29</td></tr><tr><td>&quot;CHEMBL1200436&quot;</td><td>4</td><td>46.53</td><td>3</td><td>1</td><td>0</td><td>0.7</td><td>2.95</td><td>2.95</td><td>22</td></tr><tr><td>&quot;CHEMBL1096882&quot;</td><td>4</td><td>186.07</td><td>10</td><td>5</td><td>0</td><td>0.31</td><td>-1.97</td><td>-5.12</td><td>24</td></tr><tr><td>&quot;CHEMBL256997&quot;</td><td>4</td><td>76.22</td><td>4</td><td>1</td><td>0</td><td>0.8</td><td>3.92</td><td>0.68</td><td>21</td></tr><tr><td>&quot;CHEMBL2023898&quot;</td><td>4</td><td>174.64</td><td>8</td><td>4</td><td>2</td><td>0.14</td><td>4.18</td><td>4.16</td><td>54</td></tr><tr><td>&hellip;</td><td>&hellip;</td><td>&hellip;</td><td>&hellip;</td><td>&hellip;</td><td>&hellip;</td><td>&hellip;</td><td>&hellip;</td><td>&hellip;</td><td>&hellip;</td></tr><tr><td>&quot;CHEMBL1619785&quot;</td><td>4</td><td>128.03</td><td>8</td><td>2</td><td>0</td><td>0.49</td><td>2.09</td><td>1.86</td><td>34</td></tr><tr><td>&quot;CHEMBL4297142&quot;</td><td>4</td><td>0.0</td><td>0</td><td>0</td><td>0</td><td>0.0</td><td>0.0</td><td>0.0</td><td>0</td></tr><tr><td>&quot;CHEMBL2364639&quot;</td><td>4</td><td>74.02</td><td>6</td><td>1</td><td>0</td><td>0.68</td><td>3.65</td><td>2.3</td><td>30</td></tr><tr><td>&quot;CHEMBL1232131&quot;</td><td>4</td><td>94.83</td><td>4</td><td>3</td><td>0</td><td>0.44</td><td>1.2</td><td>-1.18</td><td>12</td></tr><tr><td>&quot;CHEMBL3989949&quot;</td><td>4</td><td>95.92</td><td>6</td><td>1</td><td>0</td><td>0.9</td><td>1.66</td><td>1.66</td><td>18</td></tr></tbody></table></div>"
            ],
            "text/plain": [
              "shape: (2_870, 10)\n",
              "┌────────────────┬───────────┬─────────┬─────┬───┬───────────────┬─────────┬─────────┬─────────────┐\n",
              "│ ChEMBL ID      ┆ Max Phase ┆ Polar   ┆ HBA ┆ … ┆ QED Weighted  ┆ CX LogP ┆ CX LogD ┆ Heavy Atoms │\n",
              "│ ---            ┆ ---       ┆ Surface ┆ --- ┆   ┆ ---           ┆ ---     ┆ ---     ┆ ---         │\n",
              "│ str            ┆ i64       ┆ Area    ┆ i64 ┆   ┆ f64           ┆ f64     ┆ f64     ┆ i64         │\n",
              "│                ┆           ┆ ---     ┆     ┆   ┆               ┆         ┆         ┆             │\n",
              "│                ┆           ┆ f64     ┆     ┆   ┆               ┆         ┆         ┆             │\n",
              "╞════════════════╪═══════════╪═════════╪═════╪═══╪═══════════════╪═════════╪═════════╪═════════════╡\n",
              "│ CHEMBL1200675  ┆ 4         ┆ 12.47   ┆ 2   ┆ … ┆ 0.31          ┆ 6.27    ┆ 4.89    ┆ 29          │\n",
              "│ CHEMBL1200436  ┆ 4         ┆ 46.53   ┆ 3   ┆ … ┆ 0.7           ┆ 2.95    ┆ 2.95    ┆ 22          │\n",
              "│ CHEMBL1096882  ┆ 4         ┆ 186.07  ┆ 10  ┆ … ┆ 0.31          ┆ -1.97   ┆ -5.12   ┆ 24          │\n",
              "│ CHEMBL256997   ┆ 4         ┆ 76.22   ┆ 4   ┆ … ┆ 0.8           ┆ 3.92    ┆ 0.68    ┆ 21          │\n",
              "│ CHEMBL2023898  ┆ 4         ┆ 174.64  ┆ 8   ┆ … ┆ 0.14          ┆ 4.18    ┆ 4.16    ┆ 54          │\n",
              "│ …              ┆ …         ┆ …       ┆ …   ┆ … ┆ …             ┆ …       ┆ …       ┆ …           │\n",
              "│ CHEMBL1619785  ┆ 4         ┆ 128.03  ┆ 8   ┆ … ┆ 0.49          ┆ 2.09    ┆ 1.86    ┆ 34          │\n",
              "│ CHEMBL4297142  ┆ 4         ┆ 0.0     ┆ 0   ┆ … ┆ 0.0           ┆ 0.0     ┆ 0.0     ┆ 0           │\n",
              "│ CHEMBL2364639  ┆ 4         ┆ 74.02   ┆ 6   ┆ … ┆ 0.68          ┆ 3.65    ┆ 2.3     ┆ 30          │\n",
              "│ CHEMBL1232131  ┆ 4         ┆ 94.83   ┆ 4   ┆ … ┆ 0.44          ┆ 1.2     ┆ -1.18   ┆ 12          │\n",
              "│ CHEMBL3989949  ┆ 4         ┆ 95.92   ┆ 6   ┆ … ┆ 0.9           ┆ 1.66    ┆ 1.66    ┆ 18          │\n",
              "└────────────────┴───────────┴─────────┴─────┴───┴───────────────┴─────────┴─────────┴─────────────┘"
            ]
          },
          "execution_count": 10,
          "metadata": {},
          "output_type": "execute_result"
        }
      ],
      "source": [
        "# Selecting all max phase 4 molecules with their training features\n",
        "df_4 = df_pa.filter((pl.col(\"Max Phase\") == 4)).select([\n",
        "      \"ChEMBL ID\", \n",
        "      \"Max Phase\",\n",
        "      \"Polar Surface Area\",\n",
        "      \"HBA\",\n",
        "      \"HBD\",\n",
        "      \"#RO5 Violations\", \n",
        "      \"QED Weighted\", \n",
        "      \"CX LogP\", \n",
        "      \"CX LogD\", \n",
        "      \"Heavy Atoms\"\n",
        "      ])\n",
        "df_4  # 2,870 mols"
      ]
    },
    {
      "cell_type": "code",
      "execution_count": 11,
      "metadata": {},
      "outputs": [
        {
          "data": {
            "text/html": [
              "<div><style>\n",
              ".dataframe > thead > tr,\n",
              ".dataframe > tbody > tr {\n",
              "  text-align: right;\n",
              "  white-space: pre-wrap;\n",
              "}\n",
              "</style>\n",
              "<small>shape: (9, 11)</small><table border=\"1\" class=\"dataframe\"><thead><tr><th>statistic</th><th>ChEMBL ID</th><th>Max Phase</th><th>Polar Surface Area</th><th>HBA</th><th>HBD</th><th>#RO5 Violations</th><th>QED Weighted</th><th>CX LogP</th><th>CX LogD</th><th>Heavy Atoms</th></tr><tr><td>str</td><td>str</td><td>f64</td><td>f64</td><td>f64</td><td>f64</td><td>f64</td><td>f64</td><td>f64</td><td>f64</td><td>f64</td></tr></thead><tbody><tr><td>&quot;count&quot;</td><td>&quot;2870&quot;</td><td>2870.0</td><td>2870.0</td><td>2870.0</td><td>2870.0</td><td>2870.0</td><td>2870.0</td><td>2870.0</td><td>2870.0</td><td>2870.0</td></tr><tr><td>&quot;null_count&quot;</td><td>&quot;0&quot;</td><td>0.0</td><td>0.0</td><td>0.0</td><td>0.0</td><td>0.0</td><td>0.0</td><td>0.0</td><td>0.0</td><td>0.0</td></tr><tr><td>&quot;mean&quot;</td><td>null</td><td>4.0</td><td>74.951927</td><td>4.574216</td><td>1.780488</td><td>0.340418</td><td>0.54947</td><td>1.966551</td><td>0.841592</td><td>23.863066</td></tr><tr><td>&quot;std&quot;</td><td>null</td><td>0.0</td><td>53.875964</td><td>3.06589</td><td>1.762048</td><td>0.703626</td><td>0.235063</td><td>2.61846</td><td>3.015392</td><td>11.064927</td></tr><tr><td>&quot;min&quot;</td><td>&quot;CHEMBL1000&quot;</td><td>4.0</td><td>0.0</td><td>0.0</td><td>0.0</td><td>0.0</td><td>0.0</td><td>-10.11</td><td>-17.92</td><td>0.0</td></tr><tr><td>&quot;25%&quot;</td><td>null</td><td>4.0</td><td>37.61</td><td>2.0</td><td>1.0</td><td>0.0</td><td>0.39</td><td>0.34</td><td>-0.63</td><td>17.0</td></tr><tr><td>&quot;50%&quot;</td><td>null</td><td>4.0</td><td>65.78</td><td>4.0</td><td>1.0</td><td>0.0</td><td>0.58</td><td>2.29</td><td>1.12</td><td>23.0</td></tr><tr><td>&quot;75%&quot;</td><td>null</td><td>4.0</td><td>100.9</td><td>6.0</td><td>2.0</td><td>0.0</td><td>0.74</td><td>3.73</td><td>2.75</td><td>30.0</td></tr><tr><td>&quot;max&quot;</td><td>&quot;CHEMBL99946&quot;</td><td>4.0</td><td>359.42</td><td>20.0</td><td>15.0</td><td>4.0</td><td>0.94</td><td>11.62</td><td>11.62</td><td>69.0</td></tr></tbody></table></div>"
            ],
            "text/plain": [
              "shape: (9, 11)\n",
              "┌────────────┬───────────┬───────────┬───────────┬───┬───────────┬──────────┬──────────┬───────────┐\n",
              "│ statistic  ┆ ChEMBL ID ┆ Max Phase ┆ Polar     ┆ … ┆ QED       ┆ CX LogP  ┆ CX LogD  ┆ Heavy     │\n",
              "│ ---        ┆ ---       ┆ ---       ┆ Surface   ┆   ┆ Weighted  ┆ ---      ┆ ---      ┆ Atoms     │\n",
              "│ str        ┆ str       ┆ f64       ┆ Area      ┆   ┆ ---       ┆ f64      ┆ f64      ┆ ---       │\n",
              "│            ┆           ┆           ┆ ---       ┆   ┆ f64       ┆          ┆          ┆ f64       │\n",
              "│            ┆           ┆           ┆ f64       ┆   ┆           ┆          ┆          ┆           │\n",
              "╞════════════╪═══════════╪═══════════╪═══════════╪═══╪═══════════╪══════════╪══════════╪═══════════╡\n",
              "│ count      ┆ 2870      ┆ 2870.0    ┆ 2870.0    ┆ … ┆ 2870.0    ┆ 2870.0   ┆ 2870.0   ┆ 2870.0    │\n",
              "│ null_count ┆ 0         ┆ 0.0       ┆ 0.0       ┆ … ┆ 0.0       ┆ 0.0      ┆ 0.0      ┆ 0.0       │\n",
              "│ mean       ┆ null      ┆ 4.0       ┆ 74.951927 ┆ … ┆ 0.54947   ┆ 1.966551 ┆ 0.841592 ┆ 23.863066 │\n",
              "│ std        ┆ null      ┆ 0.0       ┆ 53.875964 ┆ … ┆ 0.235063  ┆ 2.61846  ┆ 3.015392 ┆ 11.064927 │\n",
              "│ min        ┆ CHEMBL100 ┆ 4.0       ┆ 0.0       ┆ … ┆ 0.0       ┆ -10.11   ┆ -17.92   ┆ 0.0       │\n",
              "│            ┆ 0         ┆           ┆           ┆   ┆           ┆          ┆          ┆           │\n",
              "│ 25%        ┆ null      ┆ 4.0       ┆ 37.61     ┆ … ┆ 0.39      ┆ 0.34     ┆ -0.63    ┆ 17.0      │\n",
              "│ 50%        ┆ null      ┆ 4.0       ┆ 65.78     ┆ … ┆ 0.58      ┆ 2.29     ┆ 1.12     ┆ 23.0      │\n",
              "│ 75%        ┆ null      ┆ 4.0       ┆ 100.9     ┆ … ┆ 0.74      ┆ 3.73     ┆ 2.75     ┆ 30.0      │\n",
              "│ max        ┆ CHEMBL999 ┆ 4.0       ┆ 359.42    ┆ … ┆ 0.94      ┆ 11.62    ┆ 11.62    ┆ 69.0      │\n",
              "│            ┆ 46        ┆           ┆           ┆   ┆           ┆          ┆          ┆           │\n",
              "└────────────┴───────────┴───────────┴───────────┴───┴───────────┴──────────┴──────────┴───────────┘"
            ]
          },
          "execution_count": 11,
          "metadata": {},
          "output_type": "execute_result"
        }
      ],
      "source": [
        "df_4.describe()"
      ]
    },
    {
      "cell_type": "markdown",
      "metadata": {},
      "source": [
        "I have to go back to the first post at this point to change the data restriction criteria for the parquet file as I've found out in this step above that if I restrict data via inorganic flags, then it'll remove a lot of compounds with calculated physicochemical properties (because most of the ones in the data are preclinical compounds with inorganic flag of -1 or max phase 0 compounds; inorganic flag of 1 is inorganic ones and 0 should be the non-inorganic ones - I've updated its definition above too after re-checking the ChEMBL schema). For now, I'm restricting data via removing compounds with zero targets rather than via the inorganic flag, and this leaves us a set of max phase 4 compounds with their physicochemical properties calculated in ChEMBL (which is needed for training the model in the next post).\n",
        "\n",
        "<br>\n",
        "\n",
        "###### **Re-sampling via under-sampling - dealing with imbalanced dataset**\n",
        "\n",
        "Because of the presence of a large number of max phase 0 compounds (1,826,345 molecules) and the relatively smaller number of max phase 4 compounds (2,870 molecules) in the original dataset, I'm going to randomly sample 2800 small molecules from the max phase 0 group to balance out the ratio of max phase 0 versus max phase 4 compounds. This will allow us to have a similar amount of data in each group to avoid a very imbalanced dataset.\n",
        "\n",
        "::: {.callout-note}\n",
        "For an alternative and likely a better way to deal with imbalanced datasets, please see [my later post](https://jhylin.github.io/Data_in_life_blog/posts/17_ML2-2_Random_forest/2_random_forest_classifier.html#model-building)  that attempts to use a \"generalized threshold shifting\" method.\n",
        ":::"
      ]
    },
    {
      "cell_type": "code",
      "execution_count": 12,
      "metadata": {},
      "outputs": [
        {
          "data": {
            "text/html": [
              "<div><style>\n",
              ".dataframe > thead > tr,\n",
              ".dataframe > tbody > tr {\n",
              "  text-align: right;\n",
              "  white-space: pre-wrap;\n",
              "}\n",
              "</style>\n",
              "<small>shape: (2_800, 10)</small><table border=\"1\" class=\"dataframe\"><thead><tr><th>ChEMBL ID</th><th>Max Phase</th><th>Polar Surface Area</th><th>HBA</th><th>HBD</th><th>#RO5 Violations</th><th>QED Weighted</th><th>CX LogP</th><th>CX LogD</th><th>Heavy Atoms</th></tr><tr><td>str</td><td>i64</td><td>f64</td><td>i64</td><td>i64</td><td>i64</td><td>f64</td><td>f64</td><td>f64</td><td>i64</td></tr></thead><tbody><tr><td>&quot;CHEMBL1420527&quot;</td><td>0</td><td>66.81</td><td>4</td><td>1</td><td>0</td><td>0.47</td><td>3.94</td><td>3.94</td><td>32</td></tr><tr><td>&quot;CHEMBL1878707&quot;</td><td>0</td><td>62.55</td><td>3</td><td>1</td><td>0</td><td>0.93</td><td>3.38</td><td>3.38</td><td>25</td></tr><tr><td>&quot;CHEMBL3971884&quot;</td><td>0</td><td>73.86</td><td>5</td><td>1</td><td>2</td><td>0.12</td><td>9.34</td><td>9.34</td><td>40</td></tr><tr><td>&quot;CHEMBL3438846&quot;</td><td>0</td><td>84.22</td><td>4</td><td>2</td><td>0</td><td>0.76</td><td>2.01</td><td>-0.19</td><td>26</td></tr><tr><td>&quot;CHEMBL1819378&quot;</td><td>0</td><td>40.46</td><td>4</td><td>0</td><td>0</td><td>0.62</td><td>4.0</td><td>4.0</td><td>26</td></tr><tr><td>&hellip;</td><td>&hellip;</td><td>&hellip;</td><td>&hellip;</td><td>&hellip;</td><td>&hellip;</td><td>&hellip;</td><td>&hellip;</td><td>&hellip;</td><td>&hellip;</td></tr><tr><td>&quot;CHEMBL2145354&quot;</td><td>0</td><td>84.67</td><td>5</td><td>1</td><td>0</td><td>0.68</td><td>3.51</td><td>3.51</td><td>30</td></tr><tr><td>&quot;CHEMBL3926224&quot;</td><td>0</td><td>87.15</td><td>5</td><td>1</td><td>2</td><td>0.33</td><td>2.51</td><td>2.51</td><td>38</td></tr><tr><td>&quot;CHEMBL3448203&quot;</td><td>0</td><td>86.37</td><td>4</td><td>1</td><td>0</td><td>0.88</td><td>1.7</td><td>1.7</td><td>26</td></tr><tr><td>&quot;CHEMBL1478078&quot;</td><td>0</td><td>37.38</td><td>2</td><td>0</td><td>0</td><td>0.74</td><td>2.9</td><td>2.9</td><td>20</td></tr><tr><td>&quot;CHEMBL3105607&quot;</td><td>0</td><td>64.99</td><td>5</td><td>1</td><td>0</td><td>0.68</td><td>4.15</td><td>4.15</td><td>28</td></tr></tbody></table></div>"
            ],
            "text/plain": [
              "shape: (2_800, 10)\n",
              "┌────────────────┬───────────┬─────────┬─────┬───┬───────────────┬─────────┬─────────┬─────────────┐\n",
              "│ ChEMBL ID      ┆ Max Phase ┆ Polar   ┆ HBA ┆ … ┆ QED Weighted  ┆ CX LogP ┆ CX LogD ┆ Heavy Atoms │\n",
              "│ ---            ┆ ---       ┆ Surface ┆ --- ┆   ┆ ---           ┆ ---     ┆ ---     ┆ ---         │\n",
              "│ str            ┆ i64       ┆ Area    ┆ i64 ┆   ┆ f64           ┆ f64     ┆ f64     ┆ i64         │\n",
              "│                ┆           ┆ ---     ┆     ┆   ┆               ┆         ┆         ┆             │\n",
              "│                ┆           ┆ f64     ┆     ┆   ┆               ┆         ┆         ┆             │\n",
              "╞════════════════╪═══════════╪═════════╪═════╪═══╪═══════════════╪═════════╪═════════╪═════════════╡\n",
              "│ CHEMBL1420527  ┆ 0         ┆ 66.81   ┆ 4   ┆ … ┆ 0.47          ┆ 3.94    ┆ 3.94    ┆ 32          │\n",
              "│ CHEMBL1878707  ┆ 0         ┆ 62.55   ┆ 3   ┆ … ┆ 0.93          ┆ 3.38    ┆ 3.38    ┆ 25          │\n",
              "│ CHEMBL3971884  ┆ 0         ┆ 73.86   ┆ 5   ┆ … ┆ 0.12          ┆ 9.34    ┆ 9.34    ┆ 40          │\n",
              "│ CHEMBL3438846  ┆ 0         ┆ 84.22   ┆ 4   ┆ … ┆ 0.76          ┆ 2.01    ┆ -0.19   ┆ 26          │\n",
              "│ CHEMBL1819378  ┆ 0         ┆ 40.46   ┆ 4   ┆ … ┆ 0.62          ┆ 4.0     ┆ 4.0     ┆ 26          │\n",
              "│ …              ┆ …         ┆ …       ┆ …   ┆ … ┆ …             ┆ …       ┆ …       ┆ …           │\n",
              "│ CHEMBL2145354  ┆ 0         ┆ 84.67   ┆ 5   ┆ … ┆ 0.68          ┆ 3.51    ┆ 3.51    ┆ 30          │\n",
              "│ CHEMBL3926224  ┆ 0         ┆ 87.15   ┆ 5   ┆ … ┆ 0.33          ┆ 2.51    ┆ 2.51    ┆ 38          │\n",
              "│ CHEMBL3448203  ┆ 0         ┆ 86.37   ┆ 4   ┆ … ┆ 0.88          ┆ 1.7     ┆ 1.7     ┆ 26          │\n",
              "│ CHEMBL1478078  ┆ 0         ┆ 37.38   ┆ 2   ┆ … ┆ 0.74          ┆ 2.9     ┆ 2.9     ┆ 20          │\n",
              "│ CHEMBL3105607  ┆ 0         ┆ 64.99   ┆ 5   ┆ … ┆ 0.68          ┆ 4.15    ┆ 4.15    ┆ 28          │\n",
              "└────────────────┴───────────┴─────────┴─────┴───┴───────────────┴─────────┴─────────┴─────────────┘"
            ]
          },
          "execution_count": 12,
          "metadata": {},
          "output_type": "execute_result"
        }
      ],
      "source": [
        "df_0 = df_0.sample(n = 2800, shuffle = True, seed = 0)\n",
        "df_0"
      ]
    },
    {
      "cell_type": "markdown",
      "metadata": {},
      "source": [
        "Since the plan is to use LR method for the ML model, the y variable I'm interested in is going to be a binary categorical variable - meaning it needs to be 0 (not approved) or 1 (approved). To do this, I'm going to add a new column with a new name of \"Max_Phase\" and replace \"4\" as \"1\" by dividing the whole column by 4 to reach this new label in the max phase 4 dataset.\n",
        "\n",
        "Then I'm changing the data type of \"Max_Phase\" from float to integer, so that the two different dataframes can be concatenated (which will only work if both are of the same data types)."
      ]
    },
    {
      "cell_type": "code",
      "execution_count": 13,
      "metadata": {},
      "outputs": [
        {
          "data": {
            "text/html": [
              "<div><style>\n",
              ".dataframe > thead > tr,\n",
              ".dataframe > tbody > tr {\n",
              "  text-align: right;\n",
              "  white-space: pre-wrap;\n",
              "}\n",
              "</style>\n",
              "<small>shape: (2_870, 11)</small><table border=\"1\" class=\"dataframe\"><thead><tr><th>ChEMBL ID</th><th>Max Phase</th><th>Polar Surface Area</th><th>HBA</th><th>HBD</th><th>#RO5 Violations</th><th>QED Weighted</th><th>CX LogP</th><th>CX LogD</th><th>Heavy Atoms</th><th>Max_Phase</th></tr><tr><td>str</td><td>i64</td><td>f64</td><td>i64</td><td>i64</td><td>i64</td><td>f64</td><td>f64</td><td>f64</td><td>i64</td><td>i64</td></tr></thead><tbody><tr><td>&quot;CHEMBL1200675&quot;</td><td>4</td><td>12.47</td><td>2</td><td>0</td><td>1</td><td>0.31</td><td>6.27</td><td>4.89</td><td>29</td><td>1</td></tr><tr><td>&quot;CHEMBL1200436&quot;</td><td>4</td><td>46.53</td><td>3</td><td>1</td><td>0</td><td>0.7</td><td>2.95</td><td>2.95</td><td>22</td><td>1</td></tr><tr><td>&quot;CHEMBL1096882&quot;</td><td>4</td><td>186.07</td><td>10</td><td>5</td><td>0</td><td>0.31</td><td>-1.97</td><td>-5.12</td><td>24</td><td>1</td></tr><tr><td>&quot;CHEMBL256997&quot;</td><td>4</td><td>76.22</td><td>4</td><td>1</td><td>0</td><td>0.8</td><td>3.92</td><td>0.68</td><td>21</td><td>1</td></tr><tr><td>&quot;CHEMBL2023898&quot;</td><td>4</td><td>174.64</td><td>8</td><td>4</td><td>2</td><td>0.14</td><td>4.18</td><td>4.16</td><td>54</td><td>1</td></tr><tr><td>&hellip;</td><td>&hellip;</td><td>&hellip;</td><td>&hellip;</td><td>&hellip;</td><td>&hellip;</td><td>&hellip;</td><td>&hellip;</td><td>&hellip;</td><td>&hellip;</td><td>&hellip;</td></tr><tr><td>&quot;CHEMBL1619785&quot;</td><td>4</td><td>128.03</td><td>8</td><td>2</td><td>0</td><td>0.49</td><td>2.09</td><td>1.86</td><td>34</td><td>1</td></tr><tr><td>&quot;CHEMBL4297142&quot;</td><td>4</td><td>0.0</td><td>0</td><td>0</td><td>0</td><td>0.0</td><td>0.0</td><td>0.0</td><td>0</td><td>1</td></tr><tr><td>&quot;CHEMBL2364639&quot;</td><td>4</td><td>74.02</td><td>6</td><td>1</td><td>0</td><td>0.68</td><td>3.65</td><td>2.3</td><td>30</td><td>1</td></tr><tr><td>&quot;CHEMBL1232131&quot;</td><td>4</td><td>94.83</td><td>4</td><td>3</td><td>0</td><td>0.44</td><td>1.2</td><td>-1.18</td><td>12</td><td>1</td></tr><tr><td>&quot;CHEMBL3989949&quot;</td><td>4</td><td>95.92</td><td>6</td><td>1</td><td>0</td><td>0.9</td><td>1.66</td><td>1.66</td><td>18</td><td>1</td></tr></tbody></table></div>"
            ],
            "text/plain": [
              "shape: (2_870, 11)\n",
              "┌───────────────┬───────────┬──────────────┬─────┬───┬─────────┬─────────┬─────────────┬───────────┐\n",
              "│ ChEMBL ID     ┆ Max Phase ┆ Polar        ┆ HBA ┆ … ┆ CX LogP ┆ CX LogD ┆ Heavy Atoms ┆ Max_Phase │\n",
              "│ ---           ┆ ---       ┆ Surface Area ┆ --- ┆   ┆ ---     ┆ ---     ┆ ---         ┆ ---       │\n",
              "│ str           ┆ i64       ┆ ---          ┆ i64 ┆   ┆ f64     ┆ f64     ┆ i64         ┆ i64       │\n",
              "│               ┆           ┆ f64          ┆     ┆   ┆         ┆         ┆             ┆           │\n",
              "╞═══════════════╪═══════════╪══════════════╪═════╪═══╪═════════╪═════════╪═════════════╪═══════════╡\n",
              "│ CHEMBL1200675 ┆ 4         ┆ 12.47        ┆ 2   ┆ … ┆ 6.27    ┆ 4.89    ┆ 29          ┆ 1         │\n",
              "│ CHEMBL1200436 ┆ 4         ┆ 46.53        ┆ 3   ┆ … ┆ 2.95    ┆ 2.95    ┆ 22          ┆ 1         │\n",
              "│ CHEMBL1096882 ┆ 4         ┆ 186.07       ┆ 10  ┆ … ┆ -1.97   ┆ -5.12   ┆ 24          ┆ 1         │\n",
              "│ CHEMBL256997  ┆ 4         ┆ 76.22        ┆ 4   ┆ … ┆ 3.92    ┆ 0.68    ┆ 21          ┆ 1         │\n",
              "│ CHEMBL2023898 ┆ 4         ┆ 174.64       ┆ 8   ┆ … ┆ 4.18    ┆ 4.16    ┆ 54          ┆ 1         │\n",
              "│ …             ┆ …         ┆ …            ┆ …   ┆ … ┆ …       ┆ …       ┆ …           ┆ …         │\n",
              "│ CHEMBL1619785 ┆ 4         ┆ 128.03       ┆ 8   ┆ … ┆ 2.09    ┆ 1.86    ┆ 34          ┆ 1         │\n",
              "│ CHEMBL4297142 ┆ 4         ┆ 0.0          ┆ 0   ┆ … ┆ 0.0     ┆ 0.0     ┆ 0           ┆ 1         │\n",
              "│ CHEMBL2364639 ┆ 4         ┆ 74.02        ┆ 6   ┆ … ┆ 3.65    ┆ 2.3     ┆ 30          ┆ 1         │\n",
              "│ CHEMBL1232131 ┆ 4         ┆ 94.83        ┆ 4   ┆ … ┆ 1.2     ┆ -1.18   ┆ 12          ┆ 1         │\n",
              "│ CHEMBL3989949 ┆ 4         ┆ 95.92        ┆ 6   ┆ … ┆ 1.66    ┆ 1.66    ┆ 18          ┆ 1         │\n",
              "└───────────────┴───────────┴──────────────┴─────┴───┴─────────┴─────────┴─────────────┴───────────┘"
            ]
          },
          "execution_count": 13,
          "metadata": {},
          "output_type": "execute_result"
        }
      ],
      "source": [
        "df_4 = df_4.with_columns((pl.col(\"Max Phase\") / 4).alias(\"Max_Phase\")).cast({\"Max_Phase\": pl.Int64})\n",
        "df_4"
      ]
    },
    {
      "cell_type": "markdown",
      "metadata": {},
      "source": [
        "I'm also going to create a new column with the same name of \"Max_Phase\" in the max phase 0 dataframe, so that the two dataframes can be combined."
      ]
    },
    {
      "cell_type": "code",
      "execution_count": 14,
      "metadata": {},
      "outputs": [
        {
          "data": {
            "text/html": [
              "<div><style>\n",
              ".dataframe > thead > tr,\n",
              ".dataframe > tbody > tr {\n",
              "  text-align: right;\n",
              "  white-space: pre-wrap;\n",
              "}\n",
              "</style>\n",
              "<small>shape: (2_800, 11)</small><table border=\"1\" class=\"dataframe\"><thead><tr><th>ChEMBL ID</th><th>Max Phase</th><th>Polar Surface Area</th><th>HBA</th><th>HBD</th><th>#RO5 Violations</th><th>QED Weighted</th><th>CX LogP</th><th>CX LogD</th><th>Heavy Atoms</th><th>Max_Phase</th></tr><tr><td>str</td><td>i64</td><td>f64</td><td>i64</td><td>i64</td><td>i64</td><td>f64</td><td>f64</td><td>f64</td><td>i64</td><td>i64</td></tr></thead><tbody><tr><td>&quot;CHEMBL1420527&quot;</td><td>0</td><td>66.81</td><td>4</td><td>1</td><td>0</td><td>0.47</td><td>3.94</td><td>3.94</td><td>32</td><td>0</td></tr><tr><td>&quot;CHEMBL1878707&quot;</td><td>0</td><td>62.55</td><td>3</td><td>1</td><td>0</td><td>0.93</td><td>3.38</td><td>3.38</td><td>25</td><td>0</td></tr><tr><td>&quot;CHEMBL3971884&quot;</td><td>0</td><td>73.86</td><td>5</td><td>1</td><td>2</td><td>0.12</td><td>9.34</td><td>9.34</td><td>40</td><td>0</td></tr><tr><td>&quot;CHEMBL3438846&quot;</td><td>0</td><td>84.22</td><td>4</td><td>2</td><td>0</td><td>0.76</td><td>2.01</td><td>-0.19</td><td>26</td><td>0</td></tr><tr><td>&quot;CHEMBL1819378&quot;</td><td>0</td><td>40.46</td><td>4</td><td>0</td><td>0</td><td>0.62</td><td>4.0</td><td>4.0</td><td>26</td><td>0</td></tr><tr><td>&hellip;</td><td>&hellip;</td><td>&hellip;</td><td>&hellip;</td><td>&hellip;</td><td>&hellip;</td><td>&hellip;</td><td>&hellip;</td><td>&hellip;</td><td>&hellip;</td><td>&hellip;</td></tr><tr><td>&quot;CHEMBL2145354&quot;</td><td>0</td><td>84.67</td><td>5</td><td>1</td><td>0</td><td>0.68</td><td>3.51</td><td>3.51</td><td>30</td><td>0</td></tr><tr><td>&quot;CHEMBL3926224&quot;</td><td>0</td><td>87.15</td><td>5</td><td>1</td><td>2</td><td>0.33</td><td>2.51</td><td>2.51</td><td>38</td><td>0</td></tr><tr><td>&quot;CHEMBL3448203&quot;</td><td>0</td><td>86.37</td><td>4</td><td>1</td><td>0</td><td>0.88</td><td>1.7</td><td>1.7</td><td>26</td><td>0</td></tr><tr><td>&quot;CHEMBL1478078&quot;</td><td>0</td><td>37.38</td><td>2</td><td>0</td><td>0</td><td>0.74</td><td>2.9</td><td>2.9</td><td>20</td><td>0</td></tr><tr><td>&quot;CHEMBL3105607&quot;</td><td>0</td><td>64.99</td><td>5</td><td>1</td><td>0</td><td>0.68</td><td>4.15</td><td>4.15</td><td>28</td><td>0</td></tr></tbody></table></div>"
            ],
            "text/plain": [
              "shape: (2_800, 11)\n",
              "┌───────────────┬───────────┬──────────────┬─────┬───┬─────────┬─────────┬─────────────┬───────────┐\n",
              "│ ChEMBL ID     ┆ Max Phase ┆ Polar        ┆ HBA ┆ … ┆ CX LogP ┆ CX LogD ┆ Heavy Atoms ┆ Max_Phase │\n",
              "│ ---           ┆ ---       ┆ Surface Area ┆ --- ┆   ┆ ---     ┆ ---     ┆ ---         ┆ ---       │\n",
              "│ str           ┆ i64       ┆ ---          ┆ i64 ┆   ┆ f64     ┆ f64     ┆ i64         ┆ i64       │\n",
              "│               ┆           ┆ f64          ┆     ┆   ┆         ┆         ┆             ┆           │\n",
              "╞═══════════════╪═══════════╪══════════════╪═════╪═══╪═════════╪═════════╪═════════════╪═══════════╡\n",
              "│ CHEMBL1420527 ┆ 0         ┆ 66.81        ┆ 4   ┆ … ┆ 3.94    ┆ 3.94    ┆ 32          ┆ 0         │\n",
              "│ CHEMBL1878707 ┆ 0         ┆ 62.55        ┆ 3   ┆ … ┆ 3.38    ┆ 3.38    ┆ 25          ┆ 0         │\n",
              "│ CHEMBL3971884 ┆ 0         ┆ 73.86        ┆ 5   ┆ … ┆ 9.34    ┆ 9.34    ┆ 40          ┆ 0         │\n",
              "│ CHEMBL3438846 ┆ 0         ┆ 84.22        ┆ 4   ┆ … ┆ 2.01    ┆ -0.19   ┆ 26          ┆ 0         │\n",
              "│ CHEMBL1819378 ┆ 0         ┆ 40.46        ┆ 4   ┆ … ┆ 4.0     ┆ 4.0     ┆ 26          ┆ 0         │\n",
              "│ …             ┆ …         ┆ …            ┆ …   ┆ … ┆ …       ┆ …       ┆ …           ┆ …         │\n",
              "│ CHEMBL2145354 ┆ 0         ┆ 84.67        ┆ 5   ┆ … ┆ 3.51    ┆ 3.51    ┆ 30          ┆ 0         │\n",
              "│ CHEMBL3926224 ┆ 0         ┆ 87.15        ┆ 5   ┆ … ┆ 2.51    ┆ 2.51    ┆ 38          ┆ 0         │\n",
              "│ CHEMBL3448203 ┆ 0         ┆ 86.37        ┆ 4   ┆ … ┆ 1.7     ┆ 1.7     ┆ 26          ┆ 0         │\n",
              "│ CHEMBL1478078 ┆ 0         ┆ 37.38        ┆ 2   ┆ … ┆ 2.9     ┆ 2.9     ┆ 20          ┆ 0         │\n",
              "│ CHEMBL3105607 ┆ 0         ┆ 64.99        ┆ 5   ┆ … ┆ 4.15    ┆ 4.15    ┆ 28          ┆ 0         │\n",
              "└───────────────┴───────────┴──────────────┴─────┴───┴─────────┴─────────┴─────────────┴───────────┘"
            ]
          },
          "execution_count": 14,
          "metadata": {},
          "output_type": "execute_result"
        }
      ],
      "source": [
        "df_0 = df_0.with_columns((pl.col(\"Max Phase\")).alias(\"Max_Phase\"))\n",
        "df_0"
      ]
    },
    {
      "cell_type": "markdown",
      "metadata": {},
      "source": [
        "Then I'm combining df_0 (dataframe with max phase 0 compounds) and df_4 (dataframe with max phase 4 compounds)."
      ]
    },
    {
      "cell_type": "code",
      "execution_count": 15,
      "metadata": {},
      "outputs": [
        {
          "data": {
            "text/html": [
              "<div><style>\n",
              ".dataframe > thead > tr,\n",
              ".dataframe > tbody > tr {\n",
              "  text-align: right;\n",
              "  white-space: pre-wrap;\n",
              "}\n",
              "</style>\n",
              "<small>shape: (5_670, 11)</small><table border=\"1\" class=\"dataframe\"><thead><tr><th>ChEMBL ID</th><th>Max Phase</th><th>Polar Surface Area</th><th>HBA</th><th>HBD</th><th>#RO5 Violations</th><th>QED Weighted</th><th>CX LogP</th><th>CX LogD</th><th>Heavy Atoms</th><th>Max_Phase</th></tr><tr><td>str</td><td>i64</td><td>f64</td><td>i64</td><td>i64</td><td>i64</td><td>f64</td><td>f64</td><td>f64</td><td>i64</td><td>i64</td></tr></thead><tbody><tr><td>&quot;CHEMBL1420527&quot;</td><td>0</td><td>66.81</td><td>4</td><td>1</td><td>0</td><td>0.47</td><td>3.94</td><td>3.94</td><td>32</td><td>0</td></tr><tr><td>&quot;CHEMBL1878707&quot;</td><td>0</td><td>62.55</td><td>3</td><td>1</td><td>0</td><td>0.93</td><td>3.38</td><td>3.38</td><td>25</td><td>0</td></tr><tr><td>&quot;CHEMBL3971884&quot;</td><td>0</td><td>73.86</td><td>5</td><td>1</td><td>2</td><td>0.12</td><td>9.34</td><td>9.34</td><td>40</td><td>0</td></tr><tr><td>&quot;CHEMBL3438846&quot;</td><td>0</td><td>84.22</td><td>4</td><td>2</td><td>0</td><td>0.76</td><td>2.01</td><td>-0.19</td><td>26</td><td>0</td></tr><tr><td>&quot;CHEMBL1819378&quot;</td><td>0</td><td>40.46</td><td>4</td><td>0</td><td>0</td><td>0.62</td><td>4.0</td><td>4.0</td><td>26</td><td>0</td></tr><tr><td>&hellip;</td><td>&hellip;</td><td>&hellip;</td><td>&hellip;</td><td>&hellip;</td><td>&hellip;</td><td>&hellip;</td><td>&hellip;</td><td>&hellip;</td><td>&hellip;</td><td>&hellip;</td></tr><tr><td>&quot;CHEMBL1619785&quot;</td><td>4</td><td>128.03</td><td>8</td><td>2</td><td>0</td><td>0.49</td><td>2.09</td><td>1.86</td><td>34</td><td>1</td></tr><tr><td>&quot;CHEMBL4297142&quot;</td><td>4</td><td>0.0</td><td>0</td><td>0</td><td>0</td><td>0.0</td><td>0.0</td><td>0.0</td><td>0</td><td>1</td></tr><tr><td>&quot;CHEMBL2364639&quot;</td><td>4</td><td>74.02</td><td>6</td><td>1</td><td>0</td><td>0.68</td><td>3.65</td><td>2.3</td><td>30</td><td>1</td></tr><tr><td>&quot;CHEMBL1232131&quot;</td><td>4</td><td>94.83</td><td>4</td><td>3</td><td>0</td><td>0.44</td><td>1.2</td><td>-1.18</td><td>12</td><td>1</td></tr><tr><td>&quot;CHEMBL3989949&quot;</td><td>4</td><td>95.92</td><td>6</td><td>1</td><td>0</td><td>0.9</td><td>1.66</td><td>1.66</td><td>18</td><td>1</td></tr></tbody></table></div>"
            ],
            "text/plain": [
              "shape: (5_670, 11)\n",
              "┌───────────────┬───────────┬──────────────┬─────┬───┬─────────┬─────────┬─────────────┬───────────┐\n",
              "│ ChEMBL ID     ┆ Max Phase ┆ Polar        ┆ HBA ┆ … ┆ CX LogP ┆ CX LogD ┆ Heavy Atoms ┆ Max_Phase │\n",
              "│ ---           ┆ ---       ┆ Surface Area ┆ --- ┆   ┆ ---     ┆ ---     ┆ ---         ┆ ---       │\n",
              "│ str           ┆ i64       ┆ ---          ┆ i64 ┆   ┆ f64     ┆ f64     ┆ i64         ┆ i64       │\n",
              "│               ┆           ┆ f64          ┆     ┆   ┆         ┆         ┆             ┆           │\n",
              "╞═══════════════╪═══════════╪══════════════╪═════╪═══╪═════════╪═════════╪═════════════╪═══════════╡\n",
              "│ CHEMBL1420527 ┆ 0         ┆ 66.81        ┆ 4   ┆ … ┆ 3.94    ┆ 3.94    ┆ 32          ┆ 0         │\n",
              "│ CHEMBL1878707 ┆ 0         ┆ 62.55        ┆ 3   ┆ … ┆ 3.38    ┆ 3.38    ┆ 25          ┆ 0         │\n",
              "│ CHEMBL3971884 ┆ 0         ┆ 73.86        ┆ 5   ┆ … ┆ 9.34    ┆ 9.34    ┆ 40          ┆ 0         │\n",
              "│ CHEMBL3438846 ┆ 0         ┆ 84.22        ┆ 4   ┆ … ┆ 2.01    ┆ -0.19   ┆ 26          ┆ 0         │\n",
              "│ CHEMBL1819378 ┆ 0         ┆ 40.46        ┆ 4   ┆ … ┆ 4.0     ┆ 4.0     ┆ 26          ┆ 0         │\n",
              "│ …             ┆ …         ┆ …            ┆ …   ┆ … ┆ …       ┆ …       ┆ …           ┆ …         │\n",
              "│ CHEMBL1619785 ┆ 4         ┆ 128.03       ┆ 8   ┆ … ┆ 2.09    ┆ 1.86    ┆ 34          ┆ 1         │\n",
              "│ CHEMBL4297142 ┆ 4         ┆ 0.0          ┆ 0   ┆ … ┆ 0.0     ┆ 0.0     ┆ 0           ┆ 1         │\n",
              "│ CHEMBL2364639 ┆ 4         ┆ 74.02        ┆ 6   ┆ … ┆ 3.65    ┆ 2.3     ┆ 30          ┆ 1         │\n",
              "│ CHEMBL1232131 ┆ 4         ┆ 94.83        ┆ 4   ┆ … ┆ 1.2     ┆ -1.18   ┆ 12          ┆ 1         │\n",
              "│ CHEMBL3989949 ┆ 4         ┆ 95.92        ┆ 6   ┆ … ┆ 1.66    ┆ 1.66    ┆ 18          ┆ 1         │\n",
              "└───────────────┴───────────┴──────────────┴─────┴───┴─────────┴─────────┴─────────────┴───────────┘"
            ]
          },
          "execution_count": 15,
          "metadata": {},
          "output_type": "execute_result"
        }
      ],
      "source": [
        "df_concat = pl.concat([df_0, df_4])\n",
        "df_concat"
      ]
    },
    {
      "cell_type": "markdown",
      "metadata": {},
      "source": [
        "This df_concat dataset is checked to see if it has all compounds in max phases 0 and 4 only. \n",
        "\n",
        "Note: max phase 4 (approved) compounds are re-labelled as Max_Phase = 1."
      ]
    },
    {
      "cell_type": "code",
      "execution_count": 16,
      "metadata": {},
      "outputs": [
        {
          "data": {
            "text/html": [
              "<div><style>\n",
              ".dataframe > thead > tr,\n",
              ".dataframe > tbody > tr {\n",
              "  text-align: right;\n",
              "  white-space: pre-wrap;\n",
              "}\n",
              "</style>\n",
              "<small>shape: (2, 2)</small><table border=\"1\" class=\"dataframe\"><thead><tr><th>Max_Phase</th><th>len</th></tr><tr><td>i64</td><td>u32</td></tr></thead><tbody><tr><td>1</td><td>2870</td></tr><tr><td>0</td><td>2800</td></tr></tbody></table></div>"
            ],
            "text/plain": [
              "shape: (2, 2)\n",
              "┌───────────┬──────┐\n",
              "│ Max_Phase ┆ len  │\n",
              "│ ---       ┆ ---  │\n",
              "│ i64       ┆ u32  │\n",
              "╞═══════════╪══════╡\n",
              "│ 1         ┆ 2870 │\n",
              "│ 0         ┆ 2800 │\n",
              "└───────────┴──────┘"
            ]
          },
          "execution_count": 16,
          "metadata": {},
          "output_type": "execute_result"
        }
      ],
      "source": [
        "df_concat.group_by(\"Max_Phase\").len()"
      ]
    },
    {
      "cell_type": "markdown",
      "metadata": {},
      "source": [
        "So here we have the final version of the dataset, renamed to df_ml to avoid confusion from the previous dataframes, before entering into the ML phase."
      ]
    },
    {
      "cell_type": "code",
      "execution_count": 17,
      "metadata": {},
      "outputs": [
        {
          "data": {
            "text/html": [
              "<div><style>\n",
              ".dataframe > thead > tr,\n",
              ".dataframe > tbody > tr {\n",
              "  text-align: right;\n",
              "  white-space: pre-wrap;\n",
              "}\n",
              "</style>\n",
              "<small>shape: (5_670, 9)</small><table border=\"1\" class=\"dataframe\"><thead><tr><th>Max_Phase</th><th>Polar Surface Area</th><th>HBA</th><th>HBD</th><th>#RO5 Violations</th><th>QED Weighted</th><th>CX LogP</th><th>CX LogD</th><th>Heavy Atoms</th></tr><tr><td>i64</td><td>f64</td><td>i64</td><td>i64</td><td>i64</td><td>f64</td><td>f64</td><td>f64</td><td>i64</td></tr></thead><tbody><tr><td>0</td><td>66.81</td><td>4</td><td>1</td><td>0</td><td>0.47</td><td>3.94</td><td>3.94</td><td>32</td></tr><tr><td>0</td><td>62.55</td><td>3</td><td>1</td><td>0</td><td>0.93</td><td>3.38</td><td>3.38</td><td>25</td></tr><tr><td>0</td><td>73.86</td><td>5</td><td>1</td><td>2</td><td>0.12</td><td>9.34</td><td>9.34</td><td>40</td></tr><tr><td>0</td><td>84.22</td><td>4</td><td>2</td><td>0</td><td>0.76</td><td>2.01</td><td>-0.19</td><td>26</td></tr><tr><td>0</td><td>40.46</td><td>4</td><td>0</td><td>0</td><td>0.62</td><td>4.0</td><td>4.0</td><td>26</td></tr><tr><td>&hellip;</td><td>&hellip;</td><td>&hellip;</td><td>&hellip;</td><td>&hellip;</td><td>&hellip;</td><td>&hellip;</td><td>&hellip;</td><td>&hellip;</td></tr><tr><td>1</td><td>128.03</td><td>8</td><td>2</td><td>0</td><td>0.49</td><td>2.09</td><td>1.86</td><td>34</td></tr><tr><td>1</td><td>0.0</td><td>0</td><td>0</td><td>0</td><td>0.0</td><td>0.0</td><td>0.0</td><td>0</td></tr><tr><td>1</td><td>74.02</td><td>6</td><td>1</td><td>0</td><td>0.68</td><td>3.65</td><td>2.3</td><td>30</td></tr><tr><td>1</td><td>94.83</td><td>4</td><td>3</td><td>0</td><td>0.44</td><td>1.2</td><td>-1.18</td><td>12</td></tr><tr><td>1</td><td>95.92</td><td>6</td><td>1</td><td>0</td><td>0.9</td><td>1.66</td><td>1.66</td><td>18</td></tr></tbody></table></div>"
            ],
            "text/plain": [
              "shape: (5_670, 9)\n",
              "┌───────────┬────────────────────┬─────┬─────┬───┬──────────────┬─────────┬─────────┬─────────────┐\n",
              "│ Max_Phase ┆ Polar Surface Area ┆ HBA ┆ HBD ┆ … ┆ QED Weighted ┆ CX LogP ┆ CX LogD ┆ Heavy Atoms │\n",
              "│ ---       ┆ ---                ┆ --- ┆ --- ┆   ┆ ---          ┆ ---     ┆ ---     ┆ ---         │\n",
              "│ i64       ┆ f64                ┆ i64 ┆ i64 ┆   ┆ f64          ┆ f64     ┆ f64     ┆ i64         │\n",
              "╞═══════════╪════════════════════╪═════╪═════╪═══╪══════════════╪═════════╪═════════╪═════════════╡\n",
              "│ 0         ┆ 66.81              ┆ 4   ┆ 1   ┆ … ┆ 0.47         ┆ 3.94    ┆ 3.94    ┆ 32          │\n",
              "│ 0         ┆ 62.55              ┆ 3   ┆ 1   ┆ … ┆ 0.93         ┆ 3.38    ┆ 3.38    ┆ 25          │\n",
              "│ 0         ┆ 73.86              ┆ 5   ┆ 1   ┆ … ┆ 0.12         ┆ 9.34    ┆ 9.34    ┆ 40          │\n",
              "│ 0         ┆ 84.22              ┆ 4   ┆ 2   ┆ … ┆ 0.76         ┆ 2.01    ┆ -0.19   ┆ 26          │\n",
              "│ 0         ┆ 40.46              ┆ 4   ┆ 0   ┆ … ┆ 0.62         ┆ 4.0     ┆ 4.0     ┆ 26          │\n",
              "│ …         ┆ …                  ┆ …   ┆ …   ┆ … ┆ …            ┆ …       ┆ …       ┆ …           │\n",
              "│ 1         ┆ 128.03             ┆ 8   ┆ 2   ┆ … ┆ 0.49         ┆ 2.09    ┆ 1.86    ┆ 34          │\n",
              "│ 1         ┆ 0.0                ┆ 0   ┆ 0   ┆ … ┆ 0.0          ┆ 0.0     ┆ 0.0     ┆ 0           │\n",
              "│ 1         ┆ 74.02              ┆ 6   ┆ 1   ┆ … ┆ 0.68         ┆ 3.65    ┆ 2.3     ┆ 30          │\n",
              "│ 1         ┆ 94.83              ┆ 4   ┆ 3   ┆ … ┆ 0.44         ┆ 1.2     ┆ -1.18   ┆ 12          │\n",
              "│ 1         ┆ 95.92              ┆ 6   ┆ 1   ┆ … ┆ 0.9          ┆ 1.66    ┆ 1.66    ┆ 18          │\n",
              "└───────────┴────────────────────┴─────┴─────┴───┴──────────────┴─────────┴─────────┴─────────────┘"
            ]
          },
          "execution_count": 17,
          "metadata": {},
          "output_type": "execute_result"
        }
      ],
      "source": [
        "df_ml = df_concat.select([\n",
        "  \"Max_Phase\", \n",
        "  \"Polar Surface Area\",\n",
        "  \"HBA\",\n",
        "  \"HBD\",\n",
        "  \"#RO5 Violations\", \n",
        "  \"QED Weighted\", \n",
        "  \"CX LogP\", \n",
        "  \"CX LogD\", \n",
        "  \"Heavy Atoms\"\n",
        "  ])\n",
        "df_ml"
      ]
    },
    {
      "cell_type": "markdown",
      "metadata": {},
      "source": [
        "I'm just checking for any nulls in the final dataset (should be none as I've filled all nulls in one of the steps above)."
      ]
    },
    {
      "cell_type": "code",
      "execution_count": 18,
      "metadata": {},
      "outputs": [
        {
          "data": {
            "text/html": [
              "<div><style>\n",
              ".dataframe > thead > tr,\n",
              ".dataframe > tbody > tr {\n",
              "  text-align: right;\n",
              "  white-space: pre-wrap;\n",
              "}\n",
              "</style>\n",
              "<small>shape: (1, 9)</small><table border=\"1\" class=\"dataframe\"><thead><tr><th>Max_Phase</th><th>Polar Surface Area</th><th>HBA</th><th>HBD</th><th>#RO5 Violations</th><th>QED Weighted</th><th>CX LogP</th><th>CX LogD</th><th>Heavy Atoms</th></tr><tr><td>u32</td><td>u32</td><td>u32</td><td>u32</td><td>u32</td><td>u32</td><td>u32</td><td>u32</td><td>u32</td></tr></thead><tbody><tr><td>0</td><td>0</td><td>0</td><td>0</td><td>0</td><td>0</td><td>0</td><td>0</td><td>0</td></tr></tbody></table></div>"
            ],
            "text/plain": [
              "shape: (1, 9)\n",
              "┌───────────┬────────────────────┬─────┬─────┬───┬──────────────┬─────────┬─────────┬─────────────┐\n",
              "│ Max_Phase ┆ Polar Surface Area ┆ HBA ┆ HBD ┆ … ┆ QED Weighted ┆ CX LogP ┆ CX LogD ┆ Heavy Atoms │\n",
              "│ ---       ┆ ---                ┆ --- ┆ --- ┆   ┆ ---          ┆ ---     ┆ ---     ┆ ---         │\n",
              "│ u32       ┆ u32                ┆ u32 ┆ u32 ┆   ┆ u32          ┆ u32     ┆ u32     ┆ u32         │\n",
              "╞═══════════╪════════════════════╪═════╪═════╪═══╪══════════════╪═════════╪═════════╪═════════════╡\n",
              "│ 0         ┆ 0                  ┆ 0   ┆ 0   ┆ … ┆ 0            ┆ 0       ┆ 0       ┆ 0           │\n",
              "└───────────┴────────────────────┴─────┴─────┴───┴──────────────┴─────────┴─────────┴─────────────┘"
            ]
          },
          "execution_count": 18,
          "metadata": {},
          "output_type": "execute_result"
        }
      ],
      "source": [
        "df_ml.null_count()"
      ]
    },
    {
      "cell_type": "markdown",
      "metadata": {},
      "source": [
        "Also, I'm checking the data types in df_ml dataset to make sure they're all integers or floats for scikit-learn algorithms to work."
      ]
    },
    {
      "cell_type": "code",
      "execution_count": 19,
      "metadata": {},
      "outputs": [
        {
          "data": {
            "text/plain": [
              "[Int64, Float64, Int64, Int64, Int64, Float64, Float64, Float64, Int64]"
            ]
          },
          "execution_count": 19,
          "metadata": {},
          "output_type": "execute_result"
        }
      ],
      "source": [
        "# also shown in the dataframe below the column names\n",
        "df_ml.dtypes"
      ]
    },
    {
      "cell_type": "markdown",
      "metadata": {},
      "source": [
        "Then finally I'm saving this tidied dataset as a separate .csv file for use in the next post."
      ]
    },
    {
      "cell_type": "code",
      "execution_count": 20,
      "metadata": {},
      "outputs": [],
      "source": [
        "df_ml.write_csv(\"df_ml.csv\", separator = \",\")"
      ]
    }
  ],
  "metadata": {
    "kernelspec": {
      "display_name": "venv311",
      "language": "python",
      "name": "python3"
    },
    "language_info": {
      "codemirror_mode": {
        "name": "ipython",
        "version": 3
      },
      "file_extension": ".py",
      "mimetype": "text/x-python",
      "name": "python",
      "nbconvert_exporter": "python",
      "pygments_lexer": "ipython3",
      "version": "3.11.0"
    }
  },
  "nbformat": 4,
  "nbformat_minor": 4
}
